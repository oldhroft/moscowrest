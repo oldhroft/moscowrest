{
 "cells": [
  {
   "cell_type": "code",
   "execution_count": 1,
   "metadata": {},
   "outputs": [],
   "source": [
    "import pandas as pd"
   ]
  },
  {
   "cell_type": "code",
   "execution_count": 2,
   "metadata": {},
   "outputs": [
    {
     "name": "stdout",
     "output_type": "stream",
     "text": [
      "moscow_restoraunts.csv          mosdata_dataset1903.csv\n",
      "moscow_restoraunts_detailed.csv mosdata_dataset1903.json\n"
     ]
    }
   ],
   "source": [
    "!ls ../data/stg"
   ]
  },
  {
   "cell_type": "code",
   "execution_count": 3,
   "metadata": {},
   "outputs": [],
   "source": [
    "data = pd.read_csv(\"../data/stg/moscow_restoraunts.csv\")"
   ]
  },
  {
   "cell_type": "code",
   "execution_count": 4,
   "metadata": {},
   "outputs": [
    {
     "data": {
      "text/html": [
       "<div>\n",
       "<style scoped>\n",
       "    .dataframe tbody tr th:only-of-type {\n",
       "        vertical-align: middle;\n",
       "    }\n",
       "\n",
       "    .dataframe tbody tr th {\n",
       "        vertical-align: top;\n",
       "    }\n",
       "\n",
       "    .dataframe thead th {\n",
       "        text-align: right;\n",
       "    }\n",
       "</style>\n",
       "<table border=\"1\" class=\"dataframe\">\n",
       "  <thead>\n",
       "    <tr style=\"text-align: right;\">\n",
       "      <th></th>\n",
       "      <th>url</th>\n",
       "      <th>dttm</th>\n",
       "      <th>title</th>\n",
       "      <th>rating</th>\n",
       "      <th>cuisine</th>\n",
       "      <th>phone</th>\n",
       "      <th>link</th>\n",
       "      <th>city</th>\n",
       "      <th>address</th>\n",
       "    </tr>\n",
       "  </thead>\n",
       "  <tbody>\n",
       "    <tr>\n",
       "      <th>0</th>\n",
       "      <td>https://www.moscow-restaurants.ru/restaurants/...</td>\n",
       "      <td>2022-09-03 22:26:48</td>\n",
       "      <td>Goodbeef на Черкасском переулке</td>\n",
       "      <td>0</td>\n",
       "      <td>Европейская кухня</td>\n",
       "      <td>(495) 220 13 20</td>\n",
       "      <td>https://www.moscow-restaurants.ru/restaurants/...</td>\n",
       "      <td>Москва</td>\n",
       "      <td>Б.Черкасский пер., 15–17, стр. 1</td>\n",
       "    </tr>\n",
       "    <tr>\n",
       "      <th>1</th>\n",
       "      <td>https://www.moscow-restaurants.ru/restaurants/...</td>\n",
       "      <td>2022-09-03 22:26:48</td>\n",
       "      <td>Каре</td>\n",
       "      <td>0</td>\n",
       "      <td>Грузинская кухня</td>\n",
       "      <td>(499) 129 28 02</td>\n",
       "      <td>https://www.moscow-restaurants.ru/restaurants/...</td>\n",
       "      <td>Москва</td>\n",
       "      <td>Дмитрия Ульянова, 42, стр. 1</td>\n",
       "    </tr>\n",
       "    <tr>\n",
       "      <th>2</th>\n",
       "      <td>https://www.moscow-restaurants.ru/restaurants/...</td>\n",
       "      <td>2022-09-03 22:26:48</td>\n",
       "      <td>Элефант</td>\n",
       "      <td>0</td>\n",
       "      <td>Европейская кухня</td>\n",
       "      <td>(495) 694 54 92</td>\n",
       "      <td>https://www.moscow-restaurants.ru/restaurants/...</td>\n",
       "      <td>Москва</td>\n",
       "      <td>2-й Колобовский пер., 12</td>\n",
       "    </tr>\n",
       "    <tr>\n",
       "      <th>3</th>\n",
       "      <td>https://www.moscow-restaurants.ru/restaurants/...</td>\n",
       "      <td>2022-09-03 22:26:48</td>\n",
       "      <td>Kitchen в Одинцово</td>\n",
       "      <td>0</td>\n",
       "      <td>Европейская кухня</td>\n",
       "      <td>925 679 59 59</td>\n",
       "      <td>https://www.moscow-restaurants.ru/restaurants/...</td>\n",
       "      <td>Москва</td>\n",
       "      <td>Можайское ш., 76а</td>\n",
       "    </tr>\n",
       "    <tr>\n",
       "      <th>4</th>\n",
       "      <td>https://www.moscow-restaurants.ru/restaurants/...</td>\n",
       "      <td>2022-09-03 22:26:48</td>\n",
       "      <td>Евразия на Большевиков</td>\n",
       "      <td>0</td>\n",
       "      <td>Японская кухня</td>\n",
       "      <td>(812) 587 90 35</td>\n",
       "      <td>https://www.moscow-restaurants.ru/restaurants/...</td>\n",
       "      <td>Москва</td>\n",
       "      <td>просп. Большевиков, 2</td>\n",
       "    </tr>\n",
       "  </tbody>\n",
       "</table>\n",
       "</div>"
      ],
      "text/plain": [
       "                                                 url                 dttm  \\\n",
       "0  https://www.moscow-restaurants.ru/restaurants/...  2022-09-03 22:26:48   \n",
       "1  https://www.moscow-restaurants.ru/restaurants/...  2022-09-03 22:26:48   \n",
       "2  https://www.moscow-restaurants.ru/restaurants/...  2022-09-03 22:26:48   \n",
       "3  https://www.moscow-restaurants.ru/restaurants/...  2022-09-03 22:26:48   \n",
       "4  https://www.moscow-restaurants.ru/restaurants/...  2022-09-03 22:26:48   \n",
       "\n",
       "                             title  rating            cuisine  \\\n",
       "0  Goodbeef на Черкасском переулке       0  Европейская кухня   \n",
       "1                             Каре       0   Грузинская кухня   \n",
       "2                          Элефант       0  Европейская кухня   \n",
       "3               Kitchen в Одинцово       0  Европейская кухня   \n",
       "4           Евразия на Большевиков       0     Японская кухня   \n",
       "\n",
       "              phone                                               link  \\\n",
       "0   (495) 220 13 20  https://www.moscow-restaurants.ru/restaurants/...   \n",
       "1   (499) 129 28 02  https://www.moscow-restaurants.ru/restaurants/...   \n",
       "2   (495) 694 54 92  https://www.moscow-restaurants.ru/restaurants/...   \n",
       "3     925 679 59 59  https://www.moscow-restaurants.ru/restaurants/...   \n",
       "4   (812) 587 90 35  https://www.moscow-restaurants.ru/restaurants/...   \n",
       "\n",
       "     city                           address  \n",
       "0  Москва  Б.Черкасский пер., 15–17, стр. 1  \n",
       "1  Москва      Дмитрия Ульянова, 42, стр. 1  \n",
       "2  Москва          2-й Колобовский пер., 12  \n",
       "3  Москва                 Можайское ш., 76а  \n",
       "4  Москва             просп. Большевиков, 2  "
      ]
     },
     "execution_count": 4,
     "metadata": {},
     "output_type": "execute_result"
    }
   ],
   "source": [
    "data.drop('fname', axis=1).head()"
   ]
  },
  {
   "cell_type": "code",
   "execution_count": 5,
   "metadata": {},
   "outputs": [
    {
     "data": {
      "text/plain": [
       "'chunk_32a4cf50b040958aa9db65de300093aacb32ed52a5979fb25969de86954dfb1a.json'"
      ]
     },
     "execution_count": 5,
     "metadata": {},
     "output_type": "execute_result"
    }
   ],
   "source": [
    "data.fname.iloc[1]"
   ]
  },
  {
   "cell_type": "code",
   "execution_count": 6,
   "metadata": {},
   "outputs": [],
   "source": [
    "from src_rest.scrapying.utils import load_json\n",
    "import os"
   ]
  },
  {
   "cell_type": "code",
   "execution_count": 7,
   "metadata": {},
   "outputs": [],
   "source": [
    "s = load_json(\n",
    "    os.path.join('../data/raw/moscow_restauraunts', \n",
    "    data.fname.iloc[1]))"
   ]
  },
  {
   "cell_type": "code",
   "execution_count": 8,
   "metadata": {},
   "outputs": [
    {
     "data": {
      "text/plain": [
       "Европейская кухня     978\n",
       "Итальянская кухня     529\n",
       "Американская кухня    415\n",
       "Японская кухня        280\n",
       "Русская кухня         274\n",
       "Авторская кухня       212\n",
       "Грузинская кухня      169\n",
       "Узбекская кухня        96\n",
       "Смешанная кухня        93\n",
       "Китайская кухня        85\n",
       "Name: cuisine, dtype: int64"
      ]
     },
     "execution_count": 8,
     "metadata": {},
     "output_type": "execute_result"
    }
   ],
   "source": [
    "data.cuisine.value_counts(dropna=False).head(10)"
   ]
  },
  {
   "cell_type": "code",
   "execution_count": 9,
   "metadata": {},
   "outputs": [
    {
     "data": {
      "text/plain": [
       "Иранская кухня        1\n",
       "Пакистанская кухня    1\n",
       "NaN                   1\n",
       "Нордик кухня          1\n",
       "Белорусская кухня     1\n",
       "Веганская кухня       1\n",
       "Эстонская кухня       1\n",
       "Ирландская кухня      1\n",
       "Татарская кухня       1\n",
       "Молдавская кухня      1\n",
       "Баскская кухня        1\n",
       "Бразильская кухня     1\n",
       "Тибетская кухня       1\n",
       "Креольская кухня      1\n",
       "Швейцарская кухня     1\n",
       "Name: cuisine, dtype: int64"
      ]
     },
     "execution_count": 9,
     "metadata": {},
     "output_type": "execute_result"
    }
   ],
   "source": [
    "data.cuisine.value_counts(dropna=False).tail(15)"
   ]
  },
  {
   "cell_type": "code",
   "execution_count": 10,
   "metadata": {},
   "outputs": [
    {
     "data": {
      "text/plain": [
       "0    Б.Черкасский пер., 15–17, стр. 1\n",
       "1        Дмитрия Ульянова, 42, стр. 1\n",
       "2            2-й Колобовский пер., 12\n",
       "3                   Можайское ш., 76а\n",
       "4               просп. Большевиков, 2\n",
       "Name: address, dtype: object"
      ]
     },
     "execution_count": 10,
     "metadata": {},
     "output_type": "execute_result"
    }
   ],
   "source": [
    "data.address.head()"
   ]
  },
  {
   "cell_type": "code",
   "execution_count": 11,
   "metadata": {},
   "outputs": [
    {
     "data": {
      "text/plain": [
       "url        object\n",
       "dttm       object\n",
       "fname      object\n",
       "title      object\n",
       "rating      int64\n",
       "cuisine    object\n",
       "phone      object\n",
       "link       object\n",
       "city       object\n",
       "address    object\n",
       "dtype: object"
      ]
     },
     "execution_count": 11,
     "metadata": {},
     "output_type": "execute_result"
    }
   ],
   "source": [
    "data.dtypes"
   ]
  },
  {
   "cell_type": "code",
   "execution_count": 12,
   "metadata": {},
   "outputs": [
    {
     "data": {
      "text/plain": [
       "Москва    3880\n",
       "Name: city, dtype: int64"
      ]
     },
     "execution_count": 12,
     "metadata": {},
     "output_type": "execute_result"
    }
   ],
   "source": [
    "data.city.value_counts()"
   ]
  },
  {
   "cell_type": "code",
   "execution_count": 13,
   "metadata": {},
   "outputs": [
    {
     "data": {
      "text/plain": [
       "0    2664\n",
       "4     430\n",
       "3     353\n",
       "2     223\n",
       "5     153\n",
       "1      57\n",
       "Name: rating, dtype: int64"
      ]
     },
     "execution_count": 13,
     "metadata": {},
     "output_type": "execute_result"
    }
   ],
   "source": [
    "data.rating.value_counts()"
   ]
  },
  {
   "cell_type": "code",
   "execution_count": 14,
   "metadata": {},
   "outputs": [
    {
     "data": {
      "text/html": [
       "<div>\n",
       "<style scoped>\n",
       "    .dataframe tbody tr th:only-of-type {\n",
       "        vertical-align: middle;\n",
       "    }\n",
       "\n",
       "    .dataframe tbody tr th {\n",
       "        vertical-align: top;\n",
       "    }\n",
       "\n",
       "    .dataframe thead th {\n",
       "        text-align: right;\n",
       "    }\n",
       "</style>\n",
       "<table border=\"1\" class=\"dataframe\">\n",
       "  <thead>\n",
       "    <tr style=\"text-align: right;\">\n",
       "      <th></th>\n",
       "      <th>url</th>\n",
       "      <th>dttm</th>\n",
       "      <th>fname</th>\n",
       "      <th>title</th>\n",
       "      <th>rating</th>\n",
       "      <th>cuisine</th>\n",
       "      <th>phone</th>\n",
       "      <th>link</th>\n",
       "      <th>city</th>\n",
       "      <th>address</th>\n",
       "    </tr>\n",
       "  </thead>\n",
       "  <tbody>\n",
       "    <tr>\n",
       "      <th>0</th>\n",
       "      <td>https://www.moscow-restaurants.ru/restaurants/...</td>\n",
       "      <td>2022-09-03 22:26:48</td>\n",
       "      <td>chunk_32a4cf50b040958aa9db65de300093aacb32ed52...</td>\n",
       "      <td>Goodbeef на Черкасском переулке</td>\n",
       "      <td>0</td>\n",
       "      <td>Европейская кухня</td>\n",
       "      <td>(495) 220 13 20</td>\n",
       "      <td>https://www.moscow-restaurants.ru/restaurants/...</td>\n",
       "      <td>Москва</td>\n",
       "      <td>Б.Черкасский пер., 15–17, стр. 1</td>\n",
       "    </tr>\n",
       "    <tr>\n",
       "      <th>1</th>\n",
       "      <td>https://www.moscow-restaurants.ru/restaurants/...</td>\n",
       "      <td>2022-09-03 22:26:48</td>\n",
       "      <td>chunk_32a4cf50b040958aa9db65de300093aacb32ed52...</td>\n",
       "      <td>Каре</td>\n",
       "      <td>0</td>\n",
       "      <td>Грузинская кухня</td>\n",
       "      <td>(499) 129 28 02</td>\n",
       "      <td>https://www.moscow-restaurants.ru/restaurants/...</td>\n",
       "      <td>Москва</td>\n",
       "      <td>Дмитрия Ульянова, 42, стр. 1</td>\n",
       "    </tr>\n",
       "    <tr>\n",
       "      <th>2</th>\n",
       "      <td>https://www.moscow-restaurants.ru/restaurants/...</td>\n",
       "      <td>2022-09-03 22:26:48</td>\n",
       "      <td>chunk_32a4cf50b040958aa9db65de300093aacb32ed52...</td>\n",
       "      <td>Элефант</td>\n",
       "      <td>0</td>\n",
       "      <td>Европейская кухня</td>\n",
       "      <td>(495) 694 54 92</td>\n",
       "      <td>https://www.moscow-restaurants.ru/restaurants/...</td>\n",
       "      <td>Москва</td>\n",
       "      <td>2-й Колобовский пер., 12</td>\n",
       "    </tr>\n",
       "    <tr>\n",
       "      <th>3</th>\n",
       "      <td>https://www.moscow-restaurants.ru/restaurants/...</td>\n",
       "      <td>2022-09-03 22:26:48</td>\n",
       "      <td>chunk_32a4cf50b040958aa9db65de300093aacb32ed52...</td>\n",
       "      <td>Kitchen в Одинцово</td>\n",
       "      <td>0</td>\n",
       "      <td>Европейская кухня</td>\n",
       "      <td>925 679 59 59</td>\n",
       "      <td>https://www.moscow-restaurants.ru/restaurants/...</td>\n",
       "      <td>Москва</td>\n",
       "      <td>Можайское ш., 76а</td>\n",
       "    </tr>\n",
       "    <tr>\n",
       "      <th>4</th>\n",
       "      <td>https://www.moscow-restaurants.ru/restaurants/...</td>\n",
       "      <td>2022-09-03 22:26:48</td>\n",
       "      <td>chunk_32a4cf50b040958aa9db65de300093aacb32ed52...</td>\n",
       "      <td>Евразия на Большевиков</td>\n",
       "      <td>0</td>\n",
       "      <td>Японская кухня</td>\n",
       "      <td>(812) 587 90 35</td>\n",
       "      <td>https://www.moscow-restaurants.ru/restaurants/...</td>\n",
       "      <td>Москва</td>\n",
       "      <td>просп. Большевиков, 2</td>\n",
       "    </tr>\n",
       "    <tr>\n",
       "      <th>...</th>\n",
       "      <td>...</td>\n",
       "      <td>...</td>\n",
       "      <td>...</td>\n",
       "      <td>...</td>\n",
       "      <td>...</td>\n",
       "      <td>...</td>\n",
       "      <td>...</td>\n",
       "      <td>...</td>\n",
       "      <td>...</td>\n",
       "      <td>...</td>\n",
       "    </tr>\n",
       "    <tr>\n",
       "      <th>3868</th>\n",
       "      <td>https://www.moscow-restaurants.ru/restaurants/...</td>\n",
       "      <td>2022-09-03 22:32:54</td>\n",
       "      <td>chunk_a4205f2004bd4dba9b61b9648e0cce7602ddfe9a...</td>\n",
       "      <td>Де Марко на Краснопресненской</td>\n",
       "      <td>0</td>\n",
       "      <td>Итальянская кухня</td>\n",
       "      <td>(495) 605 31 15</td>\n",
       "      <td>https://www.moscow-restaurants.ru/restaurants/...</td>\n",
       "      <td>Москва</td>\n",
       "      <td>Краснопресненская наб., 2/1</td>\n",
       "    </tr>\n",
       "    <tr>\n",
       "      <th>3869</th>\n",
       "      <td>https://www.moscow-restaurants.ru/restaurants/...</td>\n",
       "      <td>2022-09-03 22:32:54</td>\n",
       "      <td>chunk_a4205f2004bd4dba9b61b9648e0cce7602ddfe9a...</td>\n",
       "      <td>Особняк</td>\n",
       "      <td>0</td>\n",
       "      <td>Русская кухня</td>\n",
       "      <td>(495) 912 45 46</td>\n",
       "      <td>https://www.moscow-restaurants.ru/restaurants/...</td>\n",
       "      <td>Москва</td>\n",
       "      <td>Таганская, 13, стр. 3</td>\n",
       "    </tr>\n",
       "    <tr>\n",
       "      <th>3870</th>\n",
       "      <td>https://www.moscow-restaurants.ru/restaurants/...</td>\n",
       "      <td>2022-09-03 22:32:54</td>\n",
       "      <td>chunk_a4205f2004bd4dba9b61b9648e0cce7602ddfe9a...</td>\n",
       "      <td>Крылышко или ножка на Проспекте Мира</td>\n",
       "      <td>0</td>\n",
       "      <td>Европейская кухня</td>\n",
       "      <td>916 268 51 18</td>\n",
       "      <td>https://www.moscow-restaurants.ru/restaurants/...</td>\n",
       "      <td>Москва</td>\n",
       "      <td>Мира просп., 77, корп. 2</td>\n",
       "    </tr>\n",
       "    <tr>\n",
       "      <th>3871</th>\n",
       "      <td>https://www.moscow-restaurants.ru/restaurants/...</td>\n",
       "      <td>2022-09-03 22:32:54</td>\n",
       "      <td>chunk_a4205f2004bd4dba9b61b9648e0cce7602ddfe9a...</td>\n",
       "      <td>Drink Your Seoul</td>\n",
       "      <td>0</td>\n",
       "      <td>Корейская кухня</td>\n",
       "      <td>499 340 11 85</td>\n",
       "      <td>https://www.moscow-restaurants.ru/restaurants/...</td>\n",
       "      <td>Москва</td>\n",
       "      <td>Калашный пер., 9</td>\n",
       "    </tr>\n",
       "    <tr>\n",
       "      <th>3872</th>\n",
       "      <td>https://www.moscow-restaurants.ru/restaurants/...</td>\n",
       "      <td>2022-09-03 22:32:54</td>\n",
       "      <td>chunk_a4205f2004bd4dba9b61b9648e0cce7602ddfe9a...</td>\n",
       "      <td>One Cafe Каракатица</td>\n",
       "      <td>0</td>\n",
       "      <td>Средиземноморская кухня</td>\n",
       "      <td>966 055 85 85</td>\n",
       "      <td>https://www.moscow-restaurants.ru/restaurants/...</td>\n",
       "      <td>Москва</td>\n",
       "      <td>Тишинская пл., 1, стр. 6</td>\n",
       "    </tr>\n",
       "  </tbody>\n",
       "</table>\n",
       "<p>2664 rows × 10 columns</p>\n",
       "</div>"
      ],
      "text/plain": [
       "                                                    url                 dttm  \\\n",
       "0     https://www.moscow-restaurants.ru/restaurants/...  2022-09-03 22:26:48   \n",
       "1     https://www.moscow-restaurants.ru/restaurants/...  2022-09-03 22:26:48   \n",
       "2     https://www.moscow-restaurants.ru/restaurants/...  2022-09-03 22:26:48   \n",
       "3     https://www.moscow-restaurants.ru/restaurants/...  2022-09-03 22:26:48   \n",
       "4     https://www.moscow-restaurants.ru/restaurants/...  2022-09-03 22:26:48   \n",
       "...                                                 ...                  ...   \n",
       "3868  https://www.moscow-restaurants.ru/restaurants/...  2022-09-03 22:32:54   \n",
       "3869  https://www.moscow-restaurants.ru/restaurants/...  2022-09-03 22:32:54   \n",
       "3870  https://www.moscow-restaurants.ru/restaurants/...  2022-09-03 22:32:54   \n",
       "3871  https://www.moscow-restaurants.ru/restaurants/...  2022-09-03 22:32:54   \n",
       "3872  https://www.moscow-restaurants.ru/restaurants/...  2022-09-03 22:32:54   \n",
       "\n",
       "                                                  fname  \\\n",
       "0     chunk_32a4cf50b040958aa9db65de300093aacb32ed52...   \n",
       "1     chunk_32a4cf50b040958aa9db65de300093aacb32ed52...   \n",
       "2     chunk_32a4cf50b040958aa9db65de300093aacb32ed52...   \n",
       "3     chunk_32a4cf50b040958aa9db65de300093aacb32ed52...   \n",
       "4     chunk_32a4cf50b040958aa9db65de300093aacb32ed52...   \n",
       "...                                                 ...   \n",
       "3868  chunk_a4205f2004bd4dba9b61b9648e0cce7602ddfe9a...   \n",
       "3869  chunk_a4205f2004bd4dba9b61b9648e0cce7602ddfe9a...   \n",
       "3870  chunk_a4205f2004bd4dba9b61b9648e0cce7602ddfe9a...   \n",
       "3871  chunk_a4205f2004bd4dba9b61b9648e0cce7602ddfe9a...   \n",
       "3872  chunk_a4205f2004bd4dba9b61b9648e0cce7602ddfe9a...   \n",
       "\n",
       "                                     title  rating                  cuisine  \\\n",
       "0          Goodbeef на Черкасском переулке       0        Европейская кухня   \n",
       "1                                     Каре       0         Грузинская кухня   \n",
       "2                                  Элефант       0        Европейская кухня   \n",
       "3                       Kitchen в Одинцово       0        Европейская кухня   \n",
       "4                   Евразия на Большевиков       0           Японская кухня   \n",
       "...                                    ...     ...                      ...   \n",
       "3868         Де Марко на Краснопресненской       0        Итальянская кухня   \n",
       "3869                               Особняк       0            Русская кухня   \n",
       "3870  Крылышко или ножка на Проспекте Мира       0        Европейская кухня   \n",
       "3871                      Drink Your Seoul       0          Корейская кухня   \n",
       "3872                   One Cafe Каракатица       0  Средиземноморская кухня   \n",
       "\n",
       "                 phone                                               link  \\\n",
       "0      (495) 220 13 20  https://www.moscow-restaurants.ru/restaurants/...   \n",
       "1      (499) 129 28 02  https://www.moscow-restaurants.ru/restaurants/...   \n",
       "2      (495) 694 54 92  https://www.moscow-restaurants.ru/restaurants/...   \n",
       "3        925 679 59 59  https://www.moscow-restaurants.ru/restaurants/...   \n",
       "4      (812) 587 90 35  https://www.moscow-restaurants.ru/restaurants/...   \n",
       "...                ...                                                ...   \n",
       "3868   (495) 605 31 15  https://www.moscow-restaurants.ru/restaurants/...   \n",
       "3869   (495) 912 45 46  https://www.moscow-restaurants.ru/restaurants/...   \n",
       "3870     916 268 51 18  https://www.moscow-restaurants.ru/restaurants/...   \n",
       "3871     499 340 11 85  https://www.moscow-restaurants.ru/restaurants/...   \n",
       "3872     966 055 85 85  https://www.moscow-restaurants.ru/restaurants/...   \n",
       "\n",
       "        city                           address  \n",
       "0     Москва  Б.Черкасский пер., 15–17, стр. 1  \n",
       "1     Москва      Дмитрия Ульянова, 42, стр. 1  \n",
       "2     Москва          2-й Колобовский пер., 12  \n",
       "3     Москва                 Можайское ш., 76а  \n",
       "4     Москва             просп. Большевиков, 2  \n",
       "...      ...                               ...  \n",
       "3868  Москва       Краснопресненская наб., 2/1  \n",
       "3869  Москва             Таганская, 13, стр. 3  \n",
       "3870  Москва          Мира просп., 77, корп. 2  \n",
       "3871  Москва                  Калашный пер., 9  \n",
       "3872  Москва          Тишинская пл., 1, стр. 6  \n",
       "\n",
       "[2664 rows x 10 columns]"
      ]
     },
     "execution_count": 14,
     "metadata": {},
     "output_type": "execute_result"
    }
   ],
   "source": [
    "data.loc[data.rating == 0]"
   ]
  },
  {
   "cell_type": "code",
   "execution_count": 15,
   "metadata": {},
   "outputs": [
    {
     "data": {
      "text/html": [
       "<div>\n",
       "<style scoped>\n",
       "    .dataframe tbody tr th:only-of-type {\n",
       "        vertical-align: middle;\n",
       "    }\n",
       "\n",
       "    .dataframe tbody tr th {\n",
       "        vertical-align: top;\n",
       "    }\n",
       "\n",
       "    .dataframe thead th {\n",
       "        text-align: right;\n",
       "    }\n",
       "</style>\n",
       "<table border=\"1\" class=\"dataframe\">\n",
       "  <thead>\n",
       "    <tr style=\"text-align: right;\">\n",
       "      <th></th>\n",
       "      <th>url</th>\n",
       "      <th>dttm</th>\n",
       "      <th>fname</th>\n",
       "      <th>title</th>\n",
       "      <th>rating</th>\n",
       "      <th>cuisine</th>\n",
       "      <th>phone</th>\n",
       "      <th>link</th>\n",
       "      <th>city</th>\n",
       "      <th>address</th>\n",
       "    </tr>\n",
       "  </thead>\n",
       "  <tbody>\n",
       "    <tr>\n",
       "      <th>0</th>\n",
       "      <td>https://www.moscow-restaurants.ru/restaurants/...</td>\n",
       "      <td>2022-09-03 22:26:48</td>\n",
       "      <td>chunk_32a4cf50b040958aa9db65de300093aacb32ed52...</td>\n",
       "      <td>Goodbeef на Черкасском переулке</td>\n",
       "      <td>0</td>\n",
       "      <td>Европейская кухня</td>\n",
       "      <td>(495) 220 13 20</td>\n",
       "      <td>https://www.moscow-restaurants.ru/restaurants/...</td>\n",
       "      <td>Москва</td>\n",
       "      <td>Б.Черкасский пер., 15–17, стр. 1</td>\n",
       "    </tr>\n",
       "    <tr>\n",
       "      <th>1</th>\n",
       "      <td>https://www.moscow-restaurants.ru/restaurants/...</td>\n",
       "      <td>2022-09-03 22:26:48</td>\n",
       "      <td>chunk_32a4cf50b040958aa9db65de300093aacb32ed52...</td>\n",
       "      <td>Каре</td>\n",
       "      <td>0</td>\n",
       "      <td>Грузинская кухня</td>\n",
       "      <td>(499) 129 28 02</td>\n",
       "      <td>https://www.moscow-restaurants.ru/restaurants/...</td>\n",
       "      <td>Москва</td>\n",
       "      <td>Дмитрия Ульянова, 42, стр. 1</td>\n",
       "    </tr>\n",
       "    <tr>\n",
       "      <th>2</th>\n",
       "      <td>https://www.moscow-restaurants.ru/restaurants/...</td>\n",
       "      <td>2022-09-03 22:26:48</td>\n",
       "      <td>chunk_32a4cf50b040958aa9db65de300093aacb32ed52...</td>\n",
       "      <td>Элефант</td>\n",
       "      <td>0</td>\n",
       "      <td>Европейская кухня</td>\n",
       "      <td>(495) 694 54 92</td>\n",
       "      <td>https://www.moscow-restaurants.ru/restaurants/...</td>\n",
       "      <td>Москва</td>\n",
       "      <td>2-й Колобовский пер., 12</td>\n",
       "    </tr>\n",
       "    <tr>\n",
       "      <th>3</th>\n",
       "      <td>https://www.moscow-restaurants.ru/restaurants/...</td>\n",
       "      <td>2022-09-03 22:26:48</td>\n",
       "      <td>chunk_32a4cf50b040958aa9db65de300093aacb32ed52...</td>\n",
       "      <td>Kitchen в Одинцово</td>\n",
       "      <td>0</td>\n",
       "      <td>Европейская кухня</td>\n",
       "      <td>925 679 59 59</td>\n",
       "      <td>https://www.moscow-restaurants.ru/restaurants/...</td>\n",
       "      <td>Москва</td>\n",
       "      <td>Можайское ш., 76а</td>\n",
       "    </tr>\n",
       "    <tr>\n",
       "      <th>4</th>\n",
       "      <td>https://www.moscow-restaurants.ru/restaurants/...</td>\n",
       "      <td>2022-09-03 22:26:48</td>\n",
       "      <td>chunk_32a4cf50b040958aa9db65de300093aacb32ed52...</td>\n",
       "      <td>Евразия на Большевиков</td>\n",
       "      <td>0</td>\n",
       "      <td>Японская кухня</td>\n",
       "      <td>(812) 587 90 35</td>\n",
       "      <td>https://www.moscow-restaurants.ru/restaurants/...</td>\n",
       "      <td>Москва</td>\n",
       "      <td>просп. Большевиков, 2</td>\n",
       "    </tr>\n",
       "    <tr>\n",
       "      <th>...</th>\n",
       "      <td>...</td>\n",
       "      <td>...</td>\n",
       "      <td>...</td>\n",
       "      <td>...</td>\n",
       "      <td>...</td>\n",
       "      <td>...</td>\n",
       "      <td>...</td>\n",
       "      <td>...</td>\n",
       "      <td>...</td>\n",
       "      <td>...</td>\n",
       "    </tr>\n",
       "    <tr>\n",
       "      <th>3875</th>\n",
       "      <td>https://www.moscow-restaurants.ru/restaurants/...</td>\n",
       "      <td>2022-09-03 22:13:08</td>\n",
       "      <td>chunk_8813b37cd84492d59ea2b199deccff53535bb0f2...</td>\n",
       "      <td>Ткемали. Новая площадь</td>\n",
       "      <td>3</td>\n",
       "      <td>Грузинская кухня</td>\n",
       "      <td>495 983 10 70</td>\n",
       "      <td>https://www.moscow-restaurants.ru/restaurants/...</td>\n",
       "      <td>Москва</td>\n",
       "      <td>Новая пл., д.8, стр.2</td>\n",
       "    </tr>\n",
       "    <tr>\n",
       "      <th>3876</th>\n",
       "      <td>https://www.moscow-restaurants.ru/restaurants/...</td>\n",
       "      <td>2022-09-03 22:13:08</td>\n",
       "      <td>chunk_8813b37cd84492d59ea2b199deccff53535bb0f2...</td>\n",
       "      <td>Chainaya Tea &amp; Cocktails</td>\n",
       "      <td>3</td>\n",
       "      <td>Китайская кухня</td>\n",
       "      <td>(495) 967-30-52</td>\n",
       "      <td>https://www.moscow-restaurants.ru/restaurants/...</td>\n",
       "      <td>Москва</td>\n",
       "      <td>1-я Тверская-Ямская, 29, стр. 1</td>\n",
       "    </tr>\n",
       "    <tr>\n",
       "      <th>3877</th>\n",
       "      <td>https://www.moscow-restaurants.ru/restaurants/...</td>\n",
       "      <td>2022-09-03 22:13:08</td>\n",
       "      <td>chunk_8813b37cd84492d59ea2b199deccff53535bb0f2...</td>\n",
       "      <td>Bro&amp;N</td>\n",
       "      <td>4</td>\n",
       "      <td>Итальянская кухня</td>\n",
       "      <td>(495) 650 00 50</td>\n",
       "      <td>https://www.moscow-restaurants.ru/restaurants/...</td>\n",
       "      <td>Москва</td>\n",
       "      <td>М.Бронная, 27/14</td>\n",
       "    </tr>\n",
       "    <tr>\n",
       "      <th>3878</th>\n",
       "      <td>https://www.moscow-restaurants.ru/restaurants/...</td>\n",
       "      <td>2022-09-03 22:13:08</td>\n",
       "      <td>chunk_8813b37cd84492d59ea2b199deccff53535bb0f2...</td>\n",
       "      <td>Bebe de la mer</td>\n",
       "      <td>3</td>\n",
       "      <td>Европейская кухня</td>\n",
       "      <td>985 435 77 77</td>\n",
       "      <td>https://www.moscow-restaurants.ru/restaurants/...</td>\n",
       "      <td>Москва</td>\n",
       "      <td>Петровка, 30/7</td>\n",
       "    </tr>\n",
       "    <tr>\n",
       "      <th>3879</th>\n",
       "      <td>https://www.moscow-restaurants.ru/restaurants/...</td>\n",
       "      <td>2022-09-03 22:13:08</td>\n",
       "      <td>chunk_8813b37cd84492d59ea2b199deccff53535bb0f2...</td>\n",
       "      <td>Subzero Moscow</td>\n",
       "      <td>1</td>\n",
       "      <td>Японская кухня</td>\n",
       "      <td>(495) 922 64 38</td>\n",
       "      <td>https://www.moscow-restaurants.ru/restaurants/...</td>\n",
       "      <td>Москва</td>\n",
       "      <td>Петровка, 30/7</td>\n",
       "    </tr>\n",
       "  </tbody>\n",
       "</table>\n",
       "<p>3880 rows × 10 columns</p>\n",
       "</div>"
      ],
      "text/plain": [
       "                                                    url                 dttm  \\\n",
       "0     https://www.moscow-restaurants.ru/restaurants/...  2022-09-03 22:26:48   \n",
       "1     https://www.moscow-restaurants.ru/restaurants/...  2022-09-03 22:26:48   \n",
       "2     https://www.moscow-restaurants.ru/restaurants/...  2022-09-03 22:26:48   \n",
       "3     https://www.moscow-restaurants.ru/restaurants/...  2022-09-03 22:26:48   \n",
       "4     https://www.moscow-restaurants.ru/restaurants/...  2022-09-03 22:26:48   \n",
       "...                                                 ...                  ...   \n",
       "3875  https://www.moscow-restaurants.ru/restaurants/...  2022-09-03 22:13:08   \n",
       "3876  https://www.moscow-restaurants.ru/restaurants/...  2022-09-03 22:13:08   \n",
       "3877  https://www.moscow-restaurants.ru/restaurants/...  2022-09-03 22:13:08   \n",
       "3878  https://www.moscow-restaurants.ru/restaurants/...  2022-09-03 22:13:08   \n",
       "3879  https://www.moscow-restaurants.ru/restaurants/...  2022-09-03 22:13:08   \n",
       "\n",
       "                                                  fname  \\\n",
       "0     chunk_32a4cf50b040958aa9db65de300093aacb32ed52...   \n",
       "1     chunk_32a4cf50b040958aa9db65de300093aacb32ed52...   \n",
       "2     chunk_32a4cf50b040958aa9db65de300093aacb32ed52...   \n",
       "3     chunk_32a4cf50b040958aa9db65de300093aacb32ed52...   \n",
       "4     chunk_32a4cf50b040958aa9db65de300093aacb32ed52...   \n",
       "...                                                 ...   \n",
       "3875  chunk_8813b37cd84492d59ea2b199deccff53535bb0f2...   \n",
       "3876  chunk_8813b37cd84492d59ea2b199deccff53535bb0f2...   \n",
       "3877  chunk_8813b37cd84492d59ea2b199deccff53535bb0f2...   \n",
       "3878  chunk_8813b37cd84492d59ea2b199deccff53535bb0f2...   \n",
       "3879  chunk_8813b37cd84492d59ea2b199deccff53535bb0f2...   \n",
       "\n",
       "                                title  rating            cuisine  \\\n",
       "0     Goodbeef на Черкасском переулке       0  Европейская кухня   \n",
       "1                                Каре       0   Грузинская кухня   \n",
       "2                             Элефант       0  Европейская кухня   \n",
       "3                  Kitchen в Одинцово       0  Европейская кухня   \n",
       "4              Евразия на Большевиков       0     Японская кухня   \n",
       "...                               ...     ...                ...   \n",
       "3875           Ткемали. Новая площадь       3   Грузинская кухня   \n",
       "3876         Chainaya Tea & Cocktails       3    Китайская кухня   \n",
       "3877                            Bro&N       4  Итальянская кухня   \n",
       "3878                   Bebe de la mer       3  Европейская кухня   \n",
       "3879                   Subzero Moscow       1     Японская кухня   \n",
       "\n",
       "                 phone                                               link  \\\n",
       "0      (495) 220 13 20  https://www.moscow-restaurants.ru/restaurants/...   \n",
       "1      (499) 129 28 02  https://www.moscow-restaurants.ru/restaurants/...   \n",
       "2      (495) 694 54 92  https://www.moscow-restaurants.ru/restaurants/...   \n",
       "3        925 679 59 59  https://www.moscow-restaurants.ru/restaurants/...   \n",
       "4      (812) 587 90 35  https://www.moscow-restaurants.ru/restaurants/...   \n",
       "...                ...                                                ...   \n",
       "3875     495 983 10 70  https://www.moscow-restaurants.ru/restaurants/...   \n",
       "3876   (495) 967-30-52  https://www.moscow-restaurants.ru/restaurants/...   \n",
       "3877   (495) 650 00 50  https://www.moscow-restaurants.ru/restaurants/...   \n",
       "3878     985 435 77 77  https://www.moscow-restaurants.ru/restaurants/...   \n",
       "3879   (495) 922 64 38  https://www.moscow-restaurants.ru/restaurants/...   \n",
       "\n",
       "        city                           address  \n",
       "0     Москва  Б.Черкасский пер., 15–17, стр. 1  \n",
       "1     Москва      Дмитрия Ульянова, 42, стр. 1  \n",
       "2     Москва          2-й Колобовский пер., 12  \n",
       "3     Москва                 Можайское ш., 76а  \n",
       "4     Москва             просп. Большевиков, 2  \n",
       "...      ...                               ...  \n",
       "3875  Москва             Новая пл., д.8, стр.2  \n",
       "3876  Москва   1-я Тверская-Ямская, 29, стр. 1  \n",
       "3877  Москва                  М.Бронная, 27/14  \n",
       "3878  Москва                    Петровка, 30/7  \n",
       "3879  Москва                    Петровка, 30/7  \n",
       "\n",
       "[3880 rows x 10 columns]"
      ]
     },
     "execution_count": 15,
     "metadata": {},
     "output_type": "execute_result"
    }
   ],
   "source": [
    "data"
   ]
  },
  {
   "cell_type": "code",
   "execution_count": 7,
   "metadata": {},
   "outputs": [],
   "source": [
    "data1 = pd.read_csv('../data/pa/mosdata_dataset1903.csv')"
   ]
  },
  {
   "cell_type": "code",
   "execution_count": 8,
   "metadata": {},
   "outputs": [
    {
     "data": {
      "text/html": [
       "<div>\n",
       "<style scoped>\n",
       "    .dataframe tbody tr th:only-of-type {\n",
       "        vertical-align: middle;\n",
       "    }\n",
       "\n",
       "    .dataframe tbody tr th {\n",
       "        vertical-align: top;\n",
       "    }\n",
       "\n",
       "    .dataframe thead th {\n",
       "        text-align: right;\n",
       "    }\n",
       "</style>\n",
       "<table border=\"1\" class=\"dataframe\">\n",
       "  <thead>\n",
       "    <tr style=\"text-align: right;\">\n",
       "      <th></th>\n",
       "      <th>global_id</th>\n",
       "      <th>Number</th>\n",
       "      <th>Name</th>\n",
       "      <th>IsNetObject</th>\n",
       "      <th>OperatingCompany</th>\n",
       "      <th>TypeObject</th>\n",
       "      <th>AdmArea</th>\n",
       "      <th>District</th>\n",
       "      <th>Address</th>\n",
       "      <th>PublicPhone</th>\n",
       "      <th>...</th>\n",
       "      <th>y_coord</th>\n",
       "      <th>StreetType</th>\n",
       "      <th>StreetName</th>\n",
       "      <th>HouseType</th>\n",
       "      <th>HouseName</th>\n",
       "      <th>BuildingType</th>\n",
       "      <th>BuildingName</th>\n",
       "      <th>Name_norm</th>\n",
       "      <th>OperatingCompany_count</th>\n",
       "      <th>Name_norm_count</th>\n",
       "    </tr>\n",
       "  </thead>\n",
       "  <tbody>\n",
       "  </tbody>\n",
       "</table>\n",
       "<p>0 rows × 23 columns</p>\n",
       "</div>"
      ],
      "text/plain": [
       "Empty DataFrame\n",
       "Columns: [global_id, Number, Name, IsNetObject, OperatingCompany, TypeObject, AdmArea, District, Address, PublicPhone, SeatsCount, SocialPrivileges, x_coord, y_coord, StreetType, StreetName, HouseType, HouseName, BuildingType, BuildingName, Name_norm, OperatingCompany_count, Name_norm_count]\n",
       "Index: []\n",
       "\n",
       "[0 rows x 23 columns]"
      ]
     },
     "execution_count": 8,
     "metadata": {},
     "output_type": "execute_result"
    }
   ],
   "source": [
    "data1.loc[\n",
    "    data1.Name_norm == 'subzero moscow'\n",
    "]"
   ]
  },
  {
   "cell_type": "code",
   "execution_count": 18,
   "metadata": {},
   "outputs": [
    {
     "data": {
      "text/html": [
       "<div>\n",
       "<style scoped>\n",
       "    .dataframe tbody tr th:only-of-type {\n",
       "        vertical-align: middle;\n",
       "    }\n",
       "\n",
       "    .dataframe tbody tr th {\n",
       "        vertical-align: top;\n",
       "    }\n",
       "\n",
       "    .dataframe thead th {\n",
       "        text-align: right;\n",
       "    }\n",
       "</style>\n",
       "<table border=\"1\" class=\"dataframe\">\n",
       "  <thead>\n",
       "    <tr style=\"text-align: right;\">\n",
       "      <th></th>\n",
       "      <th>global_id</th>\n",
       "      <th>Number</th>\n",
       "      <th>Name</th>\n",
       "      <th>IsNetObject</th>\n",
       "      <th>OperatingCompany</th>\n",
       "      <th>TypeObject</th>\n",
       "      <th>AdmArea</th>\n",
       "      <th>District</th>\n",
       "      <th>Address</th>\n",
       "      <th>PublicPhone</th>\n",
       "      <th>...</th>\n",
       "      <th>y_coord</th>\n",
       "      <th>StreetType</th>\n",
       "      <th>StreetName</th>\n",
       "      <th>HouseType</th>\n",
       "      <th>HouseName</th>\n",
       "      <th>BuildingType</th>\n",
       "      <th>BuildingName</th>\n",
       "      <th>Name_norm</th>\n",
       "      <th>OperatingCompany_count</th>\n",
       "      <th>Name_norm_count</th>\n",
       "    </tr>\n",
       "  </thead>\n",
       "  <tbody>\n",
       "    <tr>\n",
       "      <th>8136</th>\n",
       "      <td>1061825631</td>\n",
       "      <td>89</td>\n",
       "      <td>Subzero</td>\n",
       "      <td>нет</td>\n",
       "      <td>NaN</td>\n",
       "      <td>ресторан</td>\n",
       "      <td>Центральный административный округ</td>\n",
       "      <td>Тверской район</td>\n",
       "      <td>город Москва, улица Петровка, дом 30/7</td>\n",
       "      <td>['(921) 909-79-61']</td>\n",
       "      <td>...</td>\n",
       "      <td>55.768115</td>\n",
       "      <td>улица</td>\n",
       "      <td>петровка</td>\n",
       "      <td>дом</td>\n",
       "      <td>30/7</td>\n",
       "      <td>NaN</td>\n",
       "      <td>NaN</td>\n",
       "      <td>subzero</td>\n",
       "      <td>NaN</td>\n",
       "      <td>1</td>\n",
       "    </tr>\n",
       "  </tbody>\n",
       "</table>\n",
       "<p>1 rows × 23 columns</p>\n",
       "</div>"
      ],
      "text/plain": [
       "       global_id  Number     Name IsNetObject OperatingCompany TypeObject  \\\n",
       "8136  1061825631      89  Subzero         нет              NaN   ресторан   \n",
       "\n",
       "                                 AdmArea        District  \\\n",
       "8136  Центральный административный округ  Тверской район   \n",
       "\n",
       "                                     Address          PublicPhone  ...  \\\n",
       "8136  город Москва, улица Петровка, дом 30/7  ['(921) 909-79-61']  ...   \n",
       "\n",
       "        y_coord StreetType  StreetName  HouseType HouseName BuildingType  \\\n",
       "8136  55.768115      улица    петровка        дом      30/7          NaN   \n",
       "\n",
       "     BuildingName Name_norm OperatingCompany_count Name_norm_count  \n",
       "8136          NaN   subzero                    NaN               1  \n",
       "\n",
       "[1 rows x 23 columns]"
      ]
     },
     "execution_count": 18,
     "metadata": {},
     "output_type": "execute_result"
    }
   ],
   "source": [
    "data1.loc[\n",
    "    data1.Name_norm.str.contains('subzero')\n",
    "]"
   ]
  },
  {
   "cell_type": "code",
   "execution_count": 19,
   "metadata": {},
   "outputs": [
    {
     "data": {
      "text/html": [
       "<div>\n",
       "<style scoped>\n",
       "    .dataframe tbody tr th:only-of-type {\n",
       "        vertical-align: middle;\n",
       "    }\n",
       "\n",
       "    .dataframe tbody tr th {\n",
       "        vertical-align: top;\n",
       "    }\n",
       "\n",
       "    .dataframe thead th {\n",
       "        text-align: right;\n",
       "    }\n",
       "</style>\n",
       "<table border=\"1\" class=\"dataframe\">\n",
       "  <thead>\n",
       "    <tr style=\"text-align: right;\">\n",
       "      <th></th>\n",
       "      <th>url</th>\n",
       "      <th>dttm</th>\n",
       "      <th>fname</th>\n",
       "      <th>title</th>\n",
       "      <th>rating</th>\n",
       "      <th>cuisine</th>\n",
       "      <th>phone</th>\n",
       "      <th>link</th>\n",
       "      <th>city</th>\n",
       "      <th>address</th>\n",
       "    </tr>\n",
       "  </thead>\n",
       "  <tbody>\n",
       "    <tr>\n",
       "      <th>3879</th>\n",
       "      <td>https://www.moscow-restaurants.ru/restaurants/...</td>\n",
       "      <td>2022-09-03 22:13:08</td>\n",
       "      <td>chunk_8813b37cd84492d59ea2b199deccff53535bb0f2...</td>\n",
       "      <td>Subzero Moscow</td>\n",
       "      <td>1</td>\n",
       "      <td>Японская кухня</td>\n",
       "      <td>(495) 922 64 38</td>\n",
       "      <td>https://www.moscow-restaurants.ru/restaurants/...</td>\n",
       "      <td>Москва</td>\n",
       "      <td>Петровка, 30/7</td>\n",
       "    </tr>\n",
       "  </tbody>\n",
       "</table>\n",
       "</div>"
      ],
      "text/plain": [
       "                                                    url                 dttm  \\\n",
       "3879  https://www.moscow-restaurants.ru/restaurants/...  2022-09-03 22:13:08   \n",
       "\n",
       "                                                  fname           title  \\\n",
       "3879  chunk_8813b37cd84492d59ea2b199deccff53535bb0f2...  Subzero Moscow   \n",
       "\n",
       "      rating         cuisine            phone  \\\n",
       "3879       1  Японская кухня  (495) 922 64 38   \n",
       "\n",
       "                                                   link    city  \\\n",
       "3879  https://www.moscow-restaurants.ru/restaurants/...  Москва   \n",
       "\n",
       "             address  \n",
       "3879  Петровка, 30/7  "
      ]
     },
     "execution_count": 19,
     "metadata": {},
     "output_type": "execute_result"
    }
   ],
   "source": [
    "data.loc[\n",
    "    data.title.str.lower().str.contains('subzero')\n",
    "]"
   ]
  },
  {
   "cell_type": "code",
   "execution_count": 10,
   "metadata": {},
   "outputs": [],
   "source": [
    "details = pd.read_csv('../data/stg/moscow_restoraunts_detailed.csv')"
   ]
  },
  {
   "cell_type": "code",
   "execution_count": 11,
   "metadata": {},
   "outputs": [
    {
     "data": {
      "text/plain": [
       "(3879, 11)"
      ]
     },
     "execution_count": 11,
     "metadata": {},
     "output_type": "execute_result"
    }
   ],
   "source": [
    "details.shape"
   ]
  },
  {
   "cell_type": "code",
   "execution_count": 12,
   "metadata": {},
   "outputs": [
    {
     "data": {
      "text/plain": [
       "True     2667\n",
       "False    1212\n",
       "Name: review, dtype: int64"
      ]
     },
     "execution_count": 12,
     "metadata": {},
     "output_type": "execute_result"
    }
   ],
   "source": [
    "details.review.isna().value_counts()"
   ]
  },
  {
   "cell_type": "code",
   "execution_count": 160,
   "metadata": {},
   "outputs": [
    {
     "data": {
      "text/plain": [
       "<1500 ₽          2345\n",
       "1500-2500 ₽       895\n",
       "2500 - 5000 ₽     371\n",
       "NaN               181\n",
       "> 5000 ₽           87\n",
       "Name: avg_check, dtype: int64"
      ]
     },
     "execution_count": 160,
     "metadata": {},
     "output_type": "execute_result"
    }
   ],
   "source": [
    "details.avg_check.value_counts(dropna=False)"
   ]
  },
  {
   "cell_type": "code",
   "execution_count": 161,
   "metadata": {},
   "outputs": [
    {
     "data": {
      "text/plain": [
       "False    3832\n",
       "True       47\n",
       "Name: x_coord, dtype: int64"
      ]
     },
     "execution_count": 161,
     "metadata": {},
     "output_type": "execute_result"
    }
   ],
   "source": [
    "details.x_coord.isna().value_counts(dropna=False)"
   ]
  },
  {
   "cell_type": "code",
   "execution_count": 162,
   "metadata": {},
   "outputs": [],
   "source": [
    "import json\n",
    "import numpy as np\n",
    "\n",
    "def safe_load(x):\n",
    "    if pd.isna(x):\n",
    "        return np.nan\n",
    "    else:\n",
    "        return json.loads(x)\n",
    "\n",
    "details = details.join(\n",
    "    details.aspect_stars.apply(safe_load).apply(pd.Series).drop(0, axis=1))"
   ]
  },
  {
   "cell_type": "code",
   "execution_count": 163,
   "metadata": {},
   "outputs": [
    {
     "data": {
      "text/plain": [
       "True     2667\n",
       "False    1212\n",
       "Name: Еда, dtype: int64"
      ]
     },
     "execution_count": 163,
     "metadata": {},
     "output_type": "execute_result"
    }
   ],
   "source": [
    "details['Еда'].isna().value_counts()"
   ]
  },
  {
   "cell_type": "code",
   "execution_count": 164,
   "metadata": {},
   "outputs": [
    {
     "data": {
      "text/plain": [
       "пн-чт                     516\n",
       "пн-вс 12.00–0.00          472\n",
       "круглосуточно             204\n",
       "пн-вс 11.00–23.00         183\n",
       "пн-вс 10.00–22.00         155\n",
       "                         ... \n",
       "пн-вс 11.00–0.30            1\n",
       "пн-пт 14.00–3.00            1\n",
       "пн-вс 10.30–23.30           1\n",
       "вт - сб: 12:00 - 21:00      1\n",
       "вт-чт 18.00–0.00            1\n",
       "Name: opening_hours, Length: 536, dtype: int64"
      ]
     },
     "execution_count": 164,
     "metadata": {},
     "output_type": "execute_result"
    }
   ],
   "source": [
    "details.opening_hours.value_counts(dropna=False)"
   ]
  },
  {
   "cell_type": "code",
   "execution_count": 13,
   "metadata": {},
   "outputs": [],
   "source": [
    "df = (\n",
    "    data.drop([\"url\",  \"dttm\", \"fname\"], axis=1)\n",
    "    .merge(details, how=\"inner\", left_on='link', right_on='url'))"
   ]
  },
  {
   "cell_type": "code",
   "execution_count": 30,
   "metadata": {},
   "outputs": [],
   "source": [
    "import numpy as np\n",
    "\n",
    "def haversine_vectorize(lon1, lat1, lon2, lat2):\n",
    "\n",
    "    lon1, lat1, lon2, lat2 = map(np.radians, [lon1, lat1, lon2, lat2])\n",
    "\n",
    "    newlon = lon2 - lon1\n",
    "    newlat = lat2 - lat1\n",
    "\n",
    "    haver_formula = np.sin(newlat/2.0)**2 + np.cos(lat1) * np.cos(lat2) * np.sin(newlon/2.0)**2\n",
    "\n",
    "    dist = 2 * np.arcsin(np.sqrt(haver_formula ))\n",
    "    km = 6_367_000 * dist #6367 for distance in KM for miles use 3958\n",
    "    return km"
   ]
  },
  {
   "cell_type": "code",
   "execution_count": 31,
   "metadata": {},
   "outputs": [],
   "source": [
    "df['left_id'] = np.arange(len(df))"
   ]
  },
  {
   "cell_type": "code",
   "execution_count": 32,
   "metadata": {},
   "outputs": [],
   "source": [
    "df['key'] = 1\n",
    "data1['key'] = 1"
   ]
  },
  {
   "cell_type": "code",
   "execution_count": 33,
   "metadata": {},
   "outputs": [],
   "source": [
    "df['title_norm'] = df.title.str.lower()"
   ]
  },
  {
   "cell_type": "code",
   "execution_count": 34,
   "metadata": {},
   "outputs": [],
   "source": [
    "data_product = (\n",
    "    data1[['global_id', 'key', 'x_coord', 'y_coord', 'Name_norm']]\n",
    "    .merge(df[['left_id', \"key\", 'x_coord', \"y_coord\", \"title_norm\"]], on=\"key\"))"
   ]
  },
  {
   "cell_type": "code",
   "execution_count": 35,
   "metadata": {},
   "outputs": [],
   "source": [
    "distance = haversine_vectorize(\n",
    "    data_product.x_coord_x, data_product.y_coord_x,\n",
    "    data_product.x_coord_y, data_product.y_coord_y\n",
    ")"
   ]
  },
  {
   "cell_type": "code",
   "execution_count": 20,
   "metadata": {},
   "outputs": [],
   "source": [
    "data_product['distance'] = distance\n"
   ]
  },
  {
   "cell_type": "code",
   "execution_count": 21,
   "metadata": {},
   "outputs": [],
   "source": [
    "close_match = data_product.loc[data_product.distance <= 30 ].copy()"
   ]
  },
  {
   "cell_type": "code",
   "execution_count": 23,
   "metadata": {},
   "outputs": [
    {
     "data": {
      "text/plain": [
       "(113917, 10)"
      ]
     },
     "execution_count": 23,
     "metadata": {},
     "output_type": "execute_result"
    }
   ],
   "source": [
    "close_match.shape"
   ]
  },
  {
   "cell_type": "code",
   "execution_count": 22,
   "metadata": {},
   "outputs": [
    {
     "data": {
      "text/html": [
       "<div>\n",
       "<style scoped>\n",
       "    .dataframe tbody tr th:only-of-type {\n",
       "        vertical-align: middle;\n",
       "    }\n",
       "\n",
       "    .dataframe tbody tr th {\n",
       "        vertical-align: top;\n",
       "    }\n",
       "\n",
       "    .dataframe thead th {\n",
       "        text-align: right;\n",
       "    }\n",
       "</style>\n",
       "<table border=\"1\" class=\"dataframe\">\n",
       "  <thead>\n",
       "    <tr style=\"text-align: right;\">\n",
       "      <th></th>\n",
       "      <th>global_id</th>\n",
       "      <th>key</th>\n",
       "      <th>x_coord_x</th>\n",
       "      <th>y_coord_x</th>\n",
       "      <th>Name_norm</th>\n",
       "      <th>left_id</th>\n",
       "      <th>x_coord_y</th>\n",
       "      <th>y_coord_y</th>\n",
       "      <th>title_norm</th>\n",
       "      <th>distance</th>\n",
       "    </tr>\n",
       "  </thead>\n",
       "  <tbody>\n",
       "    <tr>\n",
       "      <th>4129062</th>\n",
       "      <td>637549331</td>\n",
       "      <td>1</td>\n",
       "      <td>37.599272</td>\n",
       "      <td>55.757345</td>\n",
       "      <td>lucky izakaya bar</td>\n",
       "      <td>1122</td>\n",
       "      <td>37.599399</td>\n",
       "      <td>55.756908</td>\n",
       "      <td>lucky izakaya bar</td>\n",
       "      <td>4.917952</td>\n",
       "    </tr>\n",
       "    <tr>\n",
       "      <th>24572230</th>\n",
       "      <td>1146541918</td>\n",
       "      <td>1</td>\n",
       "      <td>37.615024</td>\n",
       "      <td>55.761228</td>\n",
       "      <td>monkey izakaya bar</td>\n",
       "      <td>2266</td>\n",
       "      <td>37.615003</td>\n",
       "      <td>55.761203</td>\n",
       "      <td>monkey izakaya bar</td>\n",
       "      <td>0.304858</td>\n",
       "    </tr>\n",
       "  </tbody>\n",
       "</table>\n",
       "</div>"
      ],
      "text/plain": [
       "           global_id  key  x_coord_x  y_coord_x           Name_norm  left_id  \\\n",
       "4129062    637549331    1  37.599272  55.757345   lucky izakaya bar     1122   \n",
       "24572230  1146541918    1  37.615024  55.761228  monkey izakaya bar     2266   \n",
       "\n",
       "          x_coord_y  y_coord_y          title_norm  distance  \n",
       "4129062   37.599399  55.756908   lucky izakaya bar  4.917952  \n",
       "24572230  37.615003  55.761203  monkey izakaya bar  0.304858  "
      ]
     },
     "execution_count": 22,
     "metadata": {},
     "output_type": "execute_result"
    }
   ],
   "source": [
    "# Чекать переименования\n",
    "\n",
    "close_match.loc[\n",
    "    close_match.title_norm.str.contains('izakaya')\n",
    "    & close_match.Name_norm.str.contains('izakaya')\n",
    "].copy()"
   ]
  },
  {
   "cell_type": "code",
   "execution_count": 234,
   "metadata": {},
   "outputs": [
    {
     "data": {
      "text/plain": [
       "True"
      ]
     },
     "execution_count": 234,
     "metadata": {},
     "output_type": "execute_result"
    }
   ],
   "source": [
    "'abcbd' in 'abcbde'"
   ]
  },
  {
   "cell_type": "code",
   "execution_count": 235,
   "metadata": {},
   "outputs": [
    {
     "data": {
      "text/html": [
       "<div>\n",
       "<style scoped>\n",
       "    .dataframe tbody tr th:only-of-type {\n",
       "        vertical-align: middle;\n",
       "    }\n",
       "\n",
       "    .dataframe tbody tr th {\n",
       "        vertical-align: top;\n",
       "    }\n",
       "\n",
       "    .dataframe thead th {\n",
       "        text-align: right;\n",
       "    }\n",
       "</style>\n",
       "<table border=\"1\" class=\"dataframe\">\n",
       "  <thead>\n",
       "    <tr style=\"text-align: right;\">\n",
       "      <th></th>\n",
       "      <th>global_id</th>\n",
       "      <th>Number</th>\n",
       "      <th>Name</th>\n",
       "      <th>IsNetObject</th>\n",
       "      <th>OperatingCompany</th>\n",
       "      <th>TypeObject</th>\n",
       "      <th>AdmArea</th>\n",
       "      <th>District</th>\n",
       "      <th>Address</th>\n",
       "      <th>PublicPhone</th>\n",
       "      <th>...</th>\n",
       "      <th>StreetType</th>\n",
       "      <th>StreetName</th>\n",
       "      <th>HouseType</th>\n",
       "      <th>HouseName</th>\n",
       "      <th>BuildingType</th>\n",
       "      <th>BuildingName</th>\n",
       "      <th>Name_norm</th>\n",
       "      <th>OperatingCompany_count</th>\n",
       "      <th>Name_norm_count</th>\n",
       "      <th>key</th>\n",
       "    </tr>\n",
       "  </thead>\n",
       "  <tbody>\n",
       "    <tr>\n",
       "      <th>9942</th>\n",
       "      <td>1272681705</td>\n",
       "      <td>35</td>\n",
       "      <td>Хорошая еда</td>\n",
       "      <td>нет</td>\n",
       "      <td>NaN</td>\n",
       "      <td>кафе</td>\n",
       "      <td>Северо-Восточный административный округ</td>\n",
       "      <td>район Марьина Роща</td>\n",
       "      <td>Российская Федерация, город Москва, внутригоро...</td>\n",
       "      <td>['(925) 110-53-83']</td>\n",
       "      <td>...</td>\n",
       "      <td>улица</td>\n",
       "      <td>образцова</td>\n",
       "      <td>дом</td>\n",
       "      <td>14</td>\n",
       "      <td>NaN</td>\n",
       "      <td>NaN</td>\n",
       "      <td>хорошая еда</td>\n",
       "      <td>NaN</td>\n",
       "      <td>1</td>\n",
       "      <td>1</td>\n",
       "    </tr>\n",
       "    <tr>\n",
       "      <th>10832</th>\n",
       "      <td>1082609503</td>\n",
       "      <td>7</td>\n",
       "      <td>Хорошая Девочка</td>\n",
       "      <td>нет</td>\n",
       "      <td>NaN</td>\n",
       "      <td>ресторан</td>\n",
       "      <td>Центральный административный округ</td>\n",
       "      <td>Пресненский район</td>\n",
       "      <td>Российская Федерация, город Москва, внутригоро...</td>\n",
       "      <td>['(967) 296-88-44']</td>\n",
       "      <td>...</td>\n",
       "      <td>улица</td>\n",
       "      <td>малая бронная</td>\n",
       "      <td>дом</td>\n",
       "      <td>10</td>\n",
       "      <td>строение</td>\n",
       "      <td>1</td>\n",
       "      <td>хорошая девочка</td>\n",
       "      <td>NaN</td>\n",
       "      <td>1</td>\n",
       "      <td>1</td>\n",
       "    </tr>\n",
       "  </tbody>\n",
       "</table>\n",
       "<p>2 rows × 24 columns</p>\n",
       "</div>"
      ],
      "text/plain": [
       "        global_id  Number             Name IsNetObject OperatingCompany  \\\n",
       "9942   1272681705      35      Хорошая еда         нет              NaN   \n",
       "10832  1082609503       7  Хорошая Девочка         нет              NaN   \n",
       "\n",
       "      TypeObject                                  AdmArea            District  \\\n",
       "9942        кафе  Северо-Восточный административный округ  район Марьина Роща   \n",
       "10832   ресторан       Центральный административный округ   Пресненский район   \n",
       "\n",
       "                                                 Address          PublicPhone  \\\n",
       "9942   Российская Федерация, город Москва, внутригоро...  ['(925) 110-53-83']   \n",
       "10832  Российская Федерация, город Москва, внутригоро...  ['(967) 296-88-44']   \n",
       "\n",
       "       ...  StreetType     StreetName  HouseType  HouseName BuildingType  \\\n",
       "9942   ...       улица      образцова        дом         14          NaN   \n",
       "10832  ...       улица  малая бронная        дом         10     строение   \n",
       "\n",
       "      BuildingName        Name_norm OperatingCompany_count Name_norm_count key  \n",
       "9942           NaN      хорошая еда                    NaN               1   1  \n",
       "10832            1  хорошая девочка                    NaN               1   1  \n",
       "\n",
       "[2 rows x 24 columns]"
      ]
     },
     "execution_count": 235,
     "metadata": {},
     "output_type": "execute_result"
    }
   ],
   "source": [
    "data1.loc[\n",
    "    data1.Name_norm.str.contains('хорошая')\n",
    "]"
   ]
  },
  {
   "cell_type": "code",
   "execution_count": 202,
   "metadata": {},
   "outputs": [
    {
     "data": {
      "text/html": [
       "<div>\n",
       "<style scoped>\n",
       "    .dataframe tbody tr th:only-of-type {\n",
       "        vertical-align: middle;\n",
       "    }\n",
       "\n",
       "    .dataframe tbody tr th {\n",
       "        vertical-align: top;\n",
       "    }\n",
       "\n",
       "    .dataframe thead th {\n",
       "        text-align: right;\n",
       "    }\n",
       "</style>\n",
       "<table border=\"1\" class=\"dataframe\">\n",
       "  <thead>\n",
       "    <tr style=\"text-align: right;\">\n",
       "      <th></th>\n",
       "      <th>title</th>\n",
       "      <th>rating</th>\n",
       "      <th>cuisine</th>\n",
       "      <th>phone</th>\n",
       "      <th>link</th>\n",
       "      <th>city</th>\n",
       "      <th>address</th>\n",
       "      <th>url</th>\n",
       "      <th>dttm</th>\n",
       "      <th>fname</th>\n",
       "      <th>...</th>\n",
       "      <th>street_address</th>\n",
       "      <th>street_locality</th>\n",
       "      <th>aspect_stars</th>\n",
       "      <th>review</th>\n",
       "      <th>Еда</th>\n",
       "      <th>Сервис</th>\n",
       "      <th>Атмосфера</th>\n",
       "      <th>Интерьер</th>\n",
       "      <th>left_id</th>\n",
       "      <th>key</th>\n",
       "    </tr>\n",
       "  </thead>\n",
       "  <tbody>\n",
       "    <tr>\n",
       "      <th>796</th>\n",
       "      <td>Red Point Izakaya Bar</td>\n",
       "      <td>4</td>\n",
       "      <td>Азиатская кухня</td>\n",
       "      <td>925 099-05-44</td>\n",
       "      <td>https://www.moscow-restaurants.ru/restaurants/...</td>\n",
       "      <td>Москва</td>\n",
       "      <td>Лесная 20, стр. 6</td>\n",
       "      <td>https://www.moscow-restaurants.ru/restaurants/...</td>\n",
       "      <td>2022-09-09 20:23:44</td>\n",
       "      <td>chunk_761d168bdaeb51a9a4f0c189cd78b233661a78fd...</td>\n",
       "      <td>...</td>\n",
       "      <td>Лесная 20, стр. 6</td>\n",
       "      <td>NaN</td>\n",
       "      <td>{\"\\u0415\\u0434\\u0430\": 4, \"\\u0421\\u0435\\u0440\\...</td>\n",
       "      <td>Дата и время посещения — 17 декабря 2020, четв...</td>\n",
       "      <td>4.0</td>\n",
       "      <td>5.0</td>\n",
       "      <td>4.0</td>\n",
       "      <td>4.0</td>\n",
       "      <td>796</td>\n",
       "      <td>1</td>\n",
       "    </tr>\n",
       "    <tr>\n",
       "      <th>1122</th>\n",
       "      <td>Lucky Izakaya Bar</td>\n",
       "      <td>5</td>\n",
       "      <td>Паназиатская кухня</td>\n",
       "      <td>(495) 189 78 88</td>\n",
       "      <td>https://www.moscow-restaurants.ru/restaurants/...</td>\n",
       "      <td>Москва</td>\n",
       "      <td>Б.Никитская, 23/9</td>\n",
       "      <td>https://www.moscow-restaurants.ru/restaurants/...</td>\n",
       "      <td>2022-09-09 20:23:59</td>\n",
       "      <td>chunk_f73a719981125ac740979802ab9e5f07930cfc00...</td>\n",
       "      <td>...</td>\n",
       "      <td>Б.Никитская, 23/9</td>\n",
       "      <td>NaN</td>\n",
       "      <td>{\"\\u0415\\u0434\\u0430\": 5, \"\\u0421\\u0435\\u0440\\...</td>\n",
       "      <td>Дата и время посещения — 11 октября 2019, пятн...</td>\n",
       "      <td>5.0</td>\n",
       "      <td>3.0</td>\n",
       "      <td>3.0</td>\n",
       "      <td>4.0</td>\n",
       "      <td>1122</td>\n",
       "      <td>1</td>\n",
       "    </tr>\n",
       "    <tr>\n",
       "      <th>2266</th>\n",
       "      <td>Monkey Izakaya Bar</td>\n",
       "      <td>4</td>\n",
       "      <td>Японская кухня</td>\n",
       "      <td>(926) 989 10 04</td>\n",
       "      <td>https://www.moscow-restaurants.ru/restaurants/...</td>\n",
       "      <td>Москва</td>\n",
       "      <td>Б.Дмитровка, д.10</td>\n",
       "      <td>https://www.moscow-restaurants.ru/restaurants/...</td>\n",
       "      <td>2022-09-09 20:24:53</td>\n",
       "      <td>chunk_d1481ab8ff1bb951e0c38694def2108c56f6fa41...</td>\n",
       "      <td>...</td>\n",
       "      <td>Б.Дмитровка, д.10</td>\n",
       "      <td>NaN</td>\n",
       "      <td>{\"\\u0415\\u0434\\u0430\": 4, \"\\u0421\\u0435\\u0440\\...</td>\n",
       "      <td>Дата и время посещения — 4 октября 2021, понед...</td>\n",
       "      <td>4.0</td>\n",
       "      <td>4.0</td>\n",
       "      <td>4.0</td>\n",
       "      <td>4.0</td>\n",
       "      <td>2266</td>\n",
       "      <td>1</td>\n",
       "    </tr>\n",
       "  </tbody>\n",
       "</table>\n",
       "<p>3 rows × 24 columns</p>\n",
       "</div>"
      ],
      "text/plain": [
       "                      title  rating             cuisine            phone  \\\n",
       "796   Red Point Izakaya Bar       4     Азиатская кухня    925 099-05-44   \n",
       "1122      Lucky Izakaya Bar       5  Паназиатская кухня  (495) 189 78 88   \n",
       "2266     Monkey Izakaya Bar       4      Японская кухня  (926) 989 10 04   \n",
       "\n",
       "                                                   link    city  \\\n",
       "796   https://www.moscow-restaurants.ru/restaurants/...  Москва   \n",
       "1122  https://www.moscow-restaurants.ru/restaurants/...  Москва   \n",
       "2266  https://www.moscow-restaurants.ru/restaurants/...  Москва   \n",
       "\n",
       "                address                                                url  \\\n",
       "796   Лесная 20, стр. 6  https://www.moscow-restaurants.ru/restaurants/...   \n",
       "1122  Б.Никитская, 23/9  https://www.moscow-restaurants.ru/restaurants/...   \n",
       "2266  Б.Дмитровка, д.10  https://www.moscow-restaurants.ru/restaurants/...   \n",
       "\n",
       "                     dttm                                              fname  \\\n",
       "796   2022-09-09 20:23:44  chunk_761d168bdaeb51a9a4f0c189cd78b233661a78fd...   \n",
       "1122  2022-09-09 20:23:59  chunk_f73a719981125ac740979802ab9e5f07930cfc00...   \n",
       "2266  2022-09-09 20:24:53  chunk_d1481ab8ff1bb951e0c38694def2108c56f6fa41...   \n",
       "\n",
       "      ...     street_address  street_locality  \\\n",
       "796   ...  Лесная 20, стр. 6              NaN   \n",
       "1122  ...  Б.Никитская, 23/9              NaN   \n",
       "2266  ...  Б.Дмитровка, д.10              NaN   \n",
       "\n",
       "                                           aspect_stars  \\\n",
       "796   {\"\\u0415\\u0434\\u0430\": 4, \"\\u0421\\u0435\\u0440\\...   \n",
       "1122  {\"\\u0415\\u0434\\u0430\": 5, \"\\u0421\\u0435\\u0440\\...   \n",
       "2266  {\"\\u0415\\u0434\\u0430\": 4, \"\\u0421\\u0435\\u0440\\...   \n",
       "\n",
       "                                                 review  Еда  Сервис  \\\n",
       "796   Дата и время посещения — 17 декабря 2020, четв...  4.0     5.0   \n",
       "1122  Дата и время посещения — 11 октября 2019, пятн...  5.0     3.0   \n",
       "2266  Дата и время посещения — 4 октября 2021, понед...  4.0     4.0   \n",
       "\n",
       "     Атмосфера Интерьер  left_id  key  \n",
       "796        4.0      4.0      796    1  \n",
       "1122       3.0      4.0     1122    1  \n",
       "2266       4.0      4.0     2266    1  \n",
       "\n",
       "[3 rows x 24 columns]"
      ]
     },
     "execution_count": 202,
     "metadata": {},
     "output_type": "execute_result"
    }
   ],
   "source": [
    "df.loc[\n",
    "    df.title.str.contains('Izakaya')\n",
    "]"
   ]
  },
  {
   "cell_type": "code",
   "execution_count": 24,
   "metadata": {},
   "outputs": [],
   "source": [
    "close_match['match1'] = close_match.apply(\n",
    "    lambda x: x.Name_norm in x.title_norm,\n",
    "    axis=1\n",
    ")\n",
    "\n",
    "close_match['match2'] = close_match.apply(\n",
    "    lambda x: x.title_norm in x.Name_norm,\n",
    "    axis=1\n",
    ")"
   ]
  },
  {
   "cell_type": "code",
   "execution_count": 25,
   "metadata": {},
   "outputs": [],
   "source": [
    "sample_match = close_match.loc[close_match.match2 | close_match.match1]"
   ]
  },
  {
   "cell_type": "code",
   "execution_count": 29,
   "metadata": {},
   "outputs": [
    {
     "data": {
      "text/plain": [
       "(42430572, 10)"
      ]
     },
     "execution_count": 29,
     "metadata": {},
     "output_type": "execute_result"
    }
   ],
   "source": [
    "data_product.shape"
   ]
  },
  {
   "cell_type": "code",
   "execution_count": 27,
   "metadata": {},
   "outputs": [],
   "source": [
    "sample_match = (\n",
    "    sample_match.sort_values(by='distance')\n",
    "    .drop_duplicates(subset=[\"left_id\"])\n",
    ")"
   ]
  },
  {
   "cell_type": "code",
   "execution_count": 28,
   "metadata": {},
   "outputs": [
    {
     "data": {
      "text/plain": [
       "(977, 12)"
      ]
     },
     "execution_count": 28,
     "metadata": {},
     "output_type": "execute_result"
    }
   ],
   "source": [
    "sample_match.shape"
   ]
  },
  {
   "cell_type": "code",
   "execution_count": 290,
   "metadata": {},
   "outputs": [],
   "source": [
    "mapping = sample_match[[\"global_id\", \"left_id\"]]"
   ]
  },
  {
   "cell_type": "code",
   "execution_count": 291,
   "metadata": {},
   "outputs": [],
   "source": [
    "df_with_id = df.drop(\"key\", axis=1).merge(mapping, how=\"inner\", on=\"left_id\")"
   ]
  },
  {
   "cell_type": "code",
   "execution_count": 310,
   "metadata": {},
   "outputs": [],
   "source": [
    "aspects = df_with_id.loc[\n",
    "    df_with_id.aspect_stars.notna(), [\"global_id\", \"aspect_stars\"]\n",
    "].reset_index(drop=True)"
   ]
  },
  {
   "cell_type": "code",
   "execution_count": 313,
   "metadata": {},
   "outputs": [],
   "source": [
    "aspects.aspect_stars = aspects.aspect_stars.apply(json.loads)"
   ]
  },
  {
   "cell_type": "code",
   "execution_count": 319,
   "metadata": {},
   "outputs": [],
   "source": [
    "aspects = aspects.explode(\"aspect_stars\").join(\n",
    "    aspects.add_suffix(\"_full\")\n",
    ")"
   ]
  },
  {
   "cell_type": "code",
   "execution_count": 322,
   "metadata": {},
   "outputs": [],
   "source": [
    "aspects['rating']  = aspects.apply(\n",
    "    lambda x: x.aspect_stars_full[x.aspect_stars], axis=1\n",
    ")"
   ]
  },
  {
   "cell_type": "code",
   "execution_count": 326,
   "metadata": {},
   "outputs": [],
   "source": [
    "aspects = aspects.drop([\"aspect_stars_full\", \"global_id_full\"], axis=1)"
   ]
  },
  {
   "cell_type": "code",
   "execution_count": 327,
   "metadata": {},
   "outputs": [
    {
     "data": {
      "text/html": [
       "<div>\n",
       "<style scoped>\n",
       "    .dataframe tbody tr th:only-of-type {\n",
       "        vertical-align: middle;\n",
       "    }\n",
       "\n",
       "    .dataframe tbody tr th {\n",
       "        vertical-align: top;\n",
       "    }\n",
       "\n",
       "    .dataframe thead th {\n",
       "        text-align: right;\n",
       "    }\n",
       "</style>\n",
       "<table border=\"1\" class=\"dataframe\">\n",
       "  <thead>\n",
       "    <tr style=\"text-align: right;\">\n",
       "      <th></th>\n",
       "      <th>global_id</th>\n",
       "      <th>aspect_stars</th>\n",
       "      <th>rating</th>\n",
       "    </tr>\n",
       "  </thead>\n",
       "  <tbody>\n",
       "    <tr>\n",
       "      <th>0</th>\n",
       "      <td>637464172</td>\n",
       "      <td>Еда</td>\n",
       "      <td>4</td>\n",
       "    </tr>\n",
       "    <tr>\n",
       "      <th>0</th>\n",
       "      <td>637464172</td>\n",
       "      <td>Сервис</td>\n",
       "      <td>4</td>\n",
       "    </tr>\n",
       "    <tr>\n",
       "      <th>0</th>\n",
       "      <td>637464172</td>\n",
       "      <td>Атмосфера</td>\n",
       "      <td>3</td>\n",
       "    </tr>\n",
       "    <tr>\n",
       "      <th>0</th>\n",
       "      <td>637464172</td>\n",
       "      <td>Интерьер</td>\n",
       "      <td>3</td>\n",
       "    </tr>\n",
       "    <tr>\n",
       "      <th>1</th>\n",
       "      <td>637539867</td>\n",
       "      <td>Еда</td>\n",
       "      <td>3</td>\n",
       "    </tr>\n",
       "    <tr>\n",
       "      <th>...</th>\n",
       "      <td>...</td>\n",
       "      <td>...</td>\n",
       "      <td>...</td>\n",
       "    </tr>\n",
       "    <tr>\n",
       "      <th>437</th>\n",
       "      <td>1034726855</td>\n",
       "      <td>Интерьер</td>\n",
       "      <td>3</td>\n",
       "    </tr>\n",
       "    <tr>\n",
       "      <th>438</th>\n",
       "      <td>1061825631</td>\n",
       "      <td>Еда</td>\n",
       "      <td>1</td>\n",
       "    </tr>\n",
       "    <tr>\n",
       "      <th>438</th>\n",
       "      <td>1061825631</td>\n",
       "      <td>Сервис</td>\n",
       "      <td>3</td>\n",
       "    </tr>\n",
       "    <tr>\n",
       "      <th>438</th>\n",
       "      <td>1061825631</td>\n",
       "      <td>Атмосфера</td>\n",
       "      <td>3</td>\n",
       "    </tr>\n",
       "    <tr>\n",
       "      <th>438</th>\n",
       "      <td>1061825631</td>\n",
       "      <td>Интерьер</td>\n",
       "      <td>4</td>\n",
       "    </tr>\n",
       "  </tbody>\n",
       "</table>\n",
       "<p>1756 rows × 3 columns</p>\n",
       "</div>"
      ],
      "text/plain": [
       "      global_id aspect_stars  rating\n",
       "0     637464172          Еда       4\n",
       "0     637464172       Сервис       4\n",
       "0     637464172    Атмосфера       3\n",
       "0     637464172     Интерьер       3\n",
       "1     637539867          Еда       3\n",
       "..          ...          ...     ...\n",
       "437  1034726855     Интерьер       3\n",
       "438  1061825631          Еда       1\n",
       "438  1061825631       Сервис       3\n",
       "438  1061825631    Атмосфера       3\n",
       "438  1061825631     Интерьер       4\n",
       "\n",
       "[1756 rows x 3 columns]"
      ]
     },
     "execution_count": 327,
     "metadata": {},
     "output_type": "execute_result"
    }
   ],
   "source": [
    "aspects"
   ]
  },
  {
   "cell_type": "code",
   "execution_count": 329,
   "metadata": {},
   "outputs": [
    {
     "data": {
      "text/plain": [
       "numpy.ndarray"
      ]
     },
     "execution_count": 329,
     "metadata": {},
     "output_type": "execute_result"
    }
   ],
   "source": [
    "type(np.array([1, 2, 3]))"
   ]
  },
  {
   "cell_type": "code",
   "execution_count": 330,
   "metadata": {},
   "outputs": [
    {
     "data": {
      "text/plain": [
       "Index(['title', 'rating', 'cuisine', 'phone', 'link', 'city', 'address', 'url',\n",
       "       'dttm', 'fname', 'x_coord', 'y_coord', 'avg_check', 'opening_hours',\n",
       "       'street_address', 'street_locality', 'aspect_stars', 'review', 'Еда',\n",
       "       'Сервис', 'Атмосфера', 'Интерьер', 'left_id', 'title_norm',\n",
       "       'global_id'],\n",
       "      dtype='object')"
      ]
     },
     "execution_count": 330,
     "metadata": {},
     "output_type": "execute_result"
    }
   ],
   "source": [
    "df_with_id.columns"
   ]
  },
  {
   "cell_type": "code",
   "execution_count": null,
   "metadata": {},
   "outputs": [],
   "source": []
  }
 ],
 "metadata": {
  "interpreter": {
   "hash": "f24a6e0d93fe0a55285c6b9d9948eb5f7b834c33dfd9558071a96849217f8064"
  },
  "kernelspec": {
   "display_name": "Python 3.8.5 ('src-rest-uVfVgev0-py3.8')",
   "language": "python",
   "name": "python3"
  },
  "language_info": {
   "codemirror_mode": {
    "name": "ipython",
    "version": 3
   },
   "file_extension": ".py",
   "mimetype": "text/x-python",
   "name": "python",
   "nbconvert_exporter": "python",
   "pygments_lexer": "ipython3",
   "version": "3.8.5"
  },
  "orig_nbformat": 4
 },
 "nbformat": 4,
 "nbformat_minor": 2
}
