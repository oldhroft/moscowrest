{
 "cells": [
  {
   "cell_type": "code",
   "execution_count": 10,
   "metadata": {},
   "outputs": [],
   "source": [
    "import pandas as pd\n",
    "import numpy as np\n",
    "\n",
    "import matplotlib.pyplot as plt"
   ]
  },
  {
   "cell_type": "code",
   "execution_count": 3,
   "metadata": {},
   "outputs": [
    {
     "data": {
      "text/html": [
       "<div>\n",
       "<style scoped>\n",
       "    .dataframe tbody tr th:only-of-type {\n",
       "        vertical-align: middle;\n",
       "    }\n",
       "\n",
       "    .dataframe tbody tr th {\n",
       "        vertical-align: top;\n",
       "    }\n",
       "\n",
       "    .dataframe thead th {\n",
       "        text-align: right;\n",
       "    }\n",
       "</style>\n",
       "<table border=\"1\" class=\"dataframe\">\n",
       "  <thead>\n",
       "    <tr style=\"text-align: right;\">\n",
       "      <th></th>\n",
       "      <th>global_id</th>\n",
       "      <th>Number</th>\n",
       "      <th>Name</th>\n",
       "      <th>IsNetObject</th>\n",
       "      <th>OperatingCompany</th>\n",
       "      <th>TypeObject</th>\n",
       "      <th>AdmArea</th>\n",
       "      <th>District</th>\n",
       "      <th>Address</th>\n",
       "      <th>PublicPhone</th>\n",
       "      <th>...</th>\n",
       "      <th>y_coord</th>\n",
       "      <th>StreetType</th>\n",
       "      <th>StreetName</th>\n",
       "      <th>HouseType</th>\n",
       "      <th>HouseName</th>\n",
       "      <th>BuildingType</th>\n",
       "      <th>BuildingName</th>\n",
       "      <th>Name_norm</th>\n",
       "      <th>OperatingCompany_count</th>\n",
       "      <th>Name_norm_count</th>\n",
       "    </tr>\n",
       "  </thead>\n",
       "  <tbody>\n",
       "    <tr>\n",
       "      <th>0</th>\n",
       "      <td>2302690498</td>\n",
       "      <td>2</td>\n",
       "      <td>Кофе с собой Клуб выпускников МГУ</td>\n",
       "      <td>нет</td>\n",
       "      <td>NaN</td>\n",
       "      <td>кафе</td>\n",
       "      <td>Центральный административный округ</td>\n",
       "      <td>Басманный район</td>\n",
       "      <td>Российская Федерация, город Москва, внутригоро...</td>\n",
       "      <td>['(929) 567-89-91']</td>\n",
       "      <td>...</td>\n",
       "      <td>55.765170</td>\n",
       "      <td>улица</td>\n",
       "      <td>садовая-черногрязская</td>\n",
       "      <td>дом</td>\n",
       "      <td>16-18</td>\n",
       "      <td>строение</td>\n",
       "      <td>1</td>\n",
       "      <td>кофе с собой клуб выпускников мгу</td>\n",
       "      <td>NaN</td>\n",
       "      <td>1</td>\n",
       "    </tr>\n",
       "    <tr>\n",
       "      <th>1</th>\n",
       "      <td>2302691541</td>\n",
       "      <td>4</td>\n",
       "      <td>Узбекское кафе</td>\n",
       "      <td>нет</td>\n",
       "      <td>NaN</td>\n",
       "      <td>кафе</td>\n",
       "      <td>Северный административный округ</td>\n",
       "      <td>район Аэропорт</td>\n",
       "      <td>город Москва, Часовая улица, дом 16, строение 18</td>\n",
       "      <td>NaN</td>\n",
       "      <td>...</td>\n",
       "      <td>55.808552</td>\n",
       "      <td>улица</td>\n",
       "      <td>часовая</td>\n",
       "      <td>дом</td>\n",
       "      <td>16</td>\n",
       "      <td>строение</td>\n",
       "      <td>18</td>\n",
       "      <td>узбекское кафе</td>\n",
       "      <td>NaN</td>\n",
       "      <td>2</td>\n",
       "    </tr>\n",
       "    <tr>\n",
       "      <th>2</th>\n",
       "      <td>2302692852</td>\n",
       "      <td>5</td>\n",
       "      <td>Скрепка</td>\n",
       "      <td>нет</td>\n",
       "      <td>NaN</td>\n",
       "      <td>кафе</td>\n",
       "      <td>Центральный административный округ</td>\n",
       "      <td>Басманный район</td>\n",
       "      <td>Российская Федерация, город Москва, внутригоро...</td>\n",
       "      <td>NaN</td>\n",
       "      <td>...</td>\n",
       "      <td>55.758780</td>\n",
       "      <td>улица</td>\n",
       "      <td>покровка</td>\n",
       "      <td>дом</td>\n",
       "      <td>3/7</td>\n",
       "      <td>строение</td>\n",
       "      <td>1г</td>\n",
       "      <td>скрепка</td>\n",
       "      <td>NaN</td>\n",
       "      <td>1</td>\n",
       "    </tr>\n",
       "    <tr>\n",
       "      <th>3</th>\n",
       "      <td>2302693205</td>\n",
       "      <td>6</td>\n",
       "      <td>Плов</td>\n",
       "      <td>нет</td>\n",
       "      <td>NaN</td>\n",
       "      <td>кафе</td>\n",
       "      <td>Северо-Западный административный округ</td>\n",
       "      <td>район Митино</td>\n",
       "      <td>город Москва, Пятницкое шоссе, дом 18</td>\n",
       "      <td>['(495) 794-45-50']</td>\n",
       "      <td>...</td>\n",
       "      <td>55.844298</td>\n",
       "      <td>шоссе</td>\n",
       "      <td>пятницкое</td>\n",
       "      <td>дом</td>\n",
       "      <td>18</td>\n",
       "      <td>NaN</td>\n",
       "      <td>NaN</td>\n",
       "      <td>плов</td>\n",
       "      <td>NaN</td>\n",
       "      <td>4</td>\n",
       "    </tr>\n",
       "    <tr>\n",
       "      <th>4</th>\n",
       "      <td>2302693627</td>\n",
       "      <td>7</td>\n",
       "      <td>Кафе «LAZZAT»</td>\n",
       "      <td>нет</td>\n",
       "      <td>NaN</td>\n",
       "      <td>кафе</td>\n",
       "      <td>Южный административный округ</td>\n",
       "      <td>район Чертаново Южное</td>\n",
       "      <td>Российская Федерация, город Москва, внутригоро...</td>\n",
       "      <td>['(925) 146-82-29']</td>\n",
       "      <td>...</td>\n",
       "      <td>55.578664</td>\n",
       "      <td>шоссе</td>\n",
       "      <td>варшавское</td>\n",
       "      <td>дом</td>\n",
       "      <td>170г</td>\n",
       "      <td>строение</td>\n",
       "      <td>22</td>\n",
       "      <td>lazzat</td>\n",
       "      <td>NaN</td>\n",
       "      <td>1</td>\n",
       "    </tr>\n",
       "  </tbody>\n",
       "</table>\n",
       "<p>5 rows × 23 columns</p>\n",
       "</div>"
      ],
      "text/plain": [
       "    global_id  Number                               Name IsNetObject  \\\n",
       "0  2302690498       2  Кофе с собой Клуб выпускников МГУ         нет   \n",
       "1  2302691541       4                     Узбекское кафе         нет   \n",
       "2  2302692852       5                            Скрепка         нет   \n",
       "3  2302693205       6                               Плов         нет   \n",
       "4  2302693627       7                      Кафе «LAZZAT»         нет   \n",
       "\n",
       "  OperatingCompany TypeObject                                 AdmArea  \\\n",
       "0              NaN       кафе      Центральный административный округ   \n",
       "1              NaN       кафе         Северный административный округ   \n",
       "2              NaN       кафе      Центральный административный округ   \n",
       "3              NaN       кафе  Северо-Западный административный округ   \n",
       "4              NaN       кафе            Южный административный округ   \n",
       "\n",
       "                District                                            Address  \\\n",
       "0        Басманный район  Российская Федерация, город Москва, внутригоро...   \n",
       "1         район Аэропорт   город Москва, Часовая улица, дом 16, строение 18   \n",
       "2        Басманный район  Российская Федерация, город Москва, внутригоро...   \n",
       "3           район Митино              город Москва, Пятницкое шоссе, дом 18   \n",
       "4  район Чертаново Южное  Российская Федерация, город Москва, внутригоро...   \n",
       "\n",
       "           PublicPhone  ...    y_coord StreetType             StreetName  \\\n",
       "0  ['(929) 567-89-91']  ...  55.765170      улица  садовая-черногрязская   \n",
       "1                  NaN  ...  55.808552      улица                часовая   \n",
       "2                  NaN  ...  55.758780      улица               покровка   \n",
       "3  ['(495) 794-45-50']  ...  55.844298      шоссе              пятницкое   \n",
       "4  ['(925) 146-82-29']  ...  55.578664      шоссе             варшавское   \n",
       "\n",
       "   HouseType HouseName BuildingType BuildingName  \\\n",
       "0        дом     16-18     строение            1   \n",
       "1        дом        16     строение           18   \n",
       "2        дом       3/7     строение           1г   \n",
       "3        дом        18          NaN          NaN   \n",
       "4        дом      170г     строение           22   \n",
       "\n",
       "                           Name_norm OperatingCompany_count Name_norm_count  \n",
       "0  кофе с собой клуб выпускников мгу                    NaN               1  \n",
       "1                     узбекское кафе                    NaN               2  \n",
       "2                            скрепка                    NaN               1  \n",
       "3                               плов                    NaN               4  \n",
       "4                             lazzat                    NaN               1  \n",
       "\n",
       "[5 rows x 23 columns]"
      ]
     },
     "execution_count": 3,
     "metadata": {},
     "output_type": "execute_result"
    }
   ],
   "source": [
    "df = pd.read_csv('../data/pa/mosdata_dataset1903.csv')\n",
    "df.head()"
   ]
  },
  {
   "cell_type": "code",
   "execution_count": 32,
   "metadata": {},
   "outputs": [
    {
     "data": {
      "text/plain": [
       "(10947, 23)"
      ]
     },
     "execution_count": 32,
     "metadata": {},
     "output_type": "execute_result"
    }
   ],
   "source": [
    "df.shape"
   ]
  },
  {
   "cell_type": "code",
   "execution_count": 4,
   "metadata": {},
   "outputs": [
    {
     "data": {
      "text/plain": [
       "кафе        7230\n",
       "ресторан    2397\n",
       "бар         1320\n",
       "Name: TypeObject, dtype: int64"
      ]
     },
     "execution_count": 4,
     "metadata": {},
     "output_type": "execute_result"
    }
   ],
   "source": [
    "df.TypeObject.value_counts()"
   ]
  },
  {
   "cell_type": "code",
   "execution_count": 11,
   "metadata": {},
   "outputs": [
    {
     "data": {
      "text/plain": [
       "<AxesSubplot:xlabel='x_coord', ylabel='y_coord'>"
      ]
     },
     "execution_count": 11,
     "metadata": {},
     "output_type": "execute_result"
    },
    {
     "data": {
      "image/png": "[encoded data removed]",
      "text/plain": [
       "<Figure size 400x300 with 1 Axes>"
      ]
     },
     "metadata": {},
     "output_type": "display_data"
    }
   ],
   "source": [
    "df.plot.scatter(\n",
    "    x='x_coord', y='y_coord', figsize=(4, 3), s=.1\n",
    ")"
   ]
  },
  {
   "cell_type": "code",
   "execution_count": 14,
   "metadata": {},
   "outputs": [
    {
     "data": {
      "text/plain": [
       "Шоколадница       158\n",
       "Мята Lounge       113\n",
       "Домино'с Пицца     75\n",
       "Додо Пицца         73\n",
       "KFC                62\n",
       "Тануки             57\n",
       "Якитория           48\n",
       "Теремок            48\n",
       "Cofix              46\n",
       "Суши Wok           44\n",
       "Name: OperatingCompany, dtype: int64"
      ]
     },
     "execution_count": 14,
     "metadata": {},
     "output_type": "execute_result"
    }
   ],
   "source": [
    "df.OperatingCompany.value_counts().head(10)"
   ]
  },
  {
   "cell_type": "code",
   "execution_count": 16,
   "metadata": {},
   "outputs": [
    {
     "data": {
      "text/plain": [
       "Центральный административный округ         4064\n",
       "Южный административный округ               1020\n",
       "Северный административный округ             959\n",
       "Западный административный округ             920\n",
       "Северо-Восточный административный округ     780\n",
       "Юго-Западный административный округ         766\n",
       "Юго-Восточный административный округ        695\n",
       "Восточный административный округ            619\n",
       "Новомосковский административный округ       471\n",
       "Северо-Западный административный округ      424\n",
       "Зеленоградский административный округ       122\n",
       "Троицкий административный округ             107\n",
       "Name: AdmArea, dtype: int64"
      ]
     },
     "execution_count": 16,
     "metadata": {},
     "output_type": "execute_result"
    }
   ],
   "source": [
    "df.AdmArea.value_counts()"
   ]
  },
  {
   "cell_type": "code",
   "execution_count": 18,
   "metadata": {},
   "outputs": [
    {
     "data": {
      "text/plain": [
       "Тверской район          828\n",
       "Пресненский район       811\n",
       "Басманный район         585\n",
       "Даниловский район       326\n",
       "район Замоскворечье     321\n",
       "Мещанский район         318\n",
       "район Хамовники         314\n",
       "Таганский район         264\n",
       "район Арбат             241\n",
       "Красносельский район    225\n",
       "Name: District, dtype: int64"
      ]
     },
     "execution_count": 18,
     "metadata": {},
     "output_type": "execute_result"
    }
   ],
   "source": [
    "df.District.value_counts().head(10)"
   ]
  },
  {
   "cell_type": "code",
   "execution_count": 19,
   "metadata": {},
   "outputs": [
    {
     "data": {
      "text/plain": [
       "улица         6271\n",
       "проспект      1090\n",
       "шоссе          847\n",
       "переулок       689\n",
       "бульвар        623\n",
       "проезд         476\n",
       "набережная     385\n",
       "площадь        321\n",
       "NaN            218\n",
       "аллея           21\n",
       "тупик            6\n",
       "Name: StreetType, dtype: int64"
      ]
     },
     "execution_count": 19,
     "metadata": {},
     "output_type": "execute_result"
    }
   ],
   "source": [
    "df.StreetType.value_counts(dropna=False)"
   ]
  },
  {
   "cell_type": "code",
   "execution_count": 25,
   "metadata": {},
   "outputs": [
    {
     "data": {
      "text/plain": [
       "дом         10543\n",
       "владение      283\n",
       "участок        43\n",
       "Name: HouseType, dtype: int64"
      ]
     },
     "execution_count": 25,
     "metadata": {},
     "output_type": "execute_result"
    }
   ],
   "source": [
    "df.HouseType.value_counts(dropna=False).head(10)"
   ]
  },
  {
   "cell_type": "code",
   "execution_count": 27,
   "metadata": {},
   "outputs": [
    {
     "data": {
      "text/plain": [
       "NaN         5611\n",
       "строение    3377\n",
       "корпус      1959\n",
       "Name: BuildingType, dtype: int64"
      ]
     },
     "execution_count": 27,
     "metadata": {},
     "output_type": "execute_result"
    }
   ],
   "source": [
    "df.BuildingType.value_counts(dropna=False).head(10)"
   ]
  },
  {
   "cell_type": "code",
   "execution_count": 24,
   "metadata": {},
   "outputs": [
    {
     "data": {
      "text/plain": [
       "<AxesSubplot:>"
      ]
     },
     "execution_count": 24,
     "metadata": {},
     "output_type": "execute_result"
    },
    {
     "data": {
      "image/png": "[encoded data removed]",
      "text/plain": [
       "<Figure size 1000x300 with 1 Axes>"
      ]
     },
     "metadata": {},
     "output_type": "display_data"
    }
   ],
   "source": [
    "df.SeatsCount.value_counts().sort_index().plot(figsize=(10, 3))"
   ]
  }
 ],
 "metadata": {
  "interpreter": {
   "hash": "f24a6e0d93fe0a55285c6b9d9948eb5f7b834c33dfd9558071a96849217f8064"
  },
  "kernelspec": {
   "display_name": "Python 3.8.5 ('src-rest-uVfVgev0-py3.8')",
   "language": "python",
   "name": "python3"
  },
  "language_info": {
   "codemirror_mode": {
    "name": "ipython",
    "version": 3
   },
   "file_extension": ".py",
   "mimetype": "text/x-python",
   "name": "python",
   "nbconvert_exporter": "python",
   "pygments_lexer": "ipython3",
   "version": "3.8.5"
  },
  "orig_nbformat": 4
 },
 "nbformat": 4,
 "nbformat_minor": 2
}
