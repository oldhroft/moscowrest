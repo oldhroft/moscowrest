{
 "cells": [
  {
   "cell_type": "code",
   "execution_count": 310,
   "metadata": {},
   "outputs": [],
   "source": [
    "import pandas as pd\n",
    "import numpy as np"
   ]
  },
  {
   "cell_type": "code",
   "execution_count": 311,
   "metadata": {},
   "outputs": [],
   "source": [
    "data = pd.read_csv(\"../data/stg/train/sentiments_rureviews_cleared.csv\")"
   ]
  },
  {
   "cell_type": "code",
   "execution_count": 312,
   "metadata": {},
   "outputs": [
    {
     "data": {
      "text/plain": [
       "-1    30000\n",
       " 0    30000\n",
       " 1    30000\n",
       "Name: sentiment, dtype: int64"
      ]
     },
     "execution_count": 312,
     "metadata": {},
     "output_type": "execute_result"
    }
   ],
   "source": [
    "data.sentiment.value_counts()"
   ]
  },
  {
   "cell_type": "code",
   "execution_count": 333,
   "metadata": {},
   "outputs": [
    {
     "data": {
      "text/plain": [
       "'прекрасные лосинки но я не попала в размер видимо станут подарком сестре'"
      ]
     },
     "execution_count": 333,
     "metadata": {},
     "output_type": "execute_result"
    }
   ],
   "source": [
    "data.loc[data.sentiment == 1, \"review\"].iloc[12]"
   ]
  },
  {
   "cell_type": "code",
   "execution_count": 113,
   "metadata": {},
   "outputs": [],
   "source": [
    "from sklearn.model_selection import train_test_split"
   ]
  },
  {
   "cell_type": "code",
   "execution_count": 26,
   "metadata": {},
   "outputs": [],
   "source": [
    "X = data['review']\n",
    "y = data.sentiment"
   ]
  },
  {
   "cell_type": "code",
   "execution_count": 27,
   "metadata": {},
   "outputs": [],
   "source": [
    "X_train, X_test, y_train, y_test = train_test_split(\n",
    "    X, y, test_size=.3, shuffle=True, random_state=17\n",
    ")"
   ]
  },
  {
   "cell_type": "code",
   "execution_count": 90,
   "metadata": {},
   "outputs": [],
   "source": [
    "from sklearn.pipeline import make_pipeline\n",
    "from sklearn.feature_extraction.text import TfidfVectorizer\n",
    "from sklearn.decomposition import TruncatedSVD\n",
    "\n",
    "from catboost import CatBoostClassifier"
   ]
  },
  {
   "cell_type": "code",
   "execution_count": 125,
   "metadata": {},
   "outputs": [],
   "source": [
    "model = make_pipeline(\n",
    "    TfidfVectorizer(max_df=.3, min_df=5),\n",
    "    TruncatedSVD(n_components=200,),\n",
    "    CatBoostClassifier(n_estimators=500, random_state=17, verbose=0)\n",
    ")"
   ]
  },
  {
   "cell_type": "code",
   "execution_count": 115,
   "metadata": {},
   "outputs": [
    {
     "name": "stdout",
     "output_type": "stream",
     "text": [
      "Learning rate set to 0.175574\n",
      "0:\tlearn: 1.0361944\ttotal: 94.9ms\tremaining: 47.4s\n",
      "1:\tlearn: 0.9920471\ttotal: 161ms\tremaining: 40.1s\n",
      "2:\tlearn: 0.9617104\ttotal: 219ms\tremaining: 36.3s\n",
      "3:\tlearn: 0.9354343\ttotal: 294ms\tremaining: 36.4s\n",
      "4:\tlearn: 0.9154334\ttotal: 349ms\tremaining: 34.5s\n",
      "5:\tlearn: 0.9005011\ttotal: 403ms\tremaining: 33.2s\n",
      "6:\tlearn: 0.8871699\ttotal: 461ms\tremaining: 32.5s\n",
      "7:\tlearn: 0.8753861\ttotal: 527ms\tremaining: 32.4s\n",
      "8:\tlearn: 0.8647393\ttotal: 588ms\tremaining: 32.1s\n",
      "9:\tlearn: 0.8557599\ttotal: 643ms\tremaining: 31.5s\n",
      "10:\tlearn: 0.8480776\ttotal: 709ms\tremaining: 31.5s\n",
      "11:\tlearn: 0.8411971\ttotal: 769ms\tremaining: 31.3s\n",
      "12:\tlearn: 0.8348165\ttotal: 826ms\tremaining: 31s\n",
      "13:\tlearn: 0.8299143\ttotal: 878ms\tremaining: 30.5s\n",
      "14:\tlearn: 0.8254289\ttotal: 931ms\tremaining: 30.1s\n",
      "15:\tlearn: 0.8206489\ttotal: 997ms\tremaining: 30.2s\n",
      "16:\tlearn: 0.8162429\ttotal: 1.05s\tremaining: 29.9s\n",
      "17:\tlearn: 0.8121970\ttotal: 1.11s\tremaining: 29.7s\n",
      "18:\tlearn: 0.8087382\ttotal: 1.18s\tremaining: 29.8s\n",
      "19:\tlearn: 0.8052379\ttotal: 1.24s\tremaining: 29.8s\n",
      "20:\tlearn: 0.8027529\ttotal: 1.3s\tremaining: 29.7s\n",
      "21:\tlearn: 0.7998101\ttotal: 1.36s\tremaining: 29.6s\n",
      "22:\tlearn: 0.7967326\ttotal: 1.43s\tremaining: 29.8s\n",
      "23:\tlearn: 0.7935184\ttotal: 1.51s\tremaining: 29.9s\n",
      "24:\tlearn: 0.7915492\ttotal: 1.57s\tremaining: 29.9s\n",
      "25:\tlearn: 0.7893396\ttotal: 1.65s\tremaining: 30.1s\n",
      "26:\tlearn: 0.7870079\ttotal: 1.72s\tremaining: 30.2s\n",
      "27:\tlearn: 0.7847819\ttotal: 1.78s\tremaining: 30s\n",
      "28:\tlearn: 0.7821576\ttotal: 1.83s\tremaining: 29.8s\n",
      "29:\tlearn: 0.7805284\ttotal: 1.9s\tremaining: 29.7s\n",
      "30:\tlearn: 0.7782577\ttotal: 1.95s\tremaining: 29.6s\n",
      "31:\tlearn: 0.7760891\ttotal: 2.01s\tremaining: 29.4s\n",
      "32:\tlearn: 0.7742182\ttotal: 2.07s\tremaining: 29.2s\n",
      "33:\tlearn: 0.7722127\ttotal: 2.13s\tremaining: 29.2s\n",
      "34:\tlearn: 0.7700457\ttotal: 2.18s\tremaining: 29s\n",
      "35:\tlearn: 0.7686136\ttotal: 2.24s\tremaining: 28.9s\n",
      "36:\tlearn: 0.7669859\ttotal: 2.3s\tremaining: 28.7s\n",
      "37:\tlearn: 0.7655933\ttotal: 2.36s\tremaining: 28.7s\n",
      "38:\tlearn: 0.7640146\ttotal: 2.41s\tremaining: 28.5s\n",
      "39:\tlearn: 0.7625038\ttotal: 2.47s\tremaining: 28.4s\n",
      "40:\tlearn: 0.7608776\ttotal: 2.52s\tremaining: 28.3s\n",
      "41:\tlearn: 0.7595471\ttotal: 2.58s\tremaining: 28.1s\n",
      "42:\tlearn: 0.7583178\ttotal: 2.63s\tremaining: 28s\n",
      "43:\tlearn: 0.7565715\ttotal: 2.69s\tremaining: 27.9s\n",
      "44:\tlearn: 0.7550897\ttotal: 2.75s\tremaining: 27.8s\n",
      "45:\tlearn: 0.7540591\ttotal: 2.8s\tremaining: 27.7s\n",
      "46:\tlearn: 0.7530456\ttotal: 2.86s\tremaining: 27.6s\n",
      "47:\tlearn: 0.7517398\ttotal: 2.91s\tremaining: 27.4s\n",
      "48:\tlearn: 0.7505655\ttotal: 2.97s\tremaining: 27.3s\n",
      "49:\tlearn: 0.7493861\ttotal: 3.02s\tremaining: 27.2s\n",
      "50:\tlearn: 0.7478222\ttotal: 3.08s\tremaining: 27.1s\n",
      "51:\tlearn: 0.7465276\ttotal: 3.13s\tremaining: 27s\n",
      "52:\tlearn: 0.7452843\ttotal: 3.19s\tremaining: 26.9s\n",
      "53:\tlearn: 0.7441011\ttotal: 3.25s\tremaining: 26.8s\n",
      "54:\tlearn: 0.7429150\ttotal: 3.31s\tremaining: 26.8s\n",
      "55:\tlearn: 0.7420654\ttotal: 3.36s\tremaining: 26.7s\n",
      "56:\tlearn: 0.7411068\ttotal: 3.43s\tremaining: 26.7s\n",
      "57:\tlearn: 0.7398696\ttotal: 3.5s\tremaining: 26.7s\n",
      "58:\tlearn: 0.7387339\ttotal: 3.56s\tremaining: 26.6s\n",
      "59:\tlearn: 0.7376558\ttotal: 3.61s\tremaining: 26.5s\n",
      "60:\tlearn: 0.7364310\ttotal: 3.67s\tremaining: 26.4s\n",
      "61:\tlearn: 0.7357327\ttotal: 3.73s\tremaining: 26.3s\n",
      "62:\tlearn: 0.7347928\ttotal: 3.79s\tremaining: 26.3s\n",
      "63:\tlearn: 0.7338438\ttotal: 3.85s\tremaining: 26.2s\n",
      "64:\tlearn: 0.7330208\ttotal: 3.92s\tremaining: 26.2s\n",
      "65:\tlearn: 0.7317535\ttotal: 3.98s\tremaining: 26.2s\n",
      "66:\tlearn: 0.7304923\ttotal: 4.06s\tremaining: 26.2s\n",
      "67:\tlearn: 0.7295702\ttotal: 4.11s\tremaining: 26.1s\n",
      "68:\tlearn: 0.7284448\ttotal: 4.16s\tremaining: 26s\n",
      "69:\tlearn: 0.7270614\ttotal: 4.22s\tremaining: 25.9s\n",
      "70:\tlearn: 0.7261163\ttotal: 4.28s\tremaining: 25.8s\n",
      "71:\tlearn: 0.7250531\ttotal: 4.34s\tremaining: 25.8s\n",
      "72:\tlearn: 0.7241315\ttotal: 4.39s\tremaining: 25.7s\n",
      "73:\tlearn: 0.7227934\ttotal: 4.45s\tremaining: 25.6s\n",
      "74:\tlearn: 0.7219823\ttotal: 4.5s\tremaining: 25.5s\n",
      "75:\tlearn: 0.7210212\ttotal: 4.56s\tremaining: 25.5s\n",
      "76:\tlearn: 0.7198645\ttotal: 4.62s\tremaining: 25.4s\n",
      "77:\tlearn: 0.7186930\ttotal: 4.69s\tremaining: 25.4s\n",
      "78:\tlearn: 0.7176040\ttotal: 4.75s\tremaining: 25.3s\n",
      "79:\tlearn: 0.7165470\ttotal: 4.8s\tremaining: 25.2s\n",
      "80:\tlearn: 0.7156635\ttotal: 4.86s\tremaining: 25.1s\n",
      "81:\tlearn: 0.7144297\ttotal: 4.91s\tremaining: 25s\n",
      "82:\tlearn: 0.7132959\ttotal: 4.97s\tremaining: 24.9s\n",
      "83:\tlearn: 0.7124231\ttotal: 5.02s\tremaining: 24.9s\n",
      "84:\tlearn: 0.7112812\ttotal: 5.07s\tremaining: 24.8s\n",
      "85:\tlearn: 0.7105227\ttotal: 5.13s\tremaining: 24.7s\n",
      "86:\tlearn: 0.7098852\ttotal: 5.18s\tremaining: 24.6s\n",
      "87:\tlearn: 0.7092110\ttotal: 5.24s\tremaining: 24.5s\n",
      "88:\tlearn: 0.7083023\ttotal: 5.29s\tremaining: 24.4s\n",
      "89:\tlearn: 0.7073279\ttotal: 5.35s\tremaining: 24.4s\n",
      "90:\tlearn: 0.7063259\ttotal: 5.41s\tremaining: 24.3s\n",
      "91:\tlearn: 0.7054888\ttotal: 5.46s\tremaining: 24.2s\n",
      "92:\tlearn: 0.7046733\ttotal: 5.54s\tremaining: 24.3s\n",
      "93:\tlearn: 0.7040775\ttotal: 5.61s\tremaining: 24.2s\n",
      "94:\tlearn: 0.7030425\ttotal: 5.66s\tremaining: 24.1s\n",
      "95:\tlearn: 0.7022738\ttotal: 5.72s\tremaining: 24.1s\n",
      "96:\tlearn: 0.7016023\ttotal: 5.77s\tremaining: 24s\n",
      "97:\tlearn: 0.7008830\ttotal: 5.82s\tremaining: 23.9s\n",
      "98:\tlearn: 0.7000709\ttotal: 5.88s\tremaining: 23.8s\n",
      "99:\tlearn: 0.6994142\ttotal: 5.93s\tremaining: 23.7s\n",
      "100:\tlearn: 0.6986120\ttotal: 5.98s\tremaining: 23.6s\n",
      "101:\tlearn: 0.6976992\ttotal: 6.04s\tremaining: 23.6s\n",
      "102:\tlearn: 0.6965517\ttotal: 6.1s\tremaining: 23.5s\n",
      "103:\tlearn: 0.6958023\ttotal: 6.15s\tremaining: 23.4s\n",
      "104:\tlearn: 0.6950880\ttotal: 6.2s\tremaining: 23.3s\n",
      "105:\tlearn: 0.6943665\ttotal: 6.25s\tremaining: 23.2s\n",
      "106:\tlearn: 0.6935976\ttotal: 6.31s\tremaining: 23.2s\n",
      "107:\tlearn: 0.6930799\ttotal: 6.36s\tremaining: 23.1s\n",
      "108:\tlearn: 0.6922431\ttotal: 6.42s\tremaining: 23s\n",
      "109:\tlearn: 0.6914196\ttotal: 6.56s\tremaining: 23.2s\n",
      "110:\tlearn: 0.6905607\ttotal: 6.63s\tremaining: 23.2s\n",
      "111:\tlearn: 0.6900163\ttotal: 6.69s\tremaining: 23.2s\n",
      "112:\tlearn: 0.6894456\ttotal: 6.78s\tremaining: 23.2s\n",
      "113:\tlearn: 0.6887730\ttotal: 6.83s\tremaining: 23.1s\n",
      "114:\tlearn: 0.6878802\ttotal: 6.89s\tremaining: 23.1s\n",
      "115:\tlearn: 0.6872090\ttotal: 6.94s\tremaining: 23s\n",
      "116:\tlearn: 0.6864993\ttotal: 7s\tremaining: 22.9s\n",
      "117:\tlearn: 0.6858940\ttotal: 7.06s\tremaining: 22.8s\n",
      "118:\tlearn: 0.6852215\ttotal: 7.11s\tremaining: 22.8s\n",
      "119:\tlearn: 0.6845734\ttotal: 7.17s\tremaining: 22.7s\n",
      "120:\tlearn: 0.6839438\ttotal: 7.22s\tremaining: 22.6s\n",
      "121:\tlearn: 0.6833316\ttotal: 7.28s\tremaining: 22.6s\n",
      "122:\tlearn: 0.6827198\ttotal: 7.33s\tremaining: 22.5s\n",
      "123:\tlearn: 0.6821121\ttotal: 7.38s\tremaining: 22.4s\n",
      "124:\tlearn: 0.6815108\ttotal: 7.44s\tremaining: 22.3s\n",
      "125:\tlearn: 0.6808841\ttotal: 7.5s\tremaining: 22.3s\n",
      "126:\tlearn: 0.6801571\ttotal: 7.55s\tremaining: 22.2s\n",
      "127:\tlearn: 0.6794827\ttotal: 7.61s\tremaining: 22.1s\n",
      "128:\tlearn: 0.6789127\ttotal: 7.66s\tremaining: 22s\n",
      "129:\tlearn: 0.6783421\ttotal: 7.72s\tremaining: 22s\n",
      "130:\tlearn: 0.6777936\ttotal: 7.77s\tremaining: 21.9s\n",
      "131:\tlearn: 0.6773972\ttotal: 7.82s\tremaining: 21.8s\n",
      "132:\tlearn: 0.6767935\ttotal: 7.88s\tremaining: 21.7s\n",
      "133:\tlearn: 0.6760870\ttotal: 7.94s\tremaining: 21.7s\n",
      "134:\tlearn: 0.6755004\ttotal: 8s\tremaining: 21.6s\n",
      "135:\tlearn: 0.6750610\ttotal: 8.05s\tremaining: 21.5s\n",
      "136:\tlearn: 0.6745057\ttotal: 8.1s\tremaining: 21.5s\n",
      "137:\tlearn: 0.6740711\ttotal: 8.15s\tremaining: 21.4s\n",
      "138:\tlearn: 0.6735505\ttotal: 8.21s\tremaining: 21.3s\n",
      "139:\tlearn: 0.6730659\ttotal: 8.26s\tremaining: 21.2s\n",
      "140:\tlearn: 0.6724899\ttotal: 8.32s\tremaining: 21.2s\n",
      "141:\tlearn: 0.6720319\ttotal: 8.38s\tremaining: 21.1s\n",
      "142:\tlearn: 0.6714889\ttotal: 8.43s\tremaining: 21s\n",
      "143:\tlearn: 0.6710109\ttotal: 8.47s\tremaining: 21s\n",
      "144:\tlearn: 0.6704661\ttotal: 8.53s\tremaining: 20.9s\n",
      "145:\tlearn: 0.6699306\ttotal: 8.59s\tremaining: 20.8s\n",
      "146:\tlearn: 0.6693038\ttotal: 8.64s\tremaining: 20.7s\n",
      "147:\tlearn: 0.6687631\ttotal: 8.69s\tremaining: 20.7s\n",
      "148:\tlearn: 0.6681574\ttotal: 8.75s\tremaining: 20.6s\n",
      "149:\tlearn: 0.6676873\ttotal: 8.81s\tremaining: 20.6s\n",
      "150:\tlearn: 0.6671740\ttotal: 8.86s\tremaining: 20.5s\n",
      "151:\tlearn: 0.6665902\ttotal: 8.91s\tremaining: 20.4s\n",
      "152:\tlearn: 0.6661127\ttotal: 8.97s\tremaining: 20.3s\n",
      "153:\tlearn: 0.6654776\ttotal: 9.04s\tremaining: 20.3s\n",
      "154:\tlearn: 0.6649880\ttotal: 9.09s\tremaining: 20.2s\n",
      "155:\tlearn: 0.6644655\ttotal: 9.15s\tremaining: 20.2s\n",
      "156:\tlearn: 0.6639044\ttotal: 9.21s\tremaining: 20.1s\n",
      "157:\tlearn: 0.6634275\ttotal: 9.26s\tremaining: 20s\n",
      "158:\tlearn: 0.6629852\ttotal: 9.32s\tremaining: 20s\n",
      "159:\tlearn: 0.6625381\ttotal: 9.37s\tremaining: 19.9s\n",
      "160:\tlearn: 0.6620493\ttotal: 9.43s\tremaining: 19.9s\n",
      "161:\tlearn: 0.6615930\ttotal: 9.48s\tremaining: 19.8s\n",
      "162:\tlearn: 0.6610111\ttotal: 9.54s\tremaining: 19.7s\n",
      "163:\tlearn: 0.6603514\ttotal: 9.6s\tremaining: 19.7s\n",
      "164:\tlearn: 0.6597295\ttotal: 9.66s\tremaining: 19.6s\n",
      "165:\tlearn: 0.6591308\ttotal: 9.71s\tremaining: 19.5s\n",
      "166:\tlearn: 0.6585208\ttotal: 9.77s\tremaining: 19.5s\n",
      "167:\tlearn: 0.6580956\ttotal: 9.82s\tremaining: 19.4s\n",
      "168:\tlearn: 0.6576227\ttotal: 9.88s\tremaining: 19.4s\n",
      "169:\tlearn: 0.6572076\ttotal: 9.94s\tremaining: 19.3s\n",
      "170:\tlearn: 0.6566290\ttotal: 10s\tremaining: 19.2s\n",
      "171:\tlearn: 0.6561537\ttotal: 10.1s\tremaining: 19.2s\n",
      "172:\tlearn: 0.6557976\ttotal: 10.1s\tremaining: 19.1s\n",
      "173:\tlearn: 0.6552199\ttotal: 10.2s\tremaining: 19.1s\n",
      "174:\tlearn: 0.6548069\ttotal: 10.2s\tremaining: 19s\n",
      "175:\tlearn: 0.6541703\ttotal: 10.3s\tremaining: 18.9s\n",
      "176:\tlearn: 0.6537226\ttotal: 10.3s\tremaining: 18.9s\n",
      "177:\tlearn: 0.6532912\ttotal: 10.4s\tremaining: 18.8s\n",
      "178:\tlearn: 0.6528555\ttotal: 10.5s\tremaining: 18.8s\n",
      "179:\tlearn: 0.6524131\ttotal: 10.5s\tremaining: 18.7s\n",
      "180:\tlearn: 0.6520094\ttotal: 10.6s\tremaining: 18.6s\n",
      "181:\tlearn: 0.6515882\ttotal: 10.6s\tremaining: 18.6s\n",
      "182:\tlearn: 0.6509532\ttotal: 10.7s\tremaining: 18.5s\n",
      "183:\tlearn: 0.6504093\ttotal: 10.8s\tremaining: 18.5s\n",
      "184:\tlearn: 0.6500350\ttotal: 10.8s\tremaining: 18.4s\n",
      "185:\tlearn: 0.6495535\ttotal: 10.9s\tremaining: 18.4s\n",
      "186:\tlearn: 0.6490449\ttotal: 10.9s\tremaining: 18.3s\n",
      "187:\tlearn: 0.6486701\ttotal: 11s\tremaining: 18.3s\n",
      "188:\tlearn: 0.6481499\ttotal: 11.1s\tremaining: 18.2s\n",
      "189:\tlearn: 0.6476293\ttotal: 11.1s\tremaining: 18.2s\n",
      "190:\tlearn: 0.6472038\ttotal: 11.2s\tremaining: 18.1s\n",
      "191:\tlearn: 0.6466353\ttotal: 11.2s\tremaining: 18s\n",
      "192:\tlearn: 0.6460954\ttotal: 11.3s\tremaining: 18s\n",
      "193:\tlearn: 0.6455943\ttotal: 11.4s\tremaining: 17.9s\n",
      "194:\tlearn: 0.6452504\ttotal: 11.4s\tremaining: 17.9s\n",
      "195:\tlearn: 0.6448841\ttotal: 11.5s\tremaining: 17.8s\n",
      "196:\tlearn: 0.6443406\ttotal: 11.5s\tremaining: 17.7s\n",
      "197:\tlearn: 0.6437754\ttotal: 11.6s\tremaining: 17.7s\n",
      "198:\tlearn: 0.6433595\ttotal: 11.7s\tremaining: 17.6s\n",
      "199:\tlearn: 0.6429674\ttotal: 11.7s\tremaining: 17.6s\n",
      "200:\tlearn: 0.6425754\ttotal: 11.8s\tremaining: 17.5s\n",
      "201:\tlearn: 0.6422168\ttotal: 11.8s\tremaining: 17.4s\n",
      "202:\tlearn: 0.6418641\ttotal: 11.9s\tremaining: 17.4s\n",
      "203:\tlearn: 0.6414045\ttotal: 11.9s\tremaining: 17.3s\n",
      "204:\tlearn: 0.6410094\ttotal: 12s\tremaining: 17.3s\n",
      "205:\tlearn: 0.6406581\ttotal: 12.1s\tremaining: 17.2s\n",
      "206:\tlearn: 0.6402536\ttotal: 12.1s\tremaining: 17.2s\n",
      "207:\tlearn: 0.6399348\ttotal: 12.2s\tremaining: 17.1s\n",
      "208:\tlearn: 0.6395082\ttotal: 12.3s\tremaining: 17.1s\n",
      "209:\tlearn: 0.6392257\ttotal: 12.3s\tremaining: 17s\n",
      "210:\tlearn: 0.6388833\ttotal: 12.4s\tremaining: 17s\n",
      "211:\tlearn: 0.6385489\ttotal: 12.5s\tremaining: 16.9s\n",
      "212:\tlearn: 0.6382783\ttotal: 12.5s\tremaining: 16.9s\n",
      "213:\tlearn: 0.6379452\ttotal: 12.6s\tremaining: 16.8s\n",
      "214:\tlearn: 0.6375825\ttotal: 12.6s\tremaining: 16.7s\n",
      "215:\tlearn: 0.6373015\ttotal: 12.7s\tremaining: 16.7s\n",
      "216:\tlearn: 0.6368168\ttotal: 12.8s\tremaining: 16.7s\n",
      "217:\tlearn: 0.6364724\ttotal: 12.8s\tremaining: 16.6s\n",
      "218:\tlearn: 0.6360027\ttotal: 12.9s\tremaining: 16.5s\n",
      "219:\tlearn: 0.6357167\ttotal: 12.9s\tremaining: 16.5s\n",
      "220:\tlearn: 0.6352593\ttotal: 13s\tremaining: 16.4s\n",
      "221:\tlearn: 0.6348062\ttotal: 13.1s\tremaining: 16.4s\n",
      "222:\tlearn: 0.6343921\ttotal: 13.1s\tremaining: 16.3s\n",
      "223:\tlearn: 0.6340267\ttotal: 13.2s\tremaining: 16.2s\n",
      "224:\tlearn: 0.6336589\ttotal: 13.2s\tremaining: 16.2s\n",
      "225:\tlearn: 0.6332270\ttotal: 13.3s\tremaining: 16.1s\n",
      "226:\tlearn: 0.6328788\ttotal: 13.3s\tremaining: 16.1s\n",
      "227:\tlearn: 0.6325559\ttotal: 13.4s\tremaining: 16s\n",
      "228:\tlearn: 0.6320219\ttotal: 13.5s\tremaining: 15.9s\n",
      "229:\tlearn: 0.6317236\ttotal: 13.5s\tremaining: 15.9s\n",
      "230:\tlearn: 0.6313129\ttotal: 13.6s\tremaining: 15.8s\n",
      "231:\tlearn: 0.6308838\ttotal: 13.6s\tremaining: 15.7s\n",
      "232:\tlearn: 0.6306232\ttotal: 13.7s\tremaining: 15.7s\n",
      "233:\tlearn: 0.6301044\ttotal: 13.7s\tremaining: 15.6s\n",
      "234:\tlearn: 0.6297376\ttotal: 13.8s\tremaining: 15.6s\n",
      "235:\tlearn: 0.6292062\ttotal: 13.9s\tremaining: 15.5s\n",
      "236:\tlearn: 0.6287483\ttotal: 13.9s\tremaining: 15.4s\n",
      "237:\tlearn: 0.6283267\ttotal: 14s\tremaining: 15.4s\n",
      "238:\tlearn: 0.6280490\ttotal: 14s\tremaining: 15.3s\n",
      "239:\tlearn: 0.6275933\ttotal: 14.1s\tremaining: 15.3s\n",
      "240:\tlearn: 0.6272420\ttotal: 14.1s\tremaining: 15.2s\n",
      "241:\tlearn: 0.6267924\ttotal: 14.2s\tremaining: 15.1s\n",
      "242:\tlearn: 0.6264090\ttotal: 14.3s\tremaining: 15.1s\n",
      "243:\tlearn: 0.6260741\ttotal: 14.3s\tremaining: 15s\n",
      "244:\tlearn: 0.6256534\ttotal: 14.4s\tremaining: 15s\n",
      "245:\tlearn: 0.6252532\ttotal: 14.4s\tremaining: 14.9s\n",
      "246:\tlearn: 0.6248745\ttotal: 14.5s\tremaining: 14.8s\n",
      "247:\tlearn: 0.6245420\ttotal: 14.5s\tremaining: 14.8s\n",
      "248:\tlearn: 0.6241665\ttotal: 14.6s\tremaining: 14.7s\n",
      "249:\tlearn: 0.6238479\ttotal: 14.7s\tremaining: 14.7s\n",
      "250:\tlearn: 0.6234329\ttotal: 14.7s\tremaining: 14.6s\n",
      "251:\tlearn: 0.6231329\ttotal: 14.8s\tremaining: 14.5s\n",
      "252:\tlearn: 0.6226542\ttotal: 14.8s\tremaining: 14.5s\n",
      "253:\tlearn: 0.6221870\ttotal: 14.9s\tremaining: 14.4s\n",
      "254:\tlearn: 0.6218602\ttotal: 14.9s\tremaining: 14.4s\n",
      "255:\tlearn: 0.6214160\ttotal: 15s\tremaining: 14.3s\n",
      "256:\tlearn: 0.6209487\ttotal: 15.1s\tremaining: 14.2s\n",
      "257:\tlearn: 0.6204789\ttotal: 15.1s\tremaining: 14.2s\n",
      "258:\tlearn: 0.6201315\ttotal: 15.2s\tremaining: 14.1s\n",
      "259:\tlearn: 0.6197404\ttotal: 15.2s\tremaining: 14.1s\n",
      "260:\tlearn: 0.6192564\ttotal: 15.3s\tremaining: 14s\n",
      "261:\tlearn: 0.6189996\ttotal: 15.3s\tremaining: 13.9s\n",
      "262:\tlearn: 0.6187167\ttotal: 15.4s\tremaining: 13.9s\n",
      "263:\tlearn: 0.6183794\ttotal: 15.5s\tremaining: 13.8s\n",
      "264:\tlearn: 0.6178834\ttotal: 15.5s\tremaining: 13.8s\n",
      "265:\tlearn: 0.6174591\ttotal: 15.6s\tremaining: 13.7s\n",
      "266:\tlearn: 0.6170594\ttotal: 15.6s\tremaining: 13.7s\n",
      "267:\tlearn: 0.6167359\ttotal: 15.7s\tremaining: 13.6s\n",
      "268:\tlearn: 0.6164916\ttotal: 15.8s\tremaining: 13.5s\n",
      "269:\tlearn: 0.6158814\ttotal: 15.8s\tremaining: 13.5s\n",
      "270:\tlearn: 0.6155860\ttotal: 15.9s\tremaining: 13.4s\n",
      "271:\tlearn: 0.6152101\ttotal: 16s\tremaining: 13.4s\n",
      "272:\tlearn: 0.6147843\ttotal: 16.1s\tremaining: 13.3s\n",
      "273:\tlearn: 0.6143829\ttotal: 16.1s\tremaining: 13.3s\n",
      "274:\tlearn: 0.6140166\ttotal: 16.2s\tremaining: 13.3s\n",
      "275:\tlearn: 0.6136918\ttotal: 16.3s\tremaining: 13.2s\n",
      "276:\tlearn: 0.6133056\ttotal: 16.3s\tremaining: 13.1s\n",
      "277:\tlearn: 0.6129480\ttotal: 16.4s\tremaining: 13.1s\n",
      "278:\tlearn: 0.6125582\ttotal: 16.4s\tremaining: 13s\n",
      "279:\tlearn: 0.6120833\ttotal: 16.5s\tremaining: 13s\n",
      "280:\tlearn: 0.6116665\ttotal: 16.6s\tremaining: 12.9s\n",
      "281:\tlearn: 0.6112789\ttotal: 16.6s\tremaining: 12.8s\n",
      "282:\tlearn: 0.6108118\ttotal: 16.7s\tremaining: 12.8s\n",
      "283:\tlearn: 0.6103855\ttotal: 16.7s\tremaining: 12.7s\n",
      "284:\tlearn: 0.6100895\ttotal: 16.8s\tremaining: 12.7s\n",
      "285:\tlearn: 0.6098499\ttotal: 16.9s\tremaining: 12.6s\n",
      "286:\tlearn: 0.6095316\ttotal: 16.9s\tremaining: 12.6s\n",
      "287:\tlearn: 0.6091334\ttotal: 17s\tremaining: 12.5s\n",
      "288:\tlearn: 0.6088291\ttotal: 17.1s\tremaining: 12.5s\n",
      "289:\tlearn: 0.6084419\ttotal: 17.2s\tremaining: 12.4s\n",
      "290:\tlearn: 0.6079742\ttotal: 17.2s\tremaining: 12.4s\n",
      "291:\tlearn: 0.6076214\ttotal: 17.3s\tremaining: 12.3s\n",
      "292:\tlearn: 0.6073789\ttotal: 17.3s\tremaining: 12.2s\n",
      "293:\tlearn: 0.6070550\ttotal: 17.4s\tremaining: 12.2s\n",
      "294:\tlearn: 0.6066617\ttotal: 17.5s\tremaining: 12.1s\n",
      "295:\tlearn: 0.6062847\ttotal: 17.5s\tremaining: 12.1s\n",
      "296:\tlearn: 0.6058545\ttotal: 17.6s\tremaining: 12s\n",
      "297:\tlearn: 0.6054230\ttotal: 17.6s\tremaining: 12s\n",
      "298:\tlearn: 0.6050188\ttotal: 17.7s\tremaining: 11.9s\n",
      "299:\tlearn: 0.6046320\ttotal: 17.8s\tremaining: 11.8s\n",
      "300:\tlearn: 0.6041830\ttotal: 17.9s\tremaining: 11.8s\n",
      "301:\tlearn: 0.6038178\ttotal: 17.9s\tremaining: 11.8s\n",
      "302:\tlearn: 0.6034435\ttotal: 18s\tremaining: 11.7s\n",
      "303:\tlearn: 0.6031983\ttotal: 18.1s\tremaining: 11.7s\n",
      "304:\tlearn: 0.6028488\ttotal: 18.2s\tremaining: 11.6s\n",
      "305:\tlearn: 0.6025191\ttotal: 18.2s\tremaining: 11.6s\n",
      "306:\tlearn: 0.6021232\ttotal: 18.3s\tremaining: 11.5s\n",
      "307:\tlearn: 0.6017754\ttotal: 18.4s\tremaining: 11.5s\n",
      "308:\tlearn: 0.6014514\ttotal: 18.4s\tremaining: 11.4s\n",
      "309:\tlearn: 0.6010751\ttotal: 18.5s\tremaining: 11.3s\n",
      "310:\tlearn: 0.6007407\ttotal: 18.6s\tremaining: 11.3s\n",
      "311:\tlearn: 0.6004215\ttotal: 18.6s\tremaining: 11.2s\n",
      "312:\tlearn: 0.6001530\ttotal: 18.7s\tremaining: 11.2s\n",
      "313:\tlearn: 0.5998912\ttotal: 18.7s\tremaining: 11.1s\n",
      "314:\tlearn: 0.5995461\ttotal: 18.8s\tremaining: 11s\n",
      "315:\tlearn: 0.5992149\ttotal: 18.9s\tremaining: 11s\n",
      "316:\tlearn: 0.5989169\ttotal: 19s\tremaining: 10.9s\n",
      "317:\tlearn: 0.5985703\ttotal: 19s\tremaining: 10.9s\n",
      "318:\tlearn: 0.5980232\ttotal: 19.1s\tremaining: 10.8s\n",
      "319:\tlearn: 0.5976865\ttotal: 19.2s\tremaining: 10.8s\n",
      "320:\tlearn: 0.5973929\ttotal: 19.2s\tremaining: 10.7s\n",
      "321:\tlearn: 0.5970026\ttotal: 19.3s\tremaining: 10.7s\n",
      "322:\tlearn: 0.5967311\ttotal: 19.4s\tremaining: 10.6s\n",
      "323:\tlearn: 0.5964120\ttotal: 19.4s\tremaining: 10.5s\n",
      "324:\tlearn: 0.5961487\ttotal: 19.5s\tremaining: 10.5s\n",
      "325:\tlearn: 0.5958586\ttotal: 19.5s\tremaining: 10.4s\n",
      "326:\tlearn: 0.5956196\ttotal: 19.6s\tremaining: 10.4s\n",
      "327:\tlearn: 0.5952787\ttotal: 19.7s\tremaining: 10.3s\n",
      "328:\tlearn: 0.5949527\ttotal: 19.7s\tremaining: 10.3s\n",
      "329:\tlearn: 0.5946784\ttotal: 19.8s\tremaining: 10.2s\n",
      "330:\tlearn: 0.5943377\ttotal: 19.9s\tremaining: 10.2s\n",
      "331:\tlearn: 0.5939271\ttotal: 20s\tremaining: 10.1s\n",
      "332:\tlearn: 0.5935422\ttotal: 20.1s\tremaining: 10.1s\n",
      "333:\tlearn: 0.5932270\ttotal: 20.1s\tremaining: 10s\n",
      "334:\tlearn: 0.5928892\ttotal: 20.2s\tremaining: 9.94s\n",
      "335:\tlearn: 0.5926388\ttotal: 20.3s\tremaining: 9.88s\n",
      "336:\tlearn: 0.5923548\ttotal: 20.3s\tremaining: 9.83s\n",
      "337:\tlearn: 0.5920525\ttotal: 20.4s\tremaining: 9.77s\n",
      "338:\tlearn: 0.5917668\ttotal: 20.4s\tremaining: 9.71s\n",
      "339:\tlearn: 0.5914253\ttotal: 20.5s\tremaining: 9.64s\n",
      "340:\tlearn: 0.5910353\ttotal: 20.6s\tremaining: 9.58s\n",
      "341:\tlearn: 0.5907467\ttotal: 20.6s\tremaining: 9.52s\n",
      "342:\tlearn: 0.5905447\ttotal: 20.7s\tremaining: 9.46s\n",
      "343:\tlearn: 0.5902717\ttotal: 20.7s\tremaining: 9.39s\n",
      "344:\tlearn: 0.5899704\ttotal: 20.8s\tremaining: 9.34s\n",
      "345:\tlearn: 0.5896847\ttotal: 20.8s\tremaining: 9.28s\n",
      "346:\tlearn: 0.5893974\ttotal: 20.9s\tremaining: 9.21s\n",
      "347:\tlearn: 0.5891555\ttotal: 21s\tremaining: 9.15s\n",
      "348:\tlearn: 0.5888739\ttotal: 21s\tremaining: 9.09s\n",
      "349:\tlearn: 0.5886077\ttotal: 21.1s\tremaining: 9.03s\n",
      "350:\tlearn: 0.5883723\ttotal: 21.1s\tremaining: 8.97s\n",
      "351:\tlearn: 0.5881117\ttotal: 21.2s\tremaining: 8.9s\n",
      "352:\tlearn: 0.5877510\ttotal: 21.2s\tremaining: 8.85s\n",
      "353:\tlearn: 0.5874212\ttotal: 21.3s\tremaining: 8.78s\n",
      "354:\tlearn: 0.5869641\ttotal: 21.4s\tremaining: 8.72s\n",
      "355:\tlearn: 0.5866057\ttotal: 21.4s\tremaining: 8.66s\n",
      "356:\tlearn: 0.5863777\ttotal: 21.5s\tremaining: 8.6s\n",
      "357:\tlearn: 0.5860841\ttotal: 21.5s\tremaining: 8.54s\n",
      "358:\tlearn: 0.5858028\ttotal: 21.6s\tremaining: 8.48s\n",
      "359:\tlearn: 0.5853994\ttotal: 21.7s\tremaining: 8.42s\n",
      "360:\tlearn: 0.5850671\ttotal: 21.7s\tremaining: 8.36s\n",
      "361:\tlearn: 0.5848142\ttotal: 21.8s\tremaining: 8.3s\n",
      "362:\tlearn: 0.5845213\ttotal: 21.8s\tremaining: 8.24s\n",
      "363:\tlearn: 0.5841838\ttotal: 21.9s\tremaining: 8.18s\n",
      "364:\tlearn: 0.5837925\ttotal: 22s\tremaining: 8.12s\n",
      "365:\tlearn: 0.5835516\ttotal: 22s\tremaining: 8.06s\n",
      "366:\tlearn: 0.5831830\ttotal: 22.1s\tremaining: 8s\n",
      "367:\tlearn: 0.5828887\ttotal: 22.1s\tremaining: 7.94s\n",
      "368:\tlearn: 0.5825779\ttotal: 22.2s\tremaining: 7.88s\n",
      "369:\tlearn: 0.5822339\ttotal: 22.3s\tremaining: 7.82s\n",
      "370:\tlearn: 0.5819420\ttotal: 22.3s\tremaining: 7.75s\n",
      "371:\tlearn: 0.5816517\ttotal: 22.4s\tremaining: 7.69s\n",
      "372:\tlearn: 0.5813518\ttotal: 22.4s\tremaining: 7.63s\n",
      "373:\tlearn: 0.5810873\ttotal: 22.5s\tremaining: 7.57s\n",
      "374:\tlearn: 0.5807082\ttotal: 22.5s\tremaining: 7.51s\n",
      "375:\tlearn: 0.5805496\ttotal: 22.6s\tremaining: 7.45s\n",
      "376:\tlearn: 0.5802323\ttotal: 22.7s\tremaining: 7.39s\n",
      "377:\tlearn: 0.5799537\ttotal: 22.8s\tremaining: 7.36s\n",
      "378:\tlearn: 0.5795252\ttotal: 22.9s\tremaining: 7.31s\n",
      "379:\tlearn: 0.5792288\ttotal: 22.9s\tremaining: 7.25s\n",
      "380:\tlearn: 0.5788827\ttotal: 23s\tremaining: 7.19s\n",
      "381:\tlearn: 0.5786099\ttotal: 23.1s\tremaining: 7.12s\n",
      "382:\tlearn: 0.5782954\ttotal: 23.1s\tremaining: 7.07s\n",
      "383:\tlearn: 0.5779462\ttotal: 23.2s\tremaining: 7s\n",
      "384:\tlearn: 0.5777221\ttotal: 23.2s\tremaining: 6.94s\n",
      "385:\tlearn: 0.5773717\ttotal: 23.3s\tremaining: 6.88s\n",
      "386:\tlearn: 0.5770986\ttotal: 23.4s\tremaining: 6.83s\n",
      "387:\tlearn: 0.5768598\ttotal: 23.4s\tremaining: 6.77s\n",
      "388:\tlearn: 0.5766842\ttotal: 23.5s\tremaining: 6.71s\n",
      "389:\tlearn: 0.5764571\ttotal: 23.6s\tremaining: 6.65s\n",
      "390:\tlearn: 0.5760018\ttotal: 23.7s\tremaining: 6.59s\n",
      "391:\tlearn: 0.5757572\ttotal: 23.7s\tremaining: 6.54s\n",
      "392:\tlearn: 0.5755058\ttotal: 23.8s\tremaining: 6.47s\n",
      "393:\tlearn: 0.5751751\ttotal: 23.8s\tremaining: 6.41s\n",
      "394:\tlearn: 0.5747777\ttotal: 23.9s\tremaining: 6.36s\n",
      "395:\tlearn: 0.5744199\ttotal: 24s\tremaining: 6.29s\n",
      "396:\tlearn: 0.5741110\ttotal: 24s\tremaining: 6.24s\n",
      "397:\tlearn: 0.5739325\ttotal: 24.1s\tremaining: 6.17s\n",
      "398:\tlearn: 0.5737430\ttotal: 24.2s\tremaining: 6.11s\n",
      "399:\tlearn: 0.5734277\ttotal: 24.2s\tremaining: 6.05s\n",
      "400:\tlearn: 0.5731196\ttotal: 24.3s\tremaining: 5.99s\n",
      "401:\tlearn: 0.5727907\ttotal: 24.3s\tremaining: 5.93s\n",
      "402:\tlearn: 0.5724126\ttotal: 24.4s\tremaining: 5.87s\n",
      "403:\tlearn: 0.5720641\ttotal: 24.4s\tremaining: 5.81s\n",
      "404:\tlearn: 0.5717274\ttotal: 24.5s\tremaining: 5.75s\n",
      "405:\tlearn: 0.5713786\ttotal: 24.6s\tremaining: 5.69s\n",
      "406:\tlearn: 0.5709975\ttotal: 24.6s\tremaining: 5.63s\n",
      "407:\tlearn: 0.5706216\ttotal: 24.7s\tremaining: 5.57s\n",
      "408:\tlearn: 0.5703730\ttotal: 24.8s\tremaining: 5.51s\n",
      "409:\tlearn: 0.5701449\ttotal: 24.8s\tremaining: 5.45s\n",
      "410:\tlearn: 0.5698878\ttotal: 24.9s\tremaining: 5.38s\n",
      "411:\tlearn: 0.5696217\ttotal: 24.9s\tremaining: 5.32s\n",
      "412:\tlearn: 0.5693856\ttotal: 25s\tremaining: 5.26s\n",
      "413:\tlearn: 0.5691447\ttotal: 25s\tremaining: 5.2s\n",
      "414:\tlearn: 0.5688221\ttotal: 25.1s\tremaining: 5.14s\n",
      "415:\tlearn: 0.5685531\ttotal: 25.2s\tremaining: 5.08s\n",
      "416:\tlearn: 0.5682343\ttotal: 25.2s\tremaining: 5.02s\n",
      "417:\tlearn: 0.5679412\ttotal: 25.3s\tremaining: 4.96s\n",
      "418:\tlearn: 0.5677122\ttotal: 25.3s\tremaining: 4.9s\n",
      "419:\tlearn: 0.5675060\ttotal: 25.4s\tremaining: 4.84s\n",
      "420:\tlearn: 0.5672823\ttotal: 25.5s\tremaining: 4.78s\n",
      "421:\tlearn: 0.5670378\ttotal: 25.5s\tremaining: 4.72s\n",
      "422:\tlearn: 0.5667778\ttotal: 25.6s\tremaining: 4.66s\n",
      "423:\tlearn: 0.5665203\ttotal: 25.6s\tremaining: 4.6s\n",
      "424:\tlearn: 0.5662996\ttotal: 25.7s\tremaining: 4.53s\n",
      "425:\tlearn: 0.5660066\ttotal: 25.7s\tremaining: 4.47s\n",
      "426:\tlearn: 0.5656710\ttotal: 25.8s\tremaining: 4.41s\n",
      "427:\tlearn: 0.5654207\ttotal: 25.9s\tremaining: 4.35s\n",
      "428:\tlearn: 0.5651335\ttotal: 25.9s\tremaining: 4.29s\n",
      "429:\tlearn: 0.5648971\ttotal: 26s\tremaining: 4.23s\n",
      "430:\tlearn: 0.5646997\ttotal: 26s\tremaining: 4.17s\n",
      "431:\tlearn: 0.5642506\ttotal: 26.1s\tremaining: 4.11s\n",
      "432:\tlearn: 0.5640217\ttotal: 26.2s\tremaining: 4.05s\n",
      "433:\tlearn: 0.5636779\ttotal: 26.2s\tremaining: 3.99s\n",
      "434:\tlearn: 0.5633810\ttotal: 26.3s\tremaining: 3.93s\n",
      "435:\tlearn: 0.5629812\ttotal: 26.4s\tremaining: 3.87s\n",
      "436:\tlearn: 0.5627312\ttotal: 26.4s\tremaining: 3.81s\n",
      "437:\tlearn: 0.5623955\ttotal: 26.5s\tremaining: 3.75s\n",
      "438:\tlearn: 0.5620217\ttotal: 26.6s\tremaining: 3.69s\n",
      "439:\tlearn: 0.5616921\ttotal: 26.6s\tremaining: 3.63s\n",
      "440:\tlearn: 0.5614864\ttotal: 26.7s\tremaining: 3.57s\n",
      "441:\tlearn: 0.5611907\ttotal: 26.7s\tremaining: 3.51s\n",
      "442:\tlearn: 0.5609610\ttotal: 26.8s\tremaining: 3.45s\n",
      "443:\tlearn: 0.5607068\ttotal: 26.9s\tremaining: 3.39s\n",
      "444:\tlearn: 0.5603402\ttotal: 26.9s\tremaining: 3.33s\n",
      "445:\tlearn: 0.5601020\ttotal: 27s\tremaining: 3.27s\n",
      "446:\tlearn: 0.5598988\ttotal: 27s\tremaining: 3.21s\n",
      "447:\tlearn: 0.5595328\ttotal: 27.1s\tremaining: 3.15s\n",
      "448:\tlearn: 0.5593753\ttotal: 27.2s\tremaining: 3.09s\n",
      "449:\tlearn: 0.5591670\ttotal: 27.2s\tremaining: 3.02s\n",
      "450:\tlearn: 0.5588071\ttotal: 27.3s\tremaining: 2.96s\n",
      "451:\tlearn: 0.5586201\ttotal: 27.4s\tremaining: 2.9s\n",
      "452:\tlearn: 0.5582650\ttotal: 27.4s\tremaining: 2.84s\n",
      "453:\tlearn: 0.5579722\ttotal: 27.5s\tremaining: 2.78s\n",
      "454:\tlearn: 0.5576919\ttotal: 27.5s\tremaining: 2.72s\n",
      "455:\tlearn: 0.5573265\ttotal: 27.6s\tremaining: 2.66s\n",
      "456:\tlearn: 0.5570494\ttotal: 27.7s\tremaining: 2.6s\n",
      "457:\tlearn: 0.5567329\ttotal: 27.7s\tremaining: 2.54s\n",
      "458:\tlearn: 0.5565433\ttotal: 27.8s\tremaining: 2.48s\n",
      "459:\tlearn: 0.5562890\ttotal: 27.8s\tremaining: 2.42s\n",
      "460:\tlearn: 0.5561177\ttotal: 27.9s\tremaining: 2.36s\n",
      "461:\tlearn: 0.5559386\ttotal: 28s\tremaining: 2.3s\n",
      "462:\tlearn: 0.5555888\ttotal: 28s\tremaining: 2.24s\n",
      "463:\tlearn: 0.5552337\ttotal: 28.1s\tremaining: 2.18s\n",
      "464:\tlearn: 0.5549805\ttotal: 28.1s\tremaining: 2.12s\n",
      "465:\tlearn: 0.5547068\ttotal: 28.2s\tremaining: 2.06s\n",
      "466:\tlearn: 0.5543269\ttotal: 28.3s\tremaining: 2s\n",
      "467:\tlearn: 0.5540182\ttotal: 28.3s\tremaining: 1.94s\n",
      "468:\tlearn: 0.5538480\ttotal: 28.4s\tremaining: 1.88s\n",
      "469:\tlearn: 0.5535815\ttotal: 28.4s\tremaining: 1.81s\n",
      "470:\tlearn: 0.5533392\ttotal: 28.5s\tremaining: 1.75s\n",
      "471:\tlearn: 0.5531851\ttotal: 28.6s\tremaining: 1.69s\n",
      "472:\tlearn: 0.5529956\ttotal: 28.6s\tremaining: 1.63s\n",
      "473:\tlearn: 0.5527783\ttotal: 28.7s\tremaining: 1.57s\n",
      "474:\tlearn: 0.5524725\ttotal: 28.7s\tremaining: 1.51s\n",
      "475:\tlearn: 0.5521586\ttotal: 28.8s\tremaining: 1.45s\n",
      "476:\tlearn: 0.5519358\ttotal: 28.8s\tremaining: 1.39s\n",
      "477:\tlearn: 0.5516907\ttotal: 28.9s\tremaining: 1.33s\n",
      "478:\tlearn: 0.5514728\ttotal: 29s\tremaining: 1.27s\n",
      "479:\tlearn: 0.5511381\ttotal: 29s\tremaining: 1.21s\n",
      "480:\tlearn: 0.5509106\ttotal: 29.1s\tremaining: 1.15s\n",
      "481:\tlearn: 0.5506683\ttotal: 29.1s\tremaining: 1.09s\n",
      "482:\tlearn: 0.5503853\ttotal: 29.2s\tremaining: 1.03s\n",
      "483:\tlearn: 0.5502201\ttotal: 29.3s\tremaining: 968ms\n",
      "484:\tlearn: 0.5500294\ttotal: 29.3s\tremaining: 907ms\n",
      "485:\tlearn: 0.5497604\ttotal: 29.4s\tremaining: 846ms\n",
      "486:\tlearn: 0.5494831\ttotal: 29.4s\tremaining: 786ms\n",
      "487:\tlearn: 0.5492095\ttotal: 29.5s\tremaining: 726ms\n",
      "488:\tlearn: 0.5489516\ttotal: 29.6s\tremaining: 665ms\n",
      "489:\tlearn: 0.5486555\ttotal: 29.6s\tremaining: 605ms\n",
      "490:\tlearn: 0.5484952\ttotal: 29.7s\tremaining: 544ms\n",
      "491:\tlearn: 0.5481975\ttotal: 29.8s\tremaining: 484ms\n",
      "492:\tlearn: 0.5478351\ttotal: 29.8s\tremaining: 423ms\n",
      "493:\tlearn: 0.5475550\ttotal: 29.9s\tremaining: 363ms\n",
      "494:\tlearn: 0.5472995\ttotal: 29.9s\tremaining: 302ms\n",
      "495:\tlearn: 0.5471083\ttotal: 30s\tremaining: 242ms\n",
      "496:\tlearn: 0.5468190\ttotal: 30.1s\tremaining: 181ms\n",
      "497:\tlearn: 0.5464278\ttotal: 30.1s\tremaining: 121ms\n",
      "498:\tlearn: 0.5460696\ttotal: 30.2s\tremaining: 60.5ms\n",
      "499:\tlearn: 0.5458007\ttotal: 30.2s\tremaining: 0us\n"
     ]
    },
    {
     "data": {
      "text/html": [
       "<style>#sk-container-id-7 {color: black;background-color: white;}#sk-container-id-7 pre{padding: 0;}#sk-container-id-7 div.sk-toggleable {background-color: white;}#sk-container-id-7 label.sk-toggleable__label {cursor: pointer;display: block;width: 100%;margin-bottom: 0;padding: 0.3em;box-sizing: border-box;text-align: center;}#sk-container-id-7 label.sk-toggleable__label-arrow:before {content: \"▸\";float: left;margin-right: 0.25em;color: #696969;}#sk-container-id-7 label.sk-toggleable__label-arrow:hover:before {color: black;}#sk-container-id-7 div.sk-estimator:hover label.sk-toggleable__label-arrow:before {color: black;}#sk-container-id-7 div.sk-toggleable__content {max-height: 0;max-width: 0;overflow: hidden;text-align: left;background-color: #f0f8ff;}#sk-container-id-7 div.sk-toggleable__content pre {margin: 0.2em;color: black;border-radius: 0.25em;background-color: #f0f8ff;}#sk-container-id-7 input.sk-toggleable__control:checked~div.sk-toggleable__content {max-height: 200px;max-width: 100%;overflow: auto;}#sk-container-id-7 input.sk-toggleable__control:checked~label.sk-toggleable__label-arrow:before {content: \"▾\";}#sk-container-id-7 div.sk-estimator input.sk-toggleable__control:checked~label.sk-toggleable__label {background-color: #d4ebff;}#sk-container-id-7 div.sk-label input.sk-toggleable__control:checked~label.sk-toggleable__label {background-color: #d4ebff;}#sk-container-id-7 input.sk-hidden--visually {border: 0;clip: rect(1px 1px 1px 1px);clip: rect(1px, 1px, 1px, 1px);height: 1px;margin: -1px;overflow: hidden;padding: 0;position: absolute;width: 1px;}#sk-container-id-7 div.sk-estimator {font-family: monospace;background-color: #f0f8ff;border: 1px dotted black;border-radius: 0.25em;box-sizing: border-box;margin-bottom: 0.5em;}#sk-container-id-7 div.sk-estimator:hover {background-color: #d4ebff;}#sk-container-id-7 div.sk-parallel-item::after {content: \"\";width: 100%;border-bottom: 1px solid gray;flex-grow: 1;}#sk-container-id-7 div.sk-label:hover label.sk-toggleable__label {background-color: #d4ebff;}#sk-container-id-7 div.sk-serial::before {content: \"\";position: absolute;border-left: 1px solid gray;box-sizing: border-box;top: 0;bottom: 0;left: 50%;z-index: 0;}#sk-container-id-7 div.sk-serial {display: flex;flex-direction: column;align-items: center;background-color: white;padding-right: 0.2em;padding-left: 0.2em;position: relative;}#sk-container-id-7 div.sk-item {position: relative;z-index: 1;}#sk-container-id-7 div.sk-parallel {display: flex;align-items: stretch;justify-content: center;background-color: white;position: relative;}#sk-container-id-7 div.sk-item::before, #sk-container-id-7 div.sk-parallel-item::before {content: \"\";position: absolute;border-left: 1px solid gray;box-sizing: border-box;top: 0;bottom: 0;left: 50%;z-index: -1;}#sk-container-id-7 div.sk-parallel-item {display: flex;flex-direction: column;z-index: 1;position: relative;background-color: white;}#sk-container-id-7 div.sk-parallel-item:first-child::after {align-self: flex-end;width: 50%;}#sk-container-id-7 div.sk-parallel-item:last-child::after {align-self: flex-start;width: 50%;}#sk-container-id-7 div.sk-parallel-item:only-child::after {width: 0;}#sk-container-id-7 div.sk-dashed-wrapped {border: 1px dashed gray;margin: 0 0.4em 0.5em 0.4em;box-sizing: border-box;padding-bottom: 0.4em;background-color: white;}#sk-container-id-7 div.sk-label label {font-family: monospace;font-weight: bold;display: inline-block;line-height: 1.2em;}#sk-container-id-7 div.sk-label-container {text-align: center;}#sk-container-id-7 div.sk-container {/* jupyter's `normalize.less` sets `[hidden] { display: none; }` but bootstrap.min.css set `[hidden] { display: none !important; }` so we also need the `!important` here to be able to override the default hidden behavior on the sphinx rendered scikit-learn.org. See: https://github.com/scikit-learn/scikit-learn/issues/21755 */display: inline-block !important;position: relative;}#sk-container-id-7 div.sk-text-repr-fallback {display: none;}</style><div id=\"sk-container-id-7\" class=\"sk-top-container\"><div class=\"sk-text-repr-fallback\"><pre>Pipeline(steps=[(&#x27;tfidfvectorizer&#x27;, TfidfVectorizer(max_df=0.3, min_df=5)),\n",
       "                (&#x27;truncatedsvd&#x27;, TruncatedSVD(n_components=200)),\n",
       "                (&#x27;catboostclassifier&#x27;,\n",
       "                 &lt;catboost.core.CatBoostClassifier object at 0x7fbf298346a0&gt;)])</pre><b>In a Jupyter environment, please rerun this cell to show the HTML representation or trust the notebook. <br />On GitHub, the HTML representation is unable to render, please try loading this page with nbviewer.org.</b></div><div class=\"sk-container\" hidden><div class=\"sk-item sk-dashed-wrapped\"><div class=\"sk-label-container\"><div class=\"sk-label sk-toggleable\"><input class=\"sk-toggleable__control sk-hidden--visually\" id=\"sk-estimator-id-21\" type=\"checkbox\" ><label for=\"sk-estimator-id-21\" class=\"sk-toggleable__label sk-toggleable__label-arrow\">Pipeline</label><div class=\"sk-toggleable__content\"><pre>Pipeline(steps=[(&#x27;tfidfvectorizer&#x27;, TfidfVectorizer(max_df=0.3, min_df=5)),\n",
       "                (&#x27;truncatedsvd&#x27;, TruncatedSVD(n_components=200)),\n",
       "                (&#x27;catboostclassifier&#x27;,\n",
       "                 &lt;catboost.core.CatBoostClassifier object at 0x7fbf298346a0&gt;)])</pre></div></div></div><div class=\"sk-serial\"><div class=\"sk-item\"><div class=\"sk-estimator sk-toggleable\"><input class=\"sk-toggleable__control sk-hidden--visually\" id=\"sk-estimator-id-22\" type=\"checkbox\" ><label for=\"sk-estimator-id-22\" class=\"sk-toggleable__label sk-toggleable__label-arrow\">TfidfVectorizer</label><div class=\"sk-toggleable__content\"><pre>TfidfVectorizer(max_df=0.3, min_df=5)</pre></div></div></div><div class=\"sk-item\"><div class=\"sk-estimator sk-toggleable\"><input class=\"sk-toggleable__control sk-hidden--visually\" id=\"sk-estimator-id-23\" type=\"checkbox\" ><label for=\"sk-estimator-id-23\" class=\"sk-toggleable__label sk-toggleable__label-arrow\">TruncatedSVD</label><div class=\"sk-toggleable__content\"><pre>TruncatedSVD(n_components=200)</pre></div></div></div><div class=\"sk-item\"><div class=\"sk-estimator sk-toggleable\"><input class=\"sk-toggleable__control sk-hidden--visually\" id=\"sk-estimator-id-24\" type=\"checkbox\" ><label for=\"sk-estimator-id-24\" class=\"sk-toggleable__label sk-toggleable__label-arrow\">CatBoostClassifier</label><div class=\"sk-toggleable__content\"><pre>&lt;catboost.core.CatBoostClassifier object at 0x7fbf298346a0&gt;</pre></div></div></div></div></div></div></div>"
      ],
      "text/plain": [
       "Pipeline(steps=[('tfidfvectorizer', TfidfVectorizer(max_df=0.3, min_df=5)),\n",
       "                ('truncatedsvd', TruncatedSVD(n_components=200)),\n",
       "                ('catboostclassifier',\n",
       "                 <catboost.core.CatBoostClassifier object at 0x7fbf298346a0>)])"
      ]
     },
     "execution_count": 115,
     "metadata": {},
     "output_type": "execute_result"
    }
   ],
   "source": [
    "model.fit(X_train, y_train)"
   ]
  },
  {
   "cell_type": "code",
   "execution_count": 126,
   "metadata": {},
   "outputs": [],
   "source": [
    "from sklearn.model_selection import KFold, GridSearchCV"
   ]
  },
  {
   "cell_type": "code",
   "execution_count": 127,
   "metadata": {},
   "outputs": [
    {
     "data": {
      "text/plain": [
       "[('tfidfvectorizer', TfidfVectorizer(max_df=0.3, min_df=5)),\n",
       " ('truncatedsvd', TruncatedSVD(n_components=200)),\n",
       " ('catboostclassifier', <catboost.core.CatBoostClassifier at 0x7fbf167285e0>)]"
      ]
     },
     "execution_count": 127,
     "metadata": {},
     "output_type": "execute_result"
    }
   ],
   "source": [
    "model.steps"
   ]
  },
  {
   "cell_type": "code",
   "execution_count": 128,
   "metadata": {},
   "outputs": [],
   "source": [
    "params = {\n",
    "    \"truncatedsvd__n_components\": [100, 200, 300],\n",
    "    \"catboostclassifier__n_estimators\": [200, 400, 600]\n",
    "}\n",
    "kf = KFold(n_splits=4, shuffle=True, random_state=7)\n",
    "gcv = GridSearchCV(model, params, scoring='accuracy', n_jobs=-1, cv=kf, verbose=2)"
   ]
  },
  {
   "cell_type": "code",
   "execution_count": 129,
   "metadata": {},
   "outputs": [
    {
     "name": "stdout",
     "output_type": "stream",
     "text": [
      "Fitting 4 folds for each of 9 candidates, totalling 36 fits\n",
      "[CV] END catboostclassifier__n_estimators=200, truncatedsvd__n_components=100; total time= 1.2min\n",
      "[CV] END catboostclassifier__n_estimators=200, truncatedsvd__n_components=100; total time= 1.2min\n",
      "[CV] END catboostclassifier__n_estimators=200, truncatedsvd__n_components=100; total time= 1.2min\n",
      "[CV] END catboostclassifier__n_estimators=200, truncatedsvd__n_components=100; total time= 1.2min\n",
      "[CV] END catboostclassifier__n_estimators=200, truncatedsvd__n_components=200; total time= 2.4min\n",
      "[CV] END catboostclassifier__n_estimators=200, truncatedsvd__n_components=200; total time= 2.4min\n",
      "[CV] END catboostclassifier__n_estimators=200, truncatedsvd__n_components=200; total time= 2.4min\n",
      "[CV] END catboostclassifier__n_estimators=200, truncatedsvd__n_components=200; total time= 2.4min\n",
      "[CV] END catboostclassifier__n_estimators=200, truncatedsvd__n_components=300; total time= 3.9min\n",
      "[CV] END catboostclassifier__n_estimators=200, truncatedsvd__n_components=300; total time= 3.9min\n",
      "[CV] END catboostclassifier__n_estimators=200, truncatedsvd__n_components=300; total time= 3.9min\n",
      "[CV] END catboostclassifier__n_estimators=200, truncatedsvd__n_components=300; total time= 3.9min\n",
      "[CV] END catboostclassifier__n_estimators=400, truncatedsvd__n_components=100; total time= 3.4min\n",
      "[CV] END catboostclassifier__n_estimators=400, truncatedsvd__n_components=100; total time= 3.4min\n",
      "[CV] END catboostclassifier__n_estimators=400, truncatedsvd__n_components=100; total time= 3.4min\n",
      "[CV] END catboostclassifier__n_estimators=400, truncatedsvd__n_components=100; total time= 3.4min\n",
      "[CV] END catboostclassifier__n_estimators=400, truncatedsvd__n_components=200; total time= 4.6min\n",
      "[CV] END catboostclassifier__n_estimators=400, truncatedsvd__n_components=200; total time= 4.6min\n",
      "[CV] END catboostclassifier__n_estimators=400, truncatedsvd__n_components=200; total time= 4.7min\n",
      "[CV] END catboostclassifier__n_estimators=400, truncatedsvd__n_components=200; total time= 4.6min\n",
      "[CV] END catboostclassifier__n_estimators=600, truncatedsvd__n_components=100; total time= 4.5min\n",
      "[CV] END catboostclassifier__n_estimators=600, truncatedsvd__n_components=100; total time= 4.5min\n",
      "[CV] END catboostclassifier__n_estimators=600, truncatedsvd__n_components=100; total time= 4.5min\n",
      "[CV] END catboostclassifier__n_estimators=600, truncatedsvd__n_components=100; total time= 4.5min\n",
      "[CV] END catboostclassifier__n_estimators=400, truncatedsvd__n_components=300; total time= 6.1min\n",
      "[CV] END catboostclassifier__n_estimators=400, truncatedsvd__n_components=300; total time= 6.1min\n",
      "[CV] END catboostclassifier__n_estimators=400, truncatedsvd__n_components=300; total time= 6.1min\n",
      "[CV] END catboostclassifier__n_estimators=400, truncatedsvd__n_components=300; total time= 6.1min\n",
      "[CV] END catboostclassifier__n_estimators=600, truncatedsvd__n_components=200; total time= 5.6min\n",
      "[CV] END catboostclassifier__n_estimators=600, truncatedsvd__n_components=200; total time= 5.6min\n",
      "[CV] END catboostclassifier__n_estimators=600, truncatedsvd__n_components=200; total time= 5.6min\n",
      "[CV] END catboostclassifier__n_estimators=600, truncatedsvd__n_components=200; total time= 5.6min\n",
      "[CV] END catboostclassifier__n_estimators=600, truncatedsvd__n_components=300; total time= 5.8min\n",
      "[CV] END catboostclassifier__n_estimators=600, truncatedsvd__n_components=300; total time= 5.8min\n",
      "[CV] END catboostclassifier__n_estimators=600, truncatedsvd__n_components=300; total time= 5.7min\n",
      "[CV] END catboostclassifier__n_estimators=600, truncatedsvd__n_components=300; total time= 5.7min\n"
     ]
    },
    {
     "data": {
      "text/html": [
       "<style>#sk-container-id-9 {color: black;background-color: white;}#sk-container-id-9 pre{padding: 0;}#sk-container-id-9 div.sk-toggleable {background-color: white;}#sk-container-id-9 label.sk-toggleable__label {cursor: pointer;display: block;width: 100%;margin-bottom: 0;padding: 0.3em;box-sizing: border-box;text-align: center;}#sk-container-id-9 label.sk-toggleable__label-arrow:before {content: \"▸\";float: left;margin-right: 0.25em;color: #696969;}#sk-container-id-9 label.sk-toggleable__label-arrow:hover:before {color: black;}#sk-container-id-9 div.sk-estimator:hover label.sk-toggleable__label-arrow:before {color: black;}#sk-container-id-9 div.sk-toggleable__content {max-height: 0;max-width: 0;overflow: hidden;text-align: left;background-color: #f0f8ff;}#sk-container-id-9 div.sk-toggleable__content pre {margin: 0.2em;color: black;border-radius: 0.25em;background-color: #f0f8ff;}#sk-container-id-9 input.sk-toggleable__control:checked~div.sk-toggleable__content {max-height: 200px;max-width: 100%;overflow: auto;}#sk-container-id-9 input.sk-toggleable__control:checked~label.sk-toggleable__label-arrow:before {content: \"▾\";}#sk-container-id-9 div.sk-estimator input.sk-toggleable__control:checked~label.sk-toggleable__label {background-color: #d4ebff;}#sk-container-id-9 div.sk-label input.sk-toggleable__control:checked~label.sk-toggleable__label {background-color: #d4ebff;}#sk-container-id-9 input.sk-hidden--visually {border: 0;clip: rect(1px 1px 1px 1px);clip: rect(1px, 1px, 1px, 1px);height: 1px;margin: -1px;overflow: hidden;padding: 0;position: absolute;width: 1px;}#sk-container-id-9 div.sk-estimator {font-family: monospace;background-color: #f0f8ff;border: 1px dotted black;border-radius: 0.25em;box-sizing: border-box;margin-bottom: 0.5em;}#sk-container-id-9 div.sk-estimator:hover {background-color: #d4ebff;}#sk-container-id-9 div.sk-parallel-item::after {content: \"\";width: 100%;border-bottom: 1px solid gray;flex-grow: 1;}#sk-container-id-9 div.sk-label:hover label.sk-toggleable__label {background-color: #d4ebff;}#sk-container-id-9 div.sk-serial::before {content: \"\";position: absolute;border-left: 1px solid gray;box-sizing: border-box;top: 0;bottom: 0;left: 50%;z-index: 0;}#sk-container-id-9 div.sk-serial {display: flex;flex-direction: column;align-items: center;background-color: white;padding-right: 0.2em;padding-left: 0.2em;position: relative;}#sk-container-id-9 div.sk-item {position: relative;z-index: 1;}#sk-container-id-9 div.sk-parallel {display: flex;align-items: stretch;justify-content: center;background-color: white;position: relative;}#sk-container-id-9 div.sk-item::before, #sk-container-id-9 div.sk-parallel-item::before {content: \"\";position: absolute;border-left: 1px solid gray;box-sizing: border-box;top: 0;bottom: 0;left: 50%;z-index: -1;}#sk-container-id-9 div.sk-parallel-item {display: flex;flex-direction: column;z-index: 1;position: relative;background-color: white;}#sk-container-id-9 div.sk-parallel-item:first-child::after {align-self: flex-end;width: 50%;}#sk-container-id-9 div.sk-parallel-item:last-child::after {align-self: flex-start;width: 50%;}#sk-container-id-9 div.sk-parallel-item:only-child::after {width: 0;}#sk-container-id-9 div.sk-dashed-wrapped {border: 1px dashed gray;margin: 0 0.4em 0.5em 0.4em;box-sizing: border-box;padding-bottom: 0.4em;background-color: white;}#sk-container-id-9 div.sk-label label {font-family: monospace;font-weight: bold;display: inline-block;line-height: 1.2em;}#sk-container-id-9 div.sk-label-container {text-align: center;}#sk-container-id-9 div.sk-container {/* jupyter's `normalize.less` sets `[hidden] { display: none; }` but bootstrap.min.css set `[hidden] { display: none !important; }` so we also need the `!important` here to be able to override the default hidden behavior on the sphinx rendered scikit-learn.org. See: https://github.com/scikit-learn/scikit-learn/issues/21755 */display: inline-block !important;position: relative;}#sk-container-id-9 div.sk-text-repr-fallback {display: none;}</style><div id=\"sk-container-id-9\" class=\"sk-top-container\"><div class=\"sk-text-repr-fallback\"><pre>GridSearchCV(cv=KFold(n_splits=4, random_state=7, shuffle=True),\n",
       "             estimator=Pipeline(steps=[(&#x27;tfidfvectorizer&#x27;,\n",
       "                                        TfidfVectorizer(max_df=0.3, min_df=5)),\n",
       "                                       (&#x27;truncatedsvd&#x27;,\n",
       "                                        TruncatedSVD(n_components=200)),\n",
       "                                       (&#x27;catboostclassifier&#x27;,\n",
       "                                        &lt;catboost.core.CatBoostClassifier object at 0x7fbf167285e0&gt;)]),\n",
       "             n_jobs=-1,\n",
       "             param_grid={&#x27;catboostclassifier__n_estimators&#x27;: [200, 400, 600],\n",
       "                         &#x27;truncatedsvd__n_components&#x27;: [100, 200, 300]},\n",
       "             scoring=&#x27;accuracy&#x27;, verbose=2)</pre><b>In a Jupyter environment, please rerun this cell to show the HTML representation or trust the notebook. <br />On GitHub, the HTML representation is unable to render, please try loading this page with nbviewer.org.</b></div><div class=\"sk-container\" hidden><div class=\"sk-item sk-dashed-wrapped\"><div class=\"sk-label-container\"><div class=\"sk-label sk-toggleable\"><input class=\"sk-toggleable__control sk-hidden--visually\" id=\"sk-estimator-id-29\" type=\"checkbox\" ><label for=\"sk-estimator-id-29\" class=\"sk-toggleable__label sk-toggleable__label-arrow\">GridSearchCV</label><div class=\"sk-toggleable__content\"><pre>GridSearchCV(cv=KFold(n_splits=4, random_state=7, shuffle=True),\n",
       "             estimator=Pipeline(steps=[(&#x27;tfidfvectorizer&#x27;,\n",
       "                                        TfidfVectorizer(max_df=0.3, min_df=5)),\n",
       "                                       (&#x27;truncatedsvd&#x27;,\n",
       "                                        TruncatedSVD(n_components=200)),\n",
       "                                       (&#x27;catboostclassifier&#x27;,\n",
       "                                        &lt;catboost.core.CatBoostClassifier object at 0x7fbf167285e0&gt;)]),\n",
       "             n_jobs=-1,\n",
       "             param_grid={&#x27;catboostclassifier__n_estimators&#x27;: [200, 400, 600],\n",
       "                         &#x27;truncatedsvd__n_components&#x27;: [100, 200, 300]},\n",
       "             scoring=&#x27;accuracy&#x27;, verbose=2)</pre></div></div></div><div class=\"sk-parallel\"><div class=\"sk-parallel-item\"><div class=\"sk-item\"><div class=\"sk-label-container\"><div class=\"sk-label sk-toggleable\"><input class=\"sk-toggleable__control sk-hidden--visually\" id=\"sk-estimator-id-30\" type=\"checkbox\" ><label for=\"sk-estimator-id-30\" class=\"sk-toggleable__label sk-toggleable__label-arrow\">estimator: Pipeline</label><div class=\"sk-toggleable__content\"><pre>Pipeline(steps=[(&#x27;tfidfvectorizer&#x27;, TfidfVectorizer(max_df=0.3, min_df=5)),\n",
       "                (&#x27;truncatedsvd&#x27;, TruncatedSVD(n_components=200)),\n",
       "                (&#x27;catboostclassifier&#x27;,\n",
       "                 &lt;catboost.core.CatBoostClassifier object at 0x7fbf167285e0&gt;)])</pre></div></div></div><div class=\"sk-serial\"><div class=\"sk-item\"><div class=\"sk-serial\"><div class=\"sk-item\"><div class=\"sk-estimator sk-toggleable\"><input class=\"sk-toggleable__control sk-hidden--visually\" id=\"sk-estimator-id-31\" type=\"checkbox\" ><label for=\"sk-estimator-id-31\" class=\"sk-toggleable__label sk-toggleable__label-arrow\">TfidfVectorizer</label><div class=\"sk-toggleable__content\"><pre>TfidfVectorizer(max_df=0.3, min_df=5)</pre></div></div></div><div class=\"sk-item\"><div class=\"sk-estimator sk-toggleable\"><input class=\"sk-toggleable__control sk-hidden--visually\" id=\"sk-estimator-id-32\" type=\"checkbox\" ><label for=\"sk-estimator-id-32\" class=\"sk-toggleable__label sk-toggleable__label-arrow\">TruncatedSVD</label><div class=\"sk-toggleable__content\"><pre>TruncatedSVD(n_components=200)</pre></div></div></div><div class=\"sk-item\"><div class=\"sk-estimator sk-toggleable\"><input class=\"sk-toggleable__control sk-hidden--visually\" id=\"sk-estimator-id-33\" type=\"checkbox\" ><label for=\"sk-estimator-id-33\" class=\"sk-toggleable__label sk-toggleable__label-arrow\">CatBoostClassifier</label><div class=\"sk-toggleable__content\"><pre>&lt;catboost.core.CatBoostClassifier object at 0x7fbf167285e0&gt;</pre></div></div></div></div></div></div></div></div></div></div></div></div>"
      ],
      "text/plain": [
       "GridSearchCV(cv=KFold(n_splits=4, random_state=7, shuffle=True),\n",
       "             estimator=Pipeline(steps=[('tfidfvectorizer',\n",
       "                                        TfidfVectorizer(max_df=0.3, min_df=5)),\n",
       "                                       ('truncatedsvd',\n",
       "                                        TruncatedSVD(n_components=200)),\n",
       "                                       ('catboostclassifier',\n",
       "                                        <catboost.core.CatBoostClassifier object at 0x7fbf167285e0>)]),\n",
       "             n_jobs=-1,\n",
       "             param_grid={'catboostclassifier__n_estimators': [200, 400, 600],\n",
       "                         'truncatedsvd__n_components': [100, 200, 300]},\n",
       "             scoring='accuracy', verbose=2)"
      ]
     },
     "execution_count": 129,
     "metadata": {},
     "output_type": "execute_result"
    }
   ],
   "source": [
    "gcv.fit(X_train, y_train)"
   ]
  },
  {
   "cell_type": "code",
   "execution_count": 130,
   "metadata": {},
   "outputs": [
    {
     "data": {
      "text/plain": [
       "(0.6894920634920635,\n",
       " {'catboostclassifier__n_estimators': 600, 'truncatedsvd__n_components': 300})"
      ]
     },
     "execution_count": 130,
     "metadata": {},
     "output_type": "execute_result"
    }
   ],
   "source": [
    "gcv.best_score_, gcv.best_params_"
   ]
  },
  {
   "cell_type": "code",
   "execution_count": 147,
   "metadata": {},
   "outputs": [],
   "source": [
    "def get_cv_results(gcv):\n",
    "\n",
    "    df1 = pd.DataFrame({\n",
    "        \"mean_score\": gcv.cv_results_['mean_test_score'],\n",
    "        \"std_score\": gcv.cv_results_['std_test_score'],\n",
    "        \"fit_time\": gcv.cv_results_[\"mean_fit_time\"]\n",
    "    })\n",
    "\n",
    "    df2 = pd.DataFrame(gcv.cv_results_[\"params\"])\n",
    "\n",
    "    return df2.join(df1)"
   ]
  },
  {
   "cell_type": "code",
   "execution_count": 148,
   "metadata": {},
   "outputs": [
    {
     "data": {
      "text/html": [
       "<div>\n",
       "<style scoped>\n",
       "    .dataframe tbody tr th:only-of-type {\n",
       "        vertical-align: middle;\n",
       "    }\n",
       "\n",
       "    .dataframe tbody tr th {\n",
       "        vertical-align: top;\n",
       "    }\n",
       "\n",
       "    .dataframe thead th {\n",
       "        text-align: right;\n",
       "    }\n",
       "</style>\n",
       "<table border=\"1\" class=\"dataframe\">\n",
       "  <thead>\n",
       "    <tr style=\"text-align: right;\">\n",
       "      <th></th>\n",
       "      <th>catboostclassifier__n_estimators</th>\n",
       "      <th>truncatedsvd__n_components</th>\n",
       "      <th>mean_score</th>\n",
       "      <th>std_score</th>\n",
       "      <th>fit_time</th>\n",
       "    </tr>\n",
       "  </thead>\n",
       "  <tbody>\n",
       "    <tr>\n",
       "      <th>0</th>\n",
       "      <td>200</td>\n",
       "      <td>100</td>\n",
       "      <td>0.672222</td>\n",
       "      <td>0.003190</td>\n",
       "      <td>66.947149</td>\n",
       "    </tr>\n",
       "    <tr>\n",
       "      <th>1</th>\n",
       "      <td>200</td>\n",
       "      <td>200</td>\n",
       "      <td>0.679571</td>\n",
       "      <td>0.005601</td>\n",
       "      <td>128.909603</td>\n",
       "    </tr>\n",
       "    <tr>\n",
       "      <th>2</th>\n",
       "      <td>200</td>\n",
       "      <td>300</td>\n",
       "      <td>0.679698</td>\n",
       "      <td>0.004231</td>\n",
       "      <td>222.492179</td>\n",
       "    </tr>\n",
       "    <tr>\n",
       "      <th>3</th>\n",
       "      <td>400</td>\n",
       "      <td>100</td>\n",
       "      <td>0.680222</td>\n",
       "      <td>0.003756</td>\n",
       "      <td>197.233207</td>\n",
       "    </tr>\n",
       "    <tr>\n",
       "      <th>4</th>\n",
       "      <td>400</td>\n",
       "      <td>200</td>\n",
       "      <td>0.685889</td>\n",
       "      <td>0.003641</td>\n",
       "      <td>265.169511</td>\n",
       "    </tr>\n",
       "    <tr>\n",
       "      <th>5</th>\n",
       "      <td>400</td>\n",
       "      <td>300</td>\n",
       "      <td>0.688746</td>\n",
       "      <td>0.003360</td>\n",
       "      <td>353.327085</td>\n",
       "    </tr>\n",
       "    <tr>\n",
       "      <th>6</th>\n",
       "      <td>600</td>\n",
       "      <td>100</td>\n",
       "      <td>0.682921</td>\n",
       "      <td>0.003979</td>\n",
       "      <td>256.679903</td>\n",
       "    </tr>\n",
       "    <tr>\n",
       "      <th>7</th>\n",
       "      <td>600</td>\n",
       "      <td>200</td>\n",
       "      <td>0.688111</td>\n",
       "      <td>0.002571</td>\n",
       "      <td>326.751301</td>\n",
       "    </tr>\n",
       "    <tr>\n",
       "      <th>8</th>\n",
       "      <td>600</td>\n",
       "      <td>300</td>\n",
       "      <td>0.689492</td>\n",
       "      <td>0.005935</td>\n",
       "      <td>343.888586</td>\n",
       "    </tr>\n",
       "  </tbody>\n",
       "</table>\n",
       "</div>"
      ],
      "text/plain": [
       "   catboostclassifier__n_estimators  truncatedsvd__n_components  mean_score  \\\n",
       "0                               200                         100    0.672222   \n",
       "1                               200                         200    0.679571   \n",
       "2                               200                         300    0.679698   \n",
       "3                               400                         100    0.680222   \n",
       "4                               400                         200    0.685889   \n",
       "5                               400                         300    0.688746   \n",
       "6                               600                         100    0.682921   \n",
       "7                               600                         200    0.688111   \n",
       "8                               600                         300    0.689492   \n",
       "\n",
       "   std_score    fit_time  \n",
       "0   0.003190   66.947149  \n",
       "1   0.005601  128.909603  \n",
       "2   0.004231  222.492179  \n",
       "3   0.003756  197.233207  \n",
       "4   0.003641  265.169511  \n",
       "5   0.003360  353.327085  \n",
       "6   0.003979  256.679903  \n",
       "7   0.002571  326.751301  \n",
       "8   0.005935  343.888586  "
      ]
     },
     "execution_count": 148,
     "metadata": {},
     "output_type": "execute_result"
    }
   ],
   "source": [
    "get_cv_results(gcv)"
   ]
  },
  {
   "cell_type": "code",
   "execution_count": 149,
   "metadata": {},
   "outputs": [
    {
     "data": {
      "text/html": [
       "<style>#sk-container-id-11 {color: black;background-color: white;}#sk-container-id-11 pre{padding: 0;}#sk-container-id-11 div.sk-toggleable {background-color: white;}#sk-container-id-11 label.sk-toggleable__label {cursor: pointer;display: block;width: 100%;margin-bottom: 0;padding: 0.3em;box-sizing: border-box;text-align: center;}#sk-container-id-11 label.sk-toggleable__label-arrow:before {content: \"▸\";float: left;margin-right: 0.25em;color: #696969;}#sk-container-id-11 label.sk-toggleable__label-arrow:hover:before {color: black;}#sk-container-id-11 div.sk-estimator:hover label.sk-toggleable__label-arrow:before {color: black;}#sk-container-id-11 div.sk-toggleable__content {max-height: 0;max-width: 0;overflow: hidden;text-align: left;background-color: #f0f8ff;}#sk-container-id-11 div.sk-toggleable__content pre {margin: 0.2em;color: black;border-radius: 0.25em;background-color: #f0f8ff;}#sk-container-id-11 input.sk-toggleable__control:checked~div.sk-toggleable__content {max-height: 200px;max-width: 100%;overflow: auto;}#sk-container-id-11 input.sk-toggleable__control:checked~label.sk-toggleable__label-arrow:before {content: \"▾\";}#sk-container-id-11 div.sk-estimator input.sk-toggleable__control:checked~label.sk-toggleable__label {background-color: #d4ebff;}#sk-container-id-11 div.sk-label input.sk-toggleable__control:checked~label.sk-toggleable__label {background-color: #d4ebff;}#sk-container-id-11 input.sk-hidden--visually {border: 0;clip: rect(1px 1px 1px 1px);clip: rect(1px, 1px, 1px, 1px);height: 1px;margin: -1px;overflow: hidden;padding: 0;position: absolute;width: 1px;}#sk-container-id-11 div.sk-estimator {font-family: monospace;background-color: #f0f8ff;border: 1px dotted black;border-radius: 0.25em;box-sizing: border-box;margin-bottom: 0.5em;}#sk-container-id-11 div.sk-estimator:hover {background-color: #d4ebff;}#sk-container-id-11 div.sk-parallel-item::after {content: \"\";width: 100%;border-bottom: 1px solid gray;flex-grow: 1;}#sk-container-id-11 div.sk-label:hover label.sk-toggleable__label {background-color: #d4ebff;}#sk-container-id-11 div.sk-serial::before {content: \"\";position: absolute;border-left: 1px solid gray;box-sizing: border-box;top: 0;bottom: 0;left: 50%;z-index: 0;}#sk-container-id-11 div.sk-serial {display: flex;flex-direction: column;align-items: center;background-color: white;padding-right: 0.2em;padding-left: 0.2em;position: relative;}#sk-container-id-11 div.sk-item {position: relative;z-index: 1;}#sk-container-id-11 div.sk-parallel {display: flex;align-items: stretch;justify-content: center;background-color: white;position: relative;}#sk-container-id-11 div.sk-item::before, #sk-container-id-11 div.sk-parallel-item::before {content: \"\";position: absolute;border-left: 1px solid gray;box-sizing: border-box;top: 0;bottom: 0;left: 50%;z-index: -1;}#sk-container-id-11 div.sk-parallel-item {display: flex;flex-direction: column;z-index: 1;position: relative;background-color: white;}#sk-container-id-11 div.sk-parallel-item:first-child::after {align-self: flex-end;width: 50%;}#sk-container-id-11 div.sk-parallel-item:last-child::after {align-self: flex-start;width: 50%;}#sk-container-id-11 div.sk-parallel-item:only-child::after {width: 0;}#sk-container-id-11 div.sk-dashed-wrapped {border: 1px dashed gray;margin: 0 0.4em 0.5em 0.4em;box-sizing: border-box;padding-bottom: 0.4em;background-color: white;}#sk-container-id-11 div.sk-label label {font-family: monospace;font-weight: bold;display: inline-block;line-height: 1.2em;}#sk-container-id-11 div.sk-label-container {text-align: center;}#sk-container-id-11 div.sk-container {/* jupyter's `normalize.less` sets `[hidden] { display: none; }` but bootstrap.min.css set `[hidden] { display: none !important; }` so we also need the `!important` here to be able to override the default hidden behavior on the sphinx rendered scikit-learn.org. See: https://github.com/scikit-learn/scikit-learn/issues/21755 */display: inline-block !important;position: relative;}#sk-container-id-11 div.sk-text-repr-fallback {display: none;}</style><div id=\"sk-container-id-11\" class=\"sk-top-container\"><div class=\"sk-text-repr-fallback\"><pre>Pipeline(steps=[(&#x27;tfidfvectorizer&#x27;, TfidfVectorizer(max_df=0.3, min_df=5)),\n",
       "                (&#x27;truncatedsvd&#x27;, TruncatedSVD(n_components=200)),\n",
       "                (&#x27;catboostclassifier&#x27;,\n",
       "                 &lt;catboost.core.CatBoostClassifier object at 0x7fbf167289a0&gt;)])</pre><b>In a Jupyter environment, please rerun this cell to show the HTML representation or trust the notebook. <br />On GitHub, the HTML representation is unable to render, please try loading this page with nbviewer.org.</b></div><div class=\"sk-container\" hidden><div class=\"sk-item sk-dashed-wrapped\"><div class=\"sk-label-container\"><div class=\"sk-label sk-toggleable\"><input class=\"sk-toggleable__control sk-hidden--visually\" id=\"sk-estimator-id-39\" type=\"checkbox\" ><label for=\"sk-estimator-id-39\" class=\"sk-toggleable__label sk-toggleable__label-arrow\">Pipeline</label><div class=\"sk-toggleable__content\"><pre>Pipeline(steps=[(&#x27;tfidfvectorizer&#x27;, TfidfVectorizer(max_df=0.3, min_df=5)),\n",
       "                (&#x27;truncatedsvd&#x27;, TruncatedSVD(n_components=200)),\n",
       "                (&#x27;catboostclassifier&#x27;,\n",
       "                 &lt;catboost.core.CatBoostClassifier object at 0x7fbf167289a0&gt;)])</pre></div></div></div><div class=\"sk-serial\"><div class=\"sk-item\"><div class=\"sk-estimator sk-toggleable\"><input class=\"sk-toggleable__control sk-hidden--visually\" id=\"sk-estimator-id-40\" type=\"checkbox\" ><label for=\"sk-estimator-id-40\" class=\"sk-toggleable__label sk-toggleable__label-arrow\">TfidfVectorizer</label><div class=\"sk-toggleable__content\"><pre>TfidfVectorizer(max_df=0.3, min_df=5)</pre></div></div></div><div class=\"sk-item\"><div class=\"sk-estimator sk-toggleable\"><input class=\"sk-toggleable__control sk-hidden--visually\" id=\"sk-estimator-id-41\" type=\"checkbox\" ><label for=\"sk-estimator-id-41\" class=\"sk-toggleable__label sk-toggleable__label-arrow\">TruncatedSVD</label><div class=\"sk-toggleable__content\"><pre>TruncatedSVD(n_components=200)</pre></div></div></div><div class=\"sk-item\"><div class=\"sk-estimator sk-toggleable\"><input class=\"sk-toggleable__control sk-hidden--visually\" id=\"sk-estimator-id-42\" type=\"checkbox\" ><label for=\"sk-estimator-id-42\" class=\"sk-toggleable__label sk-toggleable__label-arrow\">CatBoostClassifier</label><div class=\"sk-toggleable__content\"><pre>&lt;catboost.core.CatBoostClassifier object at 0x7fbf167289a0&gt;</pre></div></div></div></div></div></div></div>"
      ],
      "text/plain": [
       "Pipeline(steps=[('tfidfvectorizer', TfidfVectorizer(max_df=0.3, min_df=5)),\n",
       "                ('truncatedsvd', TruncatedSVD(n_components=200)),\n",
       "                ('catboostclassifier',\n",
       "                 <catboost.core.CatBoostClassifier object at 0x7fbf167289a0>)])"
      ]
     },
     "execution_count": 149,
     "metadata": {},
     "output_type": "execute_result"
    }
   ],
   "source": [
    "model_cb = make_pipeline(\n",
    "    TfidfVectorizer(max_df=.3, min_df=5),\n",
    "    TruncatedSVD(n_components=200,),\n",
    "    CatBoostClassifier(n_estimators=200, random_state=17, verbose=0)\n",
    ")\n",
    "\n",
    "model_cb.fit(X_train, y_train)"
   ]
  },
  {
   "cell_type": "code",
   "execution_count": 154,
   "metadata": {},
   "outputs": [],
   "source": [
    "from sklearn.linear_model import LogisticRegression\n",
    "from sklearn.preprocessing import StandardScaler"
   ]
  },
  {
   "cell_type": "code",
   "execution_count": 155,
   "metadata": {},
   "outputs": [
    {
     "data": {
      "text/html": [
       "<style>#sk-container-id-12 {color: black;background-color: white;}#sk-container-id-12 pre{padding: 0;}#sk-container-id-12 div.sk-toggleable {background-color: white;}#sk-container-id-12 label.sk-toggleable__label {cursor: pointer;display: block;width: 100%;margin-bottom: 0;padding: 0.3em;box-sizing: border-box;text-align: center;}#sk-container-id-12 label.sk-toggleable__label-arrow:before {content: \"▸\";float: left;margin-right: 0.25em;color: #696969;}#sk-container-id-12 label.sk-toggleable__label-arrow:hover:before {color: black;}#sk-container-id-12 div.sk-estimator:hover label.sk-toggleable__label-arrow:before {color: black;}#sk-container-id-12 div.sk-toggleable__content {max-height: 0;max-width: 0;overflow: hidden;text-align: left;background-color: #f0f8ff;}#sk-container-id-12 div.sk-toggleable__content pre {margin: 0.2em;color: black;border-radius: 0.25em;background-color: #f0f8ff;}#sk-container-id-12 input.sk-toggleable__control:checked~div.sk-toggleable__content {max-height: 200px;max-width: 100%;overflow: auto;}#sk-container-id-12 input.sk-toggleable__control:checked~label.sk-toggleable__label-arrow:before {content: \"▾\";}#sk-container-id-12 div.sk-estimator input.sk-toggleable__control:checked~label.sk-toggleable__label {background-color: #d4ebff;}#sk-container-id-12 div.sk-label input.sk-toggleable__control:checked~label.sk-toggleable__label {background-color: #d4ebff;}#sk-container-id-12 input.sk-hidden--visually {border: 0;clip: rect(1px 1px 1px 1px);clip: rect(1px, 1px, 1px, 1px);height: 1px;margin: -1px;overflow: hidden;padding: 0;position: absolute;width: 1px;}#sk-container-id-12 div.sk-estimator {font-family: monospace;background-color: #f0f8ff;border: 1px dotted black;border-radius: 0.25em;box-sizing: border-box;margin-bottom: 0.5em;}#sk-container-id-12 div.sk-estimator:hover {background-color: #d4ebff;}#sk-container-id-12 div.sk-parallel-item::after {content: \"\";width: 100%;border-bottom: 1px solid gray;flex-grow: 1;}#sk-container-id-12 div.sk-label:hover label.sk-toggleable__label {background-color: #d4ebff;}#sk-container-id-12 div.sk-serial::before {content: \"\";position: absolute;border-left: 1px solid gray;box-sizing: border-box;top: 0;bottom: 0;left: 50%;z-index: 0;}#sk-container-id-12 div.sk-serial {display: flex;flex-direction: column;align-items: center;background-color: white;padding-right: 0.2em;padding-left: 0.2em;position: relative;}#sk-container-id-12 div.sk-item {position: relative;z-index: 1;}#sk-container-id-12 div.sk-parallel {display: flex;align-items: stretch;justify-content: center;background-color: white;position: relative;}#sk-container-id-12 div.sk-item::before, #sk-container-id-12 div.sk-parallel-item::before {content: \"\";position: absolute;border-left: 1px solid gray;box-sizing: border-box;top: 0;bottom: 0;left: 50%;z-index: -1;}#sk-container-id-12 div.sk-parallel-item {display: flex;flex-direction: column;z-index: 1;position: relative;background-color: white;}#sk-container-id-12 div.sk-parallel-item:first-child::after {align-self: flex-end;width: 50%;}#sk-container-id-12 div.sk-parallel-item:last-child::after {align-self: flex-start;width: 50%;}#sk-container-id-12 div.sk-parallel-item:only-child::after {width: 0;}#sk-container-id-12 div.sk-dashed-wrapped {border: 1px dashed gray;margin: 0 0.4em 0.5em 0.4em;box-sizing: border-box;padding-bottom: 0.4em;background-color: white;}#sk-container-id-12 div.sk-label label {font-family: monospace;font-weight: bold;display: inline-block;line-height: 1.2em;}#sk-container-id-12 div.sk-label-container {text-align: center;}#sk-container-id-12 div.sk-container {/* jupyter's `normalize.less` sets `[hidden] { display: none; }` but bootstrap.min.css set `[hidden] { display: none !important; }` so we also need the `!important` here to be able to override the default hidden behavior on the sphinx rendered scikit-learn.org. See: https://github.com/scikit-learn/scikit-learn/issues/21755 */display: inline-block !important;position: relative;}#sk-container-id-12 div.sk-text-repr-fallback {display: none;}</style><div id=\"sk-container-id-12\" class=\"sk-top-container\"><div class=\"sk-text-repr-fallback\"><pre>GridSearchCV(cv=KFold(n_splits=4, random_state=7, shuffle=True),\n",
       "             estimator=Pipeline(steps=[(&#x27;tfidfvectorizer&#x27;,\n",
       "                                        TfidfVectorizer(max_df=0.3, min_df=5)),\n",
       "                                       (&#x27;truncatedsvd&#x27;,\n",
       "                                        TruncatedSVD(n_components=200)),\n",
       "                                       (&#x27;standardscaler&#x27;, StandardScaler()),\n",
       "                                       (&#x27;logisticregression&#x27;,\n",
       "                                        LogisticRegression(C=1, n_jobs=-1,\n",
       "                                                           random_state=17))]),\n",
       "             n_jobs=1,\n",
       "             param_grid={&#x27;logisticregression__C&#x27;: [0.1, 1, 10],\n",
       "                         &#x27;truncatedsvd__n_components&#x27;: [100, 200, 300]},\n",
       "             scoring=&#x27;accuracy&#x27;, verbose=2)</pre><b>In a Jupyter environment, please rerun this cell to show the HTML representation or trust the notebook. <br />On GitHub, the HTML representation is unable to render, please try loading this page with nbviewer.org.</b></div><div class=\"sk-container\" hidden><div class=\"sk-item sk-dashed-wrapped\"><div class=\"sk-label-container\"><div class=\"sk-label sk-toggleable\"><input class=\"sk-toggleable__control sk-hidden--visually\" id=\"sk-estimator-id-43\" type=\"checkbox\" ><label for=\"sk-estimator-id-43\" class=\"sk-toggleable__label sk-toggleable__label-arrow\">GridSearchCV</label><div class=\"sk-toggleable__content\"><pre>GridSearchCV(cv=KFold(n_splits=4, random_state=7, shuffle=True),\n",
       "             estimator=Pipeline(steps=[(&#x27;tfidfvectorizer&#x27;,\n",
       "                                        TfidfVectorizer(max_df=0.3, min_df=5)),\n",
       "                                       (&#x27;truncatedsvd&#x27;,\n",
       "                                        TruncatedSVD(n_components=200)),\n",
       "                                       (&#x27;standardscaler&#x27;, StandardScaler()),\n",
       "                                       (&#x27;logisticregression&#x27;,\n",
       "                                        LogisticRegression(C=1, n_jobs=-1,\n",
       "                                                           random_state=17))]),\n",
       "             n_jobs=1,\n",
       "             param_grid={&#x27;logisticregression__C&#x27;: [0.1, 1, 10],\n",
       "                         &#x27;truncatedsvd__n_components&#x27;: [100, 200, 300]},\n",
       "             scoring=&#x27;accuracy&#x27;, verbose=2)</pre></div></div></div><div class=\"sk-parallel\"><div class=\"sk-parallel-item\"><div class=\"sk-item\"><div class=\"sk-label-container\"><div class=\"sk-label sk-toggleable\"><input class=\"sk-toggleable__control sk-hidden--visually\" id=\"sk-estimator-id-44\" type=\"checkbox\" ><label for=\"sk-estimator-id-44\" class=\"sk-toggleable__label sk-toggleable__label-arrow\">estimator: Pipeline</label><div class=\"sk-toggleable__content\"><pre>Pipeline(steps=[(&#x27;tfidfvectorizer&#x27;, TfidfVectorizer(max_df=0.3, min_df=5)),\n",
       "                (&#x27;truncatedsvd&#x27;, TruncatedSVD(n_components=200)),\n",
       "                (&#x27;standardscaler&#x27;, StandardScaler()),\n",
       "                (&#x27;logisticregression&#x27;,\n",
       "                 LogisticRegression(C=1, n_jobs=-1, random_state=17))])</pre></div></div></div><div class=\"sk-serial\"><div class=\"sk-item\"><div class=\"sk-serial\"><div class=\"sk-item\"><div class=\"sk-estimator sk-toggleable\"><input class=\"sk-toggleable__control sk-hidden--visually\" id=\"sk-estimator-id-45\" type=\"checkbox\" ><label for=\"sk-estimator-id-45\" class=\"sk-toggleable__label sk-toggleable__label-arrow\">TfidfVectorizer</label><div class=\"sk-toggleable__content\"><pre>TfidfVectorizer(max_df=0.3, min_df=5)</pre></div></div></div><div class=\"sk-item\"><div class=\"sk-estimator sk-toggleable\"><input class=\"sk-toggleable__control sk-hidden--visually\" id=\"sk-estimator-id-46\" type=\"checkbox\" ><label for=\"sk-estimator-id-46\" class=\"sk-toggleable__label sk-toggleable__label-arrow\">TruncatedSVD</label><div class=\"sk-toggleable__content\"><pre>TruncatedSVD(n_components=200)</pre></div></div></div><div class=\"sk-item\"><div class=\"sk-estimator sk-toggleable\"><input class=\"sk-toggleable__control sk-hidden--visually\" id=\"sk-estimator-id-47\" type=\"checkbox\" ><label for=\"sk-estimator-id-47\" class=\"sk-toggleable__label sk-toggleable__label-arrow\">StandardScaler</label><div class=\"sk-toggleable__content\"><pre>StandardScaler()</pre></div></div></div><div class=\"sk-item\"><div class=\"sk-estimator sk-toggleable\"><input class=\"sk-toggleable__control sk-hidden--visually\" id=\"sk-estimator-id-48\" type=\"checkbox\" ><label for=\"sk-estimator-id-48\" class=\"sk-toggleable__label sk-toggleable__label-arrow\">LogisticRegression</label><div class=\"sk-toggleable__content\"><pre>LogisticRegression(C=1, n_jobs=-1, random_state=17)</pre></div></div></div></div></div></div></div></div></div></div></div></div>"
      ],
      "text/plain": [
       "GridSearchCV(cv=KFold(n_splits=4, random_state=7, shuffle=True),\n",
       "             estimator=Pipeline(steps=[('tfidfvectorizer',\n",
       "                                        TfidfVectorizer(max_df=0.3, min_df=5)),\n",
       "                                       ('truncatedsvd',\n",
       "                                        TruncatedSVD(n_components=200)),\n",
       "                                       ('standardscaler', StandardScaler()),\n",
       "                                       ('logisticregression',\n",
       "                                        LogisticRegression(C=1, n_jobs=-1,\n",
       "                                                           random_state=17))]),\n",
       "             n_jobs=1,\n",
       "             param_grid={'logisticregression__C': [0.1, 1, 10],\n",
       "                         'truncatedsvd__n_components': [100, 200, 300]},\n",
       "             scoring='accuracy', verbose=2)"
      ]
     },
     "execution_count": 155,
     "metadata": {},
     "output_type": "execute_result"
    }
   ],
   "source": [
    "model = make_pipeline(\n",
    "    TfidfVectorizer(max_df=.3, min_df=5),\n",
    "    TruncatedSVD(n_components=200,),\n",
    "    StandardScaler(),\n",
    "    LogisticRegression(random_state=17, n_jobs=-1, C=1)\n",
    ")\n",
    "\n",
    "params = {\n",
    "    \"truncatedsvd__n_components\": [100, 200, 300],\n",
    "    \"logisticregression__C\": [.1, 1, 10]\n",
    "}\n",
    "kf = KFold(n_splits=4, shuffle=True, random_state=7)\n",
    "gcv = GridSearchCV(model, params, scoring='accuracy', n_jobs=1, cv=kf, verbose=2)\n",
    "gcv"
   ]
  },
  {
   "cell_type": "code",
   "execution_count": 156,
   "metadata": {},
   "outputs": [
    {
     "name": "stdout",
     "output_type": "stream",
     "text": [
      "Fitting 4 folds for each of 9 candidates, totalling 36 fits\n",
      "[CV] END logisticregression__C=0.1, truncatedsvd__n_components=100; total time=   5.3s\n",
      "[CV] END logisticregression__C=0.1, truncatedsvd__n_components=100; total time=   5.1s\n",
      "[CV] END logisticregression__C=0.1, truncatedsvd__n_components=100; total time=   5.1s\n",
      "[CV] END logisticregression__C=0.1, truncatedsvd__n_components=100; total time=   5.1s\n",
      "[CV] END logisticregression__C=0.1, truncatedsvd__n_components=200; total time=   8.1s\n",
      "[CV] END logisticregression__C=0.1, truncatedsvd__n_components=200; total time=   8.1s\n",
      "[CV] END logisticregression__C=0.1, truncatedsvd__n_components=200; total time=   7.6s\n",
      "[CV] END logisticregression__C=0.1, truncatedsvd__n_components=200; total time=   9.1s\n",
      "[CV] END logisticregression__C=0.1, truncatedsvd__n_components=300; total time=  13.3s\n",
      "[CV] END logisticregression__C=0.1, truncatedsvd__n_components=300; total time=  12.2s\n",
      "[CV] END logisticregression__C=0.1, truncatedsvd__n_components=300; total time=  12.4s\n",
      "[CV] END logisticregression__C=0.1, truncatedsvd__n_components=300; total time=  11.6s\n",
      "[CV] END logisticregression__C=1, truncatedsvd__n_components=100; total time=   4.9s\n",
      "[CV] END logisticregression__C=1, truncatedsvd__n_components=100; total time=   4.8s\n",
      "[CV] END logisticregression__C=1, truncatedsvd__n_components=100; total time=   5.0s\n",
      "[CV] END logisticregression__C=1, truncatedsvd__n_components=100; total time=   4.9s\n",
      "[CV] END logisticregression__C=1, truncatedsvd__n_components=200; total time=   9.1s\n",
      "[CV] END logisticregression__C=1, truncatedsvd__n_components=200; total time=   8.8s\n",
      "[CV] END logisticregression__C=1, truncatedsvd__n_components=200; total time=   8.4s\n",
      "[CV] END logisticregression__C=1, truncatedsvd__n_components=200; total time=   8.5s\n",
      "[CV] END logisticregression__C=1, truncatedsvd__n_components=300; total time=  13.5s\n",
      "[CV] END logisticregression__C=1, truncatedsvd__n_components=300; total time=  12.8s\n",
      "[CV] END logisticregression__C=1, truncatedsvd__n_components=300; total time=  14.6s\n",
      "[CV] END logisticregression__C=1, truncatedsvd__n_components=300; total time=  15.1s\n",
      "[CV] END logisticregression__C=10, truncatedsvd__n_components=100; total time=   5.5s\n",
      "[CV] END logisticregression__C=10, truncatedsvd__n_components=100; total time=   5.6s\n",
      "[CV] END logisticregression__C=10, truncatedsvd__n_components=100; total time=   5.3s\n",
      "[CV] END logisticregression__C=10, truncatedsvd__n_components=100; total time=   5.3s\n",
      "[CV] END logisticregression__C=10, truncatedsvd__n_components=200; total time=   8.5s\n",
      "[CV] END logisticregression__C=10, truncatedsvd__n_components=200; total time=   9.1s\n",
      "[CV] END logisticregression__C=10, truncatedsvd__n_components=200; total time=   8.7s\n",
      "[CV] END logisticregression__C=10, truncatedsvd__n_components=200; total time=   8.3s\n",
      "[CV] END logisticregression__C=10, truncatedsvd__n_components=300; total time=  13.4s\n",
      "[CV] END logisticregression__C=10, truncatedsvd__n_components=300; total time=  13.4s\n",
      "[CV] END logisticregression__C=10, truncatedsvd__n_components=300; total time=  13.3s\n",
      "[CV] END logisticregression__C=10, truncatedsvd__n_components=300; total time=  12.2s\n"
     ]
    },
    {
     "data": {
      "text/html": [
       "<style>#sk-container-id-13 {color: black;background-color: white;}#sk-container-id-13 pre{padding: 0;}#sk-container-id-13 div.sk-toggleable {background-color: white;}#sk-container-id-13 label.sk-toggleable__label {cursor: pointer;display: block;width: 100%;margin-bottom: 0;padding: 0.3em;box-sizing: border-box;text-align: center;}#sk-container-id-13 label.sk-toggleable__label-arrow:before {content: \"▸\";float: left;margin-right: 0.25em;color: #696969;}#sk-container-id-13 label.sk-toggleable__label-arrow:hover:before {color: black;}#sk-container-id-13 div.sk-estimator:hover label.sk-toggleable__label-arrow:before {color: black;}#sk-container-id-13 div.sk-toggleable__content {max-height: 0;max-width: 0;overflow: hidden;text-align: left;background-color: #f0f8ff;}#sk-container-id-13 div.sk-toggleable__content pre {margin: 0.2em;color: black;border-radius: 0.25em;background-color: #f0f8ff;}#sk-container-id-13 input.sk-toggleable__control:checked~div.sk-toggleable__content {max-height: 200px;max-width: 100%;overflow: auto;}#sk-container-id-13 input.sk-toggleable__control:checked~label.sk-toggleable__label-arrow:before {content: \"▾\";}#sk-container-id-13 div.sk-estimator input.sk-toggleable__control:checked~label.sk-toggleable__label {background-color: #d4ebff;}#sk-container-id-13 div.sk-label input.sk-toggleable__control:checked~label.sk-toggleable__label {background-color: #d4ebff;}#sk-container-id-13 input.sk-hidden--visually {border: 0;clip: rect(1px 1px 1px 1px);clip: rect(1px, 1px, 1px, 1px);height: 1px;margin: -1px;overflow: hidden;padding: 0;position: absolute;width: 1px;}#sk-container-id-13 div.sk-estimator {font-family: monospace;background-color: #f0f8ff;border: 1px dotted black;border-radius: 0.25em;box-sizing: border-box;margin-bottom: 0.5em;}#sk-container-id-13 div.sk-estimator:hover {background-color: #d4ebff;}#sk-container-id-13 div.sk-parallel-item::after {content: \"\";width: 100%;border-bottom: 1px solid gray;flex-grow: 1;}#sk-container-id-13 div.sk-label:hover label.sk-toggleable__label {background-color: #d4ebff;}#sk-container-id-13 div.sk-serial::before {content: \"\";position: absolute;border-left: 1px solid gray;box-sizing: border-box;top: 0;bottom: 0;left: 50%;z-index: 0;}#sk-container-id-13 div.sk-serial {display: flex;flex-direction: column;align-items: center;background-color: white;padding-right: 0.2em;padding-left: 0.2em;position: relative;}#sk-container-id-13 div.sk-item {position: relative;z-index: 1;}#sk-container-id-13 div.sk-parallel {display: flex;align-items: stretch;justify-content: center;background-color: white;position: relative;}#sk-container-id-13 div.sk-item::before, #sk-container-id-13 div.sk-parallel-item::before {content: \"\";position: absolute;border-left: 1px solid gray;box-sizing: border-box;top: 0;bottom: 0;left: 50%;z-index: -1;}#sk-container-id-13 div.sk-parallel-item {display: flex;flex-direction: column;z-index: 1;position: relative;background-color: white;}#sk-container-id-13 div.sk-parallel-item:first-child::after {align-self: flex-end;width: 50%;}#sk-container-id-13 div.sk-parallel-item:last-child::after {align-self: flex-start;width: 50%;}#sk-container-id-13 div.sk-parallel-item:only-child::after {width: 0;}#sk-container-id-13 div.sk-dashed-wrapped {border: 1px dashed gray;margin: 0 0.4em 0.5em 0.4em;box-sizing: border-box;padding-bottom: 0.4em;background-color: white;}#sk-container-id-13 div.sk-label label {font-family: monospace;font-weight: bold;display: inline-block;line-height: 1.2em;}#sk-container-id-13 div.sk-label-container {text-align: center;}#sk-container-id-13 div.sk-container {/* jupyter's `normalize.less` sets `[hidden] { display: none; }` but bootstrap.min.css set `[hidden] { display: none !important; }` so we also need the `!important` here to be able to override the default hidden behavior on the sphinx rendered scikit-learn.org. See: https://github.com/scikit-learn/scikit-learn/issues/21755 */display: inline-block !important;position: relative;}#sk-container-id-13 div.sk-text-repr-fallback {display: none;}</style><div id=\"sk-container-id-13\" class=\"sk-top-container\"><div class=\"sk-text-repr-fallback\"><pre>GridSearchCV(cv=KFold(n_splits=4, random_state=7, shuffle=True),\n",
       "             estimator=Pipeline(steps=[(&#x27;tfidfvectorizer&#x27;,\n",
       "                                        TfidfVectorizer(max_df=0.3, min_df=5)),\n",
       "                                       (&#x27;truncatedsvd&#x27;,\n",
       "                                        TruncatedSVD(n_components=200)),\n",
       "                                       (&#x27;standardscaler&#x27;, StandardScaler()),\n",
       "                                       (&#x27;logisticregression&#x27;,\n",
       "                                        LogisticRegression(C=1, n_jobs=-1,\n",
       "                                                           random_state=17))]),\n",
       "             n_jobs=1,\n",
       "             param_grid={&#x27;logisticregression__C&#x27;: [0.1, 1, 10],\n",
       "                         &#x27;truncatedsvd__n_components&#x27;: [100, 200, 300]},\n",
       "             scoring=&#x27;accuracy&#x27;, verbose=2)</pre><b>In a Jupyter environment, please rerun this cell to show the HTML representation or trust the notebook. <br />On GitHub, the HTML representation is unable to render, please try loading this page with nbviewer.org.</b></div><div class=\"sk-container\" hidden><div class=\"sk-item sk-dashed-wrapped\"><div class=\"sk-label-container\"><div class=\"sk-label sk-toggleable\"><input class=\"sk-toggleable__control sk-hidden--visually\" id=\"sk-estimator-id-49\" type=\"checkbox\" ><label for=\"sk-estimator-id-49\" class=\"sk-toggleable__label sk-toggleable__label-arrow\">GridSearchCV</label><div class=\"sk-toggleable__content\"><pre>GridSearchCV(cv=KFold(n_splits=4, random_state=7, shuffle=True),\n",
       "             estimator=Pipeline(steps=[(&#x27;tfidfvectorizer&#x27;,\n",
       "                                        TfidfVectorizer(max_df=0.3, min_df=5)),\n",
       "                                       (&#x27;truncatedsvd&#x27;,\n",
       "                                        TruncatedSVD(n_components=200)),\n",
       "                                       (&#x27;standardscaler&#x27;, StandardScaler()),\n",
       "                                       (&#x27;logisticregression&#x27;,\n",
       "                                        LogisticRegression(C=1, n_jobs=-1,\n",
       "                                                           random_state=17))]),\n",
       "             n_jobs=1,\n",
       "             param_grid={&#x27;logisticregression__C&#x27;: [0.1, 1, 10],\n",
       "                         &#x27;truncatedsvd__n_components&#x27;: [100, 200, 300]},\n",
       "             scoring=&#x27;accuracy&#x27;, verbose=2)</pre></div></div></div><div class=\"sk-parallel\"><div class=\"sk-parallel-item\"><div class=\"sk-item\"><div class=\"sk-label-container\"><div class=\"sk-label sk-toggleable\"><input class=\"sk-toggleable__control sk-hidden--visually\" id=\"sk-estimator-id-50\" type=\"checkbox\" ><label for=\"sk-estimator-id-50\" class=\"sk-toggleable__label sk-toggleable__label-arrow\">estimator: Pipeline</label><div class=\"sk-toggleable__content\"><pre>Pipeline(steps=[(&#x27;tfidfvectorizer&#x27;, TfidfVectorizer(max_df=0.3, min_df=5)),\n",
       "                (&#x27;truncatedsvd&#x27;, TruncatedSVD(n_components=200)),\n",
       "                (&#x27;standardscaler&#x27;, StandardScaler()),\n",
       "                (&#x27;logisticregression&#x27;,\n",
       "                 LogisticRegression(C=1, n_jobs=-1, random_state=17))])</pre></div></div></div><div class=\"sk-serial\"><div class=\"sk-item\"><div class=\"sk-serial\"><div class=\"sk-item\"><div class=\"sk-estimator sk-toggleable\"><input class=\"sk-toggleable__control sk-hidden--visually\" id=\"sk-estimator-id-51\" type=\"checkbox\" ><label for=\"sk-estimator-id-51\" class=\"sk-toggleable__label sk-toggleable__label-arrow\">TfidfVectorizer</label><div class=\"sk-toggleable__content\"><pre>TfidfVectorizer(max_df=0.3, min_df=5)</pre></div></div></div><div class=\"sk-item\"><div class=\"sk-estimator sk-toggleable\"><input class=\"sk-toggleable__control sk-hidden--visually\" id=\"sk-estimator-id-52\" type=\"checkbox\" ><label for=\"sk-estimator-id-52\" class=\"sk-toggleable__label sk-toggleable__label-arrow\">TruncatedSVD</label><div class=\"sk-toggleable__content\"><pre>TruncatedSVD(n_components=200)</pre></div></div></div><div class=\"sk-item\"><div class=\"sk-estimator sk-toggleable\"><input class=\"sk-toggleable__control sk-hidden--visually\" id=\"sk-estimator-id-53\" type=\"checkbox\" ><label for=\"sk-estimator-id-53\" class=\"sk-toggleable__label sk-toggleable__label-arrow\">StandardScaler</label><div class=\"sk-toggleable__content\"><pre>StandardScaler()</pre></div></div></div><div class=\"sk-item\"><div class=\"sk-estimator sk-toggleable\"><input class=\"sk-toggleable__control sk-hidden--visually\" id=\"sk-estimator-id-54\" type=\"checkbox\" ><label for=\"sk-estimator-id-54\" class=\"sk-toggleable__label sk-toggleable__label-arrow\">LogisticRegression</label><div class=\"sk-toggleable__content\"><pre>LogisticRegression(C=1, n_jobs=-1, random_state=17)</pre></div></div></div></div></div></div></div></div></div></div></div></div>"
      ],
      "text/plain": [
       "GridSearchCV(cv=KFold(n_splits=4, random_state=7, shuffle=True),\n",
       "             estimator=Pipeline(steps=[('tfidfvectorizer',\n",
       "                                        TfidfVectorizer(max_df=0.3, min_df=5)),\n",
       "                                       ('truncatedsvd',\n",
       "                                        TruncatedSVD(n_components=200)),\n",
       "                                       ('standardscaler', StandardScaler()),\n",
       "                                       ('logisticregression',\n",
       "                                        LogisticRegression(C=1, n_jobs=-1,\n",
       "                                                           random_state=17))]),\n",
       "             n_jobs=1,\n",
       "             param_grid={'logisticregression__C': [0.1, 1, 10],\n",
       "                         'truncatedsvd__n_components': [100, 200, 300]},\n",
       "             scoring='accuracy', verbose=2)"
      ]
     },
     "execution_count": 156,
     "metadata": {},
     "output_type": "execute_result"
    }
   ],
   "source": [
    "gcv.fit(X_train, y_train)"
   ]
  },
  {
   "cell_type": "code",
   "execution_count": 157,
   "metadata": {},
   "outputs": [
    {
     "data": {
      "text/html": [
       "<div>\n",
       "<style scoped>\n",
       "    .dataframe tbody tr th:only-of-type {\n",
       "        vertical-align: middle;\n",
       "    }\n",
       "\n",
       "    .dataframe tbody tr th {\n",
       "        vertical-align: top;\n",
       "    }\n",
       "\n",
       "    .dataframe thead th {\n",
       "        text-align: right;\n",
       "    }\n",
       "</style>\n",
       "<table border=\"1\" class=\"dataframe\">\n",
       "  <thead>\n",
       "    <tr style=\"text-align: right;\">\n",
       "      <th></th>\n",
       "      <th>logisticregression__C</th>\n",
       "      <th>truncatedsvd__n_components</th>\n",
       "      <th>mean_score</th>\n",
       "      <th>std_score</th>\n",
       "      <th>fit_time</th>\n",
       "    </tr>\n",
       "  </thead>\n",
       "  <tbody>\n",
       "    <tr>\n",
       "      <th>0</th>\n",
       "      <td>0.1</td>\n",
       "      <td>100</td>\n",
       "      <td>0.673206</td>\n",
       "      <td>0.003862</td>\n",
       "      <td>4.843180</td>\n",
       "    </tr>\n",
       "    <tr>\n",
       "      <th>1</th>\n",
       "      <td>0.1</td>\n",
       "      <td>200</td>\n",
       "      <td>0.689714</td>\n",
       "      <td>0.002131</td>\n",
       "      <td>7.880864</td>\n",
       "    </tr>\n",
       "    <tr>\n",
       "      <th>2</th>\n",
       "      <td>0.1</td>\n",
       "      <td>300</td>\n",
       "      <td>0.697349</td>\n",
       "      <td>0.001949</td>\n",
       "      <td>11.993904</td>\n",
       "    </tr>\n",
       "    <tr>\n",
       "      <th>3</th>\n",
       "      <td>1.0</td>\n",
       "      <td>100</td>\n",
       "      <td>0.673984</td>\n",
       "      <td>0.003814</td>\n",
       "      <td>4.601011</td>\n",
       "    </tr>\n",
       "    <tr>\n",
       "      <th>4</th>\n",
       "      <td>1.0</td>\n",
       "      <td>200</td>\n",
       "      <td>0.690921</td>\n",
       "      <td>0.002954</td>\n",
       "      <td>8.348212</td>\n",
       "    </tr>\n",
       "    <tr>\n",
       "      <th>5</th>\n",
       "      <td>1.0</td>\n",
       "      <td>300</td>\n",
       "      <td>0.698952</td>\n",
       "      <td>0.002045</td>\n",
       "      <td>13.546391</td>\n",
       "    </tr>\n",
       "    <tr>\n",
       "      <th>6</th>\n",
       "      <td>10.0</td>\n",
       "      <td>100</td>\n",
       "      <td>0.675159</td>\n",
       "      <td>0.003380</td>\n",
       "      <td>5.080216</td>\n",
       "    </tr>\n",
       "    <tr>\n",
       "      <th>7</th>\n",
       "      <td>10.0</td>\n",
       "      <td>200</td>\n",
       "      <td>0.690571</td>\n",
       "      <td>0.002890</td>\n",
       "      <td>8.277753</td>\n",
       "    </tr>\n",
       "    <tr>\n",
       "      <th>8</th>\n",
       "      <td>10.0</td>\n",
       "      <td>300</td>\n",
       "      <td>0.698349</td>\n",
       "      <td>0.001844</td>\n",
       "      <td>12.654288</td>\n",
       "    </tr>\n",
       "  </tbody>\n",
       "</table>\n",
       "</div>"
      ],
      "text/plain": [
       "   logisticregression__C  truncatedsvd__n_components  mean_score  std_score  \\\n",
       "0                    0.1                         100    0.673206   0.003862   \n",
       "1                    0.1                         200    0.689714   0.002131   \n",
       "2                    0.1                         300    0.697349   0.001949   \n",
       "3                    1.0                         100    0.673984   0.003814   \n",
       "4                    1.0                         200    0.690921   0.002954   \n",
       "5                    1.0                         300    0.698952   0.002045   \n",
       "6                   10.0                         100    0.675159   0.003380   \n",
       "7                   10.0                         200    0.690571   0.002890   \n",
       "8                   10.0                         300    0.698349   0.001844   \n",
       "\n",
       "    fit_time  \n",
       "0   4.843180  \n",
       "1   7.880864  \n",
       "2  11.993904  \n",
       "3   4.601011  \n",
       "4   8.348212  \n",
       "5  13.546391  \n",
       "6   5.080216  \n",
       "7   8.277753  \n",
       "8  12.654288  "
      ]
     },
     "execution_count": 157,
     "metadata": {},
     "output_type": "execute_result"
    }
   ],
   "source": [
    "get_cv_results(gcv)"
   ]
  },
  {
   "cell_type": "code",
   "execution_count": 158,
   "metadata": {},
   "outputs": [
    {
     "data": {
      "text/html": [
       "<style>#sk-container-id-14 {color: black;background-color: white;}#sk-container-id-14 pre{padding: 0;}#sk-container-id-14 div.sk-toggleable {background-color: white;}#sk-container-id-14 label.sk-toggleable__label {cursor: pointer;display: block;width: 100%;margin-bottom: 0;padding: 0.3em;box-sizing: border-box;text-align: center;}#sk-container-id-14 label.sk-toggleable__label-arrow:before {content: \"▸\";float: left;margin-right: 0.25em;color: #696969;}#sk-container-id-14 label.sk-toggleable__label-arrow:hover:before {color: black;}#sk-container-id-14 div.sk-estimator:hover label.sk-toggleable__label-arrow:before {color: black;}#sk-container-id-14 div.sk-toggleable__content {max-height: 0;max-width: 0;overflow: hidden;text-align: left;background-color: #f0f8ff;}#sk-container-id-14 div.sk-toggleable__content pre {margin: 0.2em;color: black;border-radius: 0.25em;background-color: #f0f8ff;}#sk-container-id-14 input.sk-toggleable__control:checked~div.sk-toggleable__content {max-height: 200px;max-width: 100%;overflow: auto;}#sk-container-id-14 input.sk-toggleable__control:checked~label.sk-toggleable__label-arrow:before {content: \"▾\";}#sk-container-id-14 div.sk-estimator input.sk-toggleable__control:checked~label.sk-toggleable__label {background-color: #d4ebff;}#sk-container-id-14 div.sk-label input.sk-toggleable__control:checked~label.sk-toggleable__label {background-color: #d4ebff;}#sk-container-id-14 input.sk-hidden--visually {border: 0;clip: rect(1px 1px 1px 1px);clip: rect(1px, 1px, 1px, 1px);height: 1px;margin: -1px;overflow: hidden;padding: 0;position: absolute;width: 1px;}#sk-container-id-14 div.sk-estimator {font-family: monospace;background-color: #f0f8ff;border: 1px dotted black;border-radius: 0.25em;box-sizing: border-box;margin-bottom: 0.5em;}#sk-container-id-14 div.sk-estimator:hover {background-color: #d4ebff;}#sk-container-id-14 div.sk-parallel-item::after {content: \"\";width: 100%;border-bottom: 1px solid gray;flex-grow: 1;}#sk-container-id-14 div.sk-label:hover label.sk-toggleable__label {background-color: #d4ebff;}#sk-container-id-14 div.sk-serial::before {content: \"\";position: absolute;border-left: 1px solid gray;box-sizing: border-box;top: 0;bottom: 0;left: 50%;z-index: 0;}#sk-container-id-14 div.sk-serial {display: flex;flex-direction: column;align-items: center;background-color: white;padding-right: 0.2em;padding-left: 0.2em;position: relative;}#sk-container-id-14 div.sk-item {position: relative;z-index: 1;}#sk-container-id-14 div.sk-parallel {display: flex;align-items: stretch;justify-content: center;background-color: white;position: relative;}#sk-container-id-14 div.sk-item::before, #sk-container-id-14 div.sk-parallel-item::before {content: \"\";position: absolute;border-left: 1px solid gray;box-sizing: border-box;top: 0;bottom: 0;left: 50%;z-index: -1;}#sk-container-id-14 div.sk-parallel-item {display: flex;flex-direction: column;z-index: 1;position: relative;background-color: white;}#sk-container-id-14 div.sk-parallel-item:first-child::after {align-self: flex-end;width: 50%;}#sk-container-id-14 div.sk-parallel-item:last-child::after {align-self: flex-start;width: 50%;}#sk-container-id-14 div.sk-parallel-item:only-child::after {width: 0;}#sk-container-id-14 div.sk-dashed-wrapped {border: 1px dashed gray;margin: 0 0.4em 0.5em 0.4em;box-sizing: border-box;padding-bottom: 0.4em;background-color: white;}#sk-container-id-14 div.sk-label label {font-family: monospace;font-weight: bold;display: inline-block;line-height: 1.2em;}#sk-container-id-14 div.sk-label-container {text-align: center;}#sk-container-id-14 div.sk-container {/* jupyter's `normalize.less` sets `[hidden] { display: none; }` but bootstrap.min.css set `[hidden] { display: none !important; }` so we also need the `!important` here to be able to override the default hidden behavior on the sphinx rendered scikit-learn.org. See: https://github.com/scikit-learn/scikit-learn/issues/21755 */display: inline-block !important;position: relative;}#sk-container-id-14 div.sk-text-repr-fallback {display: none;}</style><div id=\"sk-container-id-14\" class=\"sk-top-container\"><div class=\"sk-text-repr-fallback\"><pre>Pipeline(steps=[(&#x27;tfidfvectorizer&#x27;, TfidfVectorizer(max_df=0.3, min_df=5)),\n",
       "                (&#x27;truncatedsvd&#x27;, TruncatedSVD(n_components=300)),\n",
       "                (&#x27;standardscaler&#x27;, StandardScaler()),\n",
       "                (&#x27;logisticregression&#x27;,\n",
       "                 LogisticRegression(C=10, n_jobs=-1, random_state=17))])</pre><b>In a Jupyter environment, please rerun this cell to show the HTML representation or trust the notebook. <br />On GitHub, the HTML representation is unable to render, please try loading this page with nbviewer.org.</b></div><div class=\"sk-container\" hidden><div class=\"sk-item sk-dashed-wrapped\"><div class=\"sk-label-container\"><div class=\"sk-label sk-toggleable\"><input class=\"sk-toggleable__control sk-hidden--visually\" id=\"sk-estimator-id-55\" type=\"checkbox\" ><label for=\"sk-estimator-id-55\" class=\"sk-toggleable__label sk-toggleable__label-arrow\">Pipeline</label><div class=\"sk-toggleable__content\"><pre>Pipeline(steps=[(&#x27;tfidfvectorizer&#x27;, TfidfVectorizer(max_df=0.3, min_df=5)),\n",
       "                (&#x27;truncatedsvd&#x27;, TruncatedSVD(n_components=300)),\n",
       "                (&#x27;standardscaler&#x27;, StandardScaler()),\n",
       "                (&#x27;logisticregression&#x27;,\n",
       "                 LogisticRegression(C=10, n_jobs=-1, random_state=17))])</pre></div></div></div><div class=\"sk-serial\"><div class=\"sk-item\"><div class=\"sk-estimator sk-toggleable\"><input class=\"sk-toggleable__control sk-hidden--visually\" id=\"sk-estimator-id-56\" type=\"checkbox\" ><label for=\"sk-estimator-id-56\" class=\"sk-toggleable__label sk-toggleable__label-arrow\">TfidfVectorizer</label><div class=\"sk-toggleable__content\"><pre>TfidfVectorizer(max_df=0.3, min_df=5)</pre></div></div></div><div class=\"sk-item\"><div class=\"sk-estimator sk-toggleable\"><input class=\"sk-toggleable__control sk-hidden--visually\" id=\"sk-estimator-id-57\" type=\"checkbox\" ><label for=\"sk-estimator-id-57\" class=\"sk-toggleable__label sk-toggleable__label-arrow\">TruncatedSVD</label><div class=\"sk-toggleable__content\"><pre>TruncatedSVD(n_components=300)</pre></div></div></div><div class=\"sk-item\"><div class=\"sk-estimator sk-toggleable\"><input class=\"sk-toggleable__control sk-hidden--visually\" id=\"sk-estimator-id-58\" type=\"checkbox\" ><label for=\"sk-estimator-id-58\" class=\"sk-toggleable__label sk-toggleable__label-arrow\">StandardScaler</label><div class=\"sk-toggleable__content\"><pre>StandardScaler()</pre></div></div></div><div class=\"sk-item\"><div class=\"sk-estimator sk-toggleable\"><input class=\"sk-toggleable__control sk-hidden--visually\" id=\"sk-estimator-id-59\" type=\"checkbox\" ><label for=\"sk-estimator-id-59\" class=\"sk-toggleable__label sk-toggleable__label-arrow\">LogisticRegression</label><div class=\"sk-toggleable__content\"><pre>LogisticRegression(C=10, n_jobs=-1, random_state=17)</pre></div></div></div></div></div></div></div>"
      ],
      "text/plain": [
       "Pipeline(steps=[('tfidfvectorizer', TfidfVectorizer(max_df=0.3, min_df=5)),\n",
       "                ('truncatedsvd', TruncatedSVD(n_components=300)),\n",
       "                ('standardscaler', StandardScaler()),\n",
       "                ('logisticregression',\n",
       "                 LogisticRegression(C=10, n_jobs=-1, random_state=17))])"
      ]
     },
     "execution_count": 158,
     "metadata": {},
     "output_type": "execute_result"
    }
   ],
   "source": [
    "model_lr = make_pipeline(\n",
    "    TfidfVectorizer(max_df=.3, min_df=5),\n",
    "    TruncatedSVD(n_components=300,),\n",
    "    StandardScaler(),\n",
    "    LogisticRegression(random_state=17, n_jobs=-1, C=10)\n",
    ")\n",
    "\n",
    "model_lr.fit(X_train, y_train)"
   ]
  },
  {
   "cell_type": "code",
   "execution_count": 160,
   "metadata": {},
   "outputs": [
    {
     "data": {
      "text/html": [
       "<style>#sk-container-id-16 {color: black;background-color: white;}#sk-container-id-16 pre{padding: 0;}#sk-container-id-16 div.sk-toggleable {background-color: white;}#sk-container-id-16 label.sk-toggleable__label {cursor: pointer;display: block;width: 100%;margin-bottom: 0;padding: 0.3em;box-sizing: border-box;text-align: center;}#sk-container-id-16 label.sk-toggleable__label-arrow:before {content: \"▸\";float: left;margin-right: 0.25em;color: #696969;}#sk-container-id-16 label.sk-toggleable__label-arrow:hover:before {color: black;}#sk-container-id-16 div.sk-estimator:hover label.sk-toggleable__label-arrow:before {color: black;}#sk-container-id-16 div.sk-toggleable__content {max-height: 0;max-width: 0;overflow: hidden;text-align: left;background-color: #f0f8ff;}#sk-container-id-16 div.sk-toggleable__content pre {margin: 0.2em;color: black;border-radius: 0.25em;background-color: #f0f8ff;}#sk-container-id-16 input.sk-toggleable__control:checked~div.sk-toggleable__content {max-height: 200px;max-width: 100%;overflow: auto;}#sk-container-id-16 input.sk-toggleable__control:checked~label.sk-toggleable__label-arrow:before {content: \"▾\";}#sk-container-id-16 div.sk-estimator input.sk-toggleable__control:checked~label.sk-toggleable__label {background-color: #d4ebff;}#sk-container-id-16 div.sk-label input.sk-toggleable__control:checked~label.sk-toggleable__label {background-color: #d4ebff;}#sk-container-id-16 input.sk-hidden--visually {border: 0;clip: rect(1px 1px 1px 1px);clip: rect(1px, 1px, 1px, 1px);height: 1px;margin: -1px;overflow: hidden;padding: 0;position: absolute;width: 1px;}#sk-container-id-16 div.sk-estimator {font-family: monospace;background-color: #f0f8ff;border: 1px dotted black;border-radius: 0.25em;box-sizing: border-box;margin-bottom: 0.5em;}#sk-container-id-16 div.sk-estimator:hover {background-color: #d4ebff;}#sk-container-id-16 div.sk-parallel-item::after {content: \"\";width: 100%;border-bottom: 1px solid gray;flex-grow: 1;}#sk-container-id-16 div.sk-label:hover label.sk-toggleable__label {background-color: #d4ebff;}#sk-container-id-16 div.sk-serial::before {content: \"\";position: absolute;border-left: 1px solid gray;box-sizing: border-box;top: 0;bottom: 0;left: 50%;z-index: 0;}#sk-container-id-16 div.sk-serial {display: flex;flex-direction: column;align-items: center;background-color: white;padding-right: 0.2em;padding-left: 0.2em;position: relative;}#sk-container-id-16 div.sk-item {position: relative;z-index: 1;}#sk-container-id-16 div.sk-parallel {display: flex;align-items: stretch;justify-content: center;background-color: white;position: relative;}#sk-container-id-16 div.sk-item::before, #sk-container-id-16 div.sk-parallel-item::before {content: \"\";position: absolute;border-left: 1px solid gray;box-sizing: border-box;top: 0;bottom: 0;left: 50%;z-index: -1;}#sk-container-id-16 div.sk-parallel-item {display: flex;flex-direction: column;z-index: 1;position: relative;background-color: white;}#sk-container-id-16 div.sk-parallel-item:first-child::after {align-self: flex-end;width: 50%;}#sk-container-id-16 div.sk-parallel-item:last-child::after {align-self: flex-start;width: 50%;}#sk-container-id-16 div.sk-parallel-item:only-child::after {width: 0;}#sk-container-id-16 div.sk-dashed-wrapped {border: 1px dashed gray;margin: 0 0.4em 0.5em 0.4em;box-sizing: border-box;padding-bottom: 0.4em;background-color: white;}#sk-container-id-16 div.sk-label label {font-family: monospace;font-weight: bold;display: inline-block;line-height: 1.2em;}#sk-container-id-16 div.sk-label-container {text-align: center;}#sk-container-id-16 div.sk-container {/* jupyter's `normalize.less` sets `[hidden] { display: none; }` but bootstrap.min.css set `[hidden] { display: none !important; }` so we also need the `!important` here to be able to override the default hidden behavior on the sphinx rendered scikit-learn.org. See: https://github.com/scikit-learn/scikit-learn/issues/21755 */display: inline-block !important;position: relative;}#sk-container-id-16 div.sk-text-repr-fallback {display: none;}</style><div id=\"sk-container-id-16\" class=\"sk-top-container\"><div class=\"sk-text-repr-fallback\"><pre>GridSearchCV(cv=KFold(n_splits=4, random_state=7, shuffle=True),\n",
       "             estimator=Pipeline(steps=[(&#x27;tfidfvectorizer&#x27;,\n",
       "                                        TfidfVectorizer(max_df=0.3, min_df=5)),\n",
       "                                       (&#x27;truncatedsvd&#x27;,\n",
       "                                        TruncatedSVD(n_components=200)),\n",
       "                                       (&#x27;randomforestclassifier&#x27;,\n",
       "                                        RandomForestClassifier(n_jobs=-1,\n",
       "                                                               random_state=17))]),\n",
       "             n_jobs=1,\n",
       "             param_grid={&#x27;randomforestclassifier__n_estimators&#x27;: [200, 400,\n",
       "                                                                  600],\n",
       "                         &#x27;truncatedsvd__n_components&#x27;: [100, 200, 300]},\n",
       "             scoring=&#x27;accuracy&#x27;, verbose=2)</pre><b>In a Jupyter environment, please rerun this cell to show the HTML representation or trust the notebook. <br />On GitHub, the HTML representation is unable to render, please try loading this page with nbviewer.org.</b></div><div class=\"sk-container\" hidden><div class=\"sk-item sk-dashed-wrapped\"><div class=\"sk-label-container\"><div class=\"sk-label sk-toggleable\"><input class=\"sk-toggleable__control sk-hidden--visually\" id=\"sk-estimator-id-65\" type=\"checkbox\" ><label for=\"sk-estimator-id-65\" class=\"sk-toggleable__label sk-toggleable__label-arrow\">GridSearchCV</label><div class=\"sk-toggleable__content\"><pre>GridSearchCV(cv=KFold(n_splits=4, random_state=7, shuffle=True),\n",
       "             estimator=Pipeline(steps=[(&#x27;tfidfvectorizer&#x27;,\n",
       "                                        TfidfVectorizer(max_df=0.3, min_df=5)),\n",
       "                                       (&#x27;truncatedsvd&#x27;,\n",
       "                                        TruncatedSVD(n_components=200)),\n",
       "                                       (&#x27;randomforestclassifier&#x27;,\n",
       "                                        RandomForestClassifier(n_jobs=-1,\n",
       "                                                               random_state=17))]),\n",
       "             n_jobs=1,\n",
       "             param_grid={&#x27;randomforestclassifier__n_estimators&#x27;: [200, 400,\n",
       "                                                                  600],\n",
       "                         &#x27;truncatedsvd__n_components&#x27;: [100, 200, 300]},\n",
       "             scoring=&#x27;accuracy&#x27;, verbose=2)</pre></div></div></div><div class=\"sk-parallel\"><div class=\"sk-parallel-item\"><div class=\"sk-item\"><div class=\"sk-label-container\"><div class=\"sk-label sk-toggleable\"><input class=\"sk-toggleable__control sk-hidden--visually\" id=\"sk-estimator-id-66\" type=\"checkbox\" ><label for=\"sk-estimator-id-66\" class=\"sk-toggleable__label sk-toggleable__label-arrow\">estimator: Pipeline</label><div class=\"sk-toggleable__content\"><pre>Pipeline(steps=[(&#x27;tfidfvectorizer&#x27;, TfidfVectorizer(max_df=0.3, min_df=5)),\n",
       "                (&#x27;truncatedsvd&#x27;, TruncatedSVD(n_components=200)),\n",
       "                (&#x27;randomforestclassifier&#x27;,\n",
       "                 RandomForestClassifier(n_jobs=-1, random_state=17))])</pre></div></div></div><div class=\"sk-serial\"><div class=\"sk-item\"><div class=\"sk-serial\"><div class=\"sk-item\"><div class=\"sk-estimator sk-toggleable\"><input class=\"sk-toggleable__control sk-hidden--visually\" id=\"sk-estimator-id-67\" type=\"checkbox\" ><label for=\"sk-estimator-id-67\" class=\"sk-toggleable__label sk-toggleable__label-arrow\">TfidfVectorizer</label><div class=\"sk-toggleable__content\"><pre>TfidfVectorizer(max_df=0.3, min_df=5)</pre></div></div></div><div class=\"sk-item\"><div class=\"sk-estimator sk-toggleable\"><input class=\"sk-toggleable__control sk-hidden--visually\" id=\"sk-estimator-id-68\" type=\"checkbox\" ><label for=\"sk-estimator-id-68\" class=\"sk-toggleable__label sk-toggleable__label-arrow\">TruncatedSVD</label><div class=\"sk-toggleable__content\"><pre>TruncatedSVD(n_components=200)</pre></div></div></div><div class=\"sk-item\"><div class=\"sk-estimator sk-toggleable\"><input class=\"sk-toggleable__control sk-hidden--visually\" id=\"sk-estimator-id-69\" type=\"checkbox\" ><label for=\"sk-estimator-id-69\" class=\"sk-toggleable__label sk-toggleable__label-arrow\">RandomForestClassifier</label><div class=\"sk-toggleable__content\"><pre>RandomForestClassifier(n_jobs=-1, random_state=17)</pre></div></div></div></div></div></div></div></div></div></div></div></div>"
      ],
      "text/plain": [
       "GridSearchCV(cv=KFold(n_splits=4, random_state=7, shuffle=True),\n",
       "             estimator=Pipeline(steps=[('tfidfvectorizer',\n",
       "                                        TfidfVectorizer(max_df=0.3, min_df=5)),\n",
       "                                       ('truncatedsvd',\n",
       "                                        TruncatedSVD(n_components=200)),\n",
       "                                       ('randomforestclassifier',\n",
       "                                        RandomForestClassifier(n_jobs=-1,\n",
       "                                                               random_state=17))]),\n",
       "             n_jobs=1,\n",
       "             param_grid={'randomforestclassifier__n_estimators': [200, 400,\n",
       "                                                                  600],\n",
       "                         'truncatedsvd__n_components': [100, 200, 300]},\n",
       "             scoring='accuracy', verbose=2)"
      ]
     },
     "execution_count": 160,
     "metadata": {},
     "output_type": "execute_result"
    }
   ],
   "source": [
    "from sklearn.ensemble import RandomForestClassifier\n",
    "\n",
    "model = make_pipeline(\n",
    "    TfidfVectorizer(max_df=.3, min_df=5),\n",
    "    TruncatedSVD(n_components=200,),\n",
    "    RandomForestClassifier(random_state=17, n_estimators=100, n_jobs=-1)\n",
    ")\n",
    "\n",
    "params = {\n",
    "    \"truncatedsvd__n_components\": [100, 200, 300],\n",
    "    \"randomforestclassifier__n_estimators\": [200, 400, 600]\n",
    "}\n",
    "kf = KFold(n_splits=4, shuffle=True, random_state=7)\n",
    "gcv = GridSearchCV(model, params, scoring='accuracy', n_jobs=1, cv=kf, verbose=2)\n",
    "gcv"
   ]
  },
  {
   "cell_type": "code",
   "execution_count": 161,
   "metadata": {},
   "outputs": [
    {
     "name": "stdout",
     "output_type": "stream",
     "text": [
      "Fitting 4 folds for each of 9 candidates, totalling 36 fits\n",
      "[CV] END randomforestclassifier__n_estimators=200, truncatedsvd__n_components=100; total time=  23.9s\n",
      "[CV] END randomforestclassifier__n_estimators=200, truncatedsvd__n_components=100; total time=  22.5s\n",
      "[CV] END randomforestclassifier__n_estimators=200, truncatedsvd__n_components=100; total time=  25.7s\n",
      "[CV] END randomforestclassifier__n_estimators=200, truncatedsvd__n_components=100; total time=  24.4s\n",
      "[CV] END randomforestclassifier__n_estimators=200, truncatedsvd__n_components=200; total time=  34.3s\n",
      "[CV] END randomforestclassifier__n_estimators=200, truncatedsvd__n_components=200; total time=  34.2s\n",
      "[CV] END randomforestclassifier__n_estimators=200, truncatedsvd__n_components=200; total time=  35.5s\n",
      "[CV] END randomforestclassifier__n_estimators=200, truncatedsvd__n_components=200; total time=  33.4s\n",
      "[CV] END randomforestclassifier__n_estimators=200, truncatedsvd__n_components=300; total time=  41.7s\n",
      "[CV] END randomforestclassifier__n_estimators=200, truncatedsvd__n_components=300; total time=  43.8s\n",
      "[CV] END randomforestclassifier__n_estimators=200, truncatedsvd__n_components=300; total time=  44.5s\n",
      "[CV] END randomforestclassifier__n_estimators=200, truncatedsvd__n_components=300; total time=  42.6s\n",
      "[CV] END randomforestclassifier__n_estimators=400, truncatedsvd__n_components=100; total time=  43.7s\n",
      "[CV] END randomforestclassifier__n_estimators=400, truncatedsvd__n_components=100; total time=  44.7s\n",
      "[CV] END randomforestclassifier__n_estimators=400, truncatedsvd__n_components=100; total time=  46.0s\n",
      "[CV] END randomforestclassifier__n_estimators=400, truncatedsvd__n_components=100; total time=  44.8s\n",
      "[CV] END randomforestclassifier__n_estimators=400, truncatedsvd__n_components=200; total time= 1.1min\n",
      "[CV] END randomforestclassifier__n_estimators=400, truncatedsvd__n_components=200; total time= 1.1min\n",
      "[CV] END randomforestclassifier__n_estimators=400, truncatedsvd__n_components=200; total time= 1.1min\n",
      "[CV] END randomforestclassifier__n_estimators=400, truncatedsvd__n_components=200; total time= 1.2min\n",
      "[CV] END randomforestclassifier__n_estimators=400, truncatedsvd__n_components=300; total time= 1.4min\n",
      "[CV] END randomforestclassifier__n_estimators=400, truncatedsvd__n_components=300; total time= 1.4min\n",
      "[CV] END randomforestclassifier__n_estimators=400, truncatedsvd__n_components=300; total time= 1.6min\n",
      "[CV] END randomforestclassifier__n_estimators=400, truncatedsvd__n_components=300; total time= 1.4min\n",
      "[CV] END randomforestclassifier__n_estimators=600, truncatedsvd__n_components=100; total time= 1.2min\n",
      "[CV] END randomforestclassifier__n_estimators=600, truncatedsvd__n_components=100; total time= 1.3min\n",
      "[CV] END randomforestclassifier__n_estimators=600, truncatedsvd__n_components=100; total time= 1.3min\n",
      "[CV] END randomforestclassifier__n_estimators=600, truncatedsvd__n_components=100; total time= 1.4min\n",
      "[CV] END randomforestclassifier__n_estimators=600, truncatedsvd__n_components=200; total time= 2.1min\n",
      "[CV] END randomforestclassifier__n_estimators=600, truncatedsvd__n_components=200; total time= 1.7min\n",
      "[CV] END randomforestclassifier__n_estimators=600, truncatedsvd__n_components=200; total time= 1.8min\n",
      "[CV] END randomforestclassifier__n_estimators=600, truncatedsvd__n_components=200; total time= 1.5min\n",
      "[CV] END randomforestclassifier__n_estimators=600, truncatedsvd__n_components=300; total time= 2.2min\n",
      "[CV] END randomforestclassifier__n_estimators=600, truncatedsvd__n_components=300; total time= 2.4min\n",
      "[CV] END randomforestclassifier__n_estimators=600, truncatedsvd__n_components=300; total time= 2.1min\n",
      "[CV] END randomforestclassifier__n_estimators=600, truncatedsvd__n_components=300; total time= 2.0min\n"
     ]
    },
    {
     "data": {
      "text/html": [
       "<style>#sk-container-id-17 {color: black;background-color: white;}#sk-container-id-17 pre{padding: 0;}#sk-container-id-17 div.sk-toggleable {background-color: white;}#sk-container-id-17 label.sk-toggleable__label {cursor: pointer;display: block;width: 100%;margin-bottom: 0;padding: 0.3em;box-sizing: border-box;text-align: center;}#sk-container-id-17 label.sk-toggleable__label-arrow:before {content: \"▸\";float: left;margin-right: 0.25em;color: #696969;}#sk-container-id-17 label.sk-toggleable__label-arrow:hover:before {color: black;}#sk-container-id-17 div.sk-estimator:hover label.sk-toggleable__label-arrow:before {color: black;}#sk-container-id-17 div.sk-toggleable__content {max-height: 0;max-width: 0;overflow: hidden;text-align: left;background-color: #f0f8ff;}#sk-container-id-17 div.sk-toggleable__content pre {margin: 0.2em;color: black;border-radius: 0.25em;background-color: #f0f8ff;}#sk-container-id-17 input.sk-toggleable__control:checked~div.sk-toggleable__content {max-height: 200px;max-width: 100%;overflow: auto;}#sk-container-id-17 input.sk-toggleable__control:checked~label.sk-toggleable__label-arrow:before {content: \"▾\";}#sk-container-id-17 div.sk-estimator input.sk-toggleable__control:checked~label.sk-toggleable__label {background-color: #d4ebff;}#sk-container-id-17 div.sk-label input.sk-toggleable__control:checked~label.sk-toggleable__label {background-color: #d4ebff;}#sk-container-id-17 input.sk-hidden--visually {border: 0;clip: rect(1px 1px 1px 1px);clip: rect(1px, 1px, 1px, 1px);height: 1px;margin: -1px;overflow: hidden;padding: 0;position: absolute;width: 1px;}#sk-container-id-17 div.sk-estimator {font-family: monospace;background-color: #f0f8ff;border: 1px dotted black;border-radius: 0.25em;box-sizing: border-box;margin-bottom: 0.5em;}#sk-container-id-17 div.sk-estimator:hover {background-color: #d4ebff;}#sk-container-id-17 div.sk-parallel-item::after {content: \"\";width: 100%;border-bottom: 1px solid gray;flex-grow: 1;}#sk-container-id-17 div.sk-label:hover label.sk-toggleable__label {background-color: #d4ebff;}#sk-container-id-17 div.sk-serial::before {content: \"\";position: absolute;border-left: 1px solid gray;box-sizing: border-box;top: 0;bottom: 0;left: 50%;z-index: 0;}#sk-container-id-17 div.sk-serial {display: flex;flex-direction: column;align-items: center;background-color: white;padding-right: 0.2em;padding-left: 0.2em;position: relative;}#sk-container-id-17 div.sk-item {position: relative;z-index: 1;}#sk-container-id-17 div.sk-parallel {display: flex;align-items: stretch;justify-content: center;background-color: white;position: relative;}#sk-container-id-17 div.sk-item::before, #sk-container-id-17 div.sk-parallel-item::before {content: \"\";position: absolute;border-left: 1px solid gray;box-sizing: border-box;top: 0;bottom: 0;left: 50%;z-index: -1;}#sk-container-id-17 div.sk-parallel-item {display: flex;flex-direction: column;z-index: 1;position: relative;background-color: white;}#sk-container-id-17 div.sk-parallel-item:first-child::after {align-self: flex-end;width: 50%;}#sk-container-id-17 div.sk-parallel-item:last-child::after {align-self: flex-start;width: 50%;}#sk-container-id-17 div.sk-parallel-item:only-child::after {width: 0;}#sk-container-id-17 div.sk-dashed-wrapped {border: 1px dashed gray;margin: 0 0.4em 0.5em 0.4em;box-sizing: border-box;padding-bottom: 0.4em;background-color: white;}#sk-container-id-17 div.sk-label label {font-family: monospace;font-weight: bold;display: inline-block;line-height: 1.2em;}#sk-container-id-17 div.sk-label-container {text-align: center;}#sk-container-id-17 div.sk-container {/* jupyter's `normalize.less` sets `[hidden] { display: none; }` but bootstrap.min.css set `[hidden] { display: none !important; }` so we also need the `!important` here to be able to override the default hidden behavior on the sphinx rendered scikit-learn.org. See: https://github.com/scikit-learn/scikit-learn/issues/21755 */display: inline-block !important;position: relative;}#sk-container-id-17 div.sk-text-repr-fallback {display: none;}</style><div id=\"sk-container-id-17\" class=\"sk-top-container\"><div class=\"sk-text-repr-fallback\"><pre>GridSearchCV(cv=KFold(n_splits=4, random_state=7, shuffle=True),\n",
       "             estimator=Pipeline(steps=[(&#x27;tfidfvectorizer&#x27;,\n",
       "                                        TfidfVectorizer(max_df=0.3, min_df=5)),\n",
       "                                       (&#x27;truncatedsvd&#x27;,\n",
       "                                        TruncatedSVD(n_components=200)),\n",
       "                                       (&#x27;randomforestclassifier&#x27;,\n",
       "                                        RandomForestClassifier(n_jobs=-1,\n",
       "                                                               random_state=17))]),\n",
       "             n_jobs=1,\n",
       "             param_grid={&#x27;randomforestclassifier__n_estimators&#x27;: [200, 400,\n",
       "                                                                  600],\n",
       "                         &#x27;truncatedsvd__n_components&#x27;: [100, 200, 300]},\n",
       "             scoring=&#x27;accuracy&#x27;, verbose=2)</pre><b>In a Jupyter environment, please rerun this cell to show the HTML representation or trust the notebook. <br />On GitHub, the HTML representation is unable to render, please try loading this page with nbviewer.org.</b></div><div class=\"sk-container\" hidden><div class=\"sk-item sk-dashed-wrapped\"><div class=\"sk-label-container\"><div class=\"sk-label sk-toggleable\"><input class=\"sk-toggleable__control sk-hidden--visually\" id=\"sk-estimator-id-70\" type=\"checkbox\" ><label for=\"sk-estimator-id-70\" class=\"sk-toggleable__label sk-toggleable__label-arrow\">GridSearchCV</label><div class=\"sk-toggleable__content\"><pre>GridSearchCV(cv=KFold(n_splits=4, random_state=7, shuffle=True),\n",
       "             estimator=Pipeline(steps=[(&#x27;tfidfvectorizer&#x27;,\n",
       "                                        TfidfVectorizer(max_df=0.3, min_df=5)),\n",
       "                                       (&#x27;truncatedsvd&#x27;,\n",
       "                                        TruncatedSVD(n_components=200)),\n",
       "                                       (&#x27;randomforestclassifier&#x27;,\n",
       "                                        RandomForestClassifier(n_jobs=-1,\n",
       "                                                               random_state=17))]),\n",
       "             n_jobs=1,\n",
       "             param_grid={&#x27;randomforestclassifier__n_estimators&#x27;: [200, 400,\n",
       "                                                                  600],\n",
       "                         &#x27;truncatedsvd__n_components&#x27;: [100, 200, 300]},\n",
       "             scoring=&#x27;accuracy&#x27;, verbose=2)</pre></div></div></div><div class=\"sk-parallel\"><div class=\"sk-parallel-item\"><div class=\"sk-item\"><div class=\"sk-label-container\"><div class=\"sk-label sk-toggleable\"><input class=\"sk-toggleable__control sk-hidden--visually\" id=\"sk-estimator-id-71\" type=\"checkbox\" ><label for=\"sk-estimator-id-71\" class=\"sk-toggleable__label sk-toggleable__label-arrow\">estimator: Pipeline</label><div class=\"sk-toggleable__content\"><pre>Pipeline(steps=[(&#x27;tfidfvectorizer&#x27;, TfidfVectorizer(max_df=0.3, min_df=5)),\n",
       "                (&#x27;truncatedsvd&#x27;, TruncatedSVD(n_components=200)),\n",
       "                (&#x27;randomforestclassifier&#x27;,\n",
       "                 RandomForestClassifier(n_jobs=-1, random_state=17))])</pre></div></div></div><div class=\"sk-serial\"><div class=\"sk-item\"><div class=\"sk-serial\"><div class=\"sk-item\"><div class=\"sk-estimator sk-toggleable\"><input class=\"sk-toggleable__control sk-hidden--visually\" id=\"sk-estimator-id-72\" type=\"checkbox\" ><label for=\"sk-estimator-id-72\" class=\"sk-toggleable__label sk-toggleable__label-arrow\">TfidfVectorizer</label><div class=\"sk-toggleable__content\"><pre>TfidfVectorizer(max_df=0.3, min_df=5)</pre></div></div></div><div class=\"sk-item\"><div class=\"sk-estimator sk-toggleable\"><input class=\"sk-toggleable__control sk-hidden--visually\" id=\"sk-estimator-id-73\" type=\"checkbox\" ><label for=\"sk-estimator-id-73\" class=\"sk-toggleable__label sk-toggleable__label-arrow\">TruncatedSVD</label><div class=\"sk-toggleable__content\"><pre>TruncatedSVD(n_components=200)</pre></div></div></div><div class=\"sk-item\"><div class=\"sk-estimator sk-toggleable\"><input class=\"sk-toggleable__control sk-hidden--visually\" id=\"sk-estimator-id-74\" type=\"checkbox\" ><label for=\"sk-estimator-id-74\" class=\"sk-toggleable__label sk-toggleable__label-arrow\">RandomForestClassifier</label><div class=\"sk-toggleable__content\"><pre>RandomForestClassifier(n_jobs=-1, random_state=17)</pre></div></div></div></div></div></div></div></div></div></div></div></div>"
      ],
      "text/plain": [
       "GridSearchCV(cv=KFold(n_splits=4, random_state=7, shuffle=True),\n",
       "             estimator=Pipeline(steps=[('tfidfvectorizer',\n",
       "                                        TfidfVectorizer(max_df=0.3, min_df=5)),\n",
       "                                       ('truncatedsvd',\n",
       "                                        TruncatedSVD(n_components=200)),\n",
       "                                       ('randomforestclassifier',\n",
       "                                        RandomForestClassifier(n_jobs=-1,\n",
       "                                                               random_state=17))]),\n",
       "             n_jobs=1,\n",
       "             param_grid={'randomforestclassifier__n_estimators': [200, 400,\n",
       "                                                                  600],\n",
       "                         'truncatedsvd__n_components': [100, 200, 300]},\n",
       "             scoring='accuracy', verbose=2)"
      ]
     },
     "execution_count": 161,
     "metadata": {},
     "output_type": "execute_result"
    }
   ],
   "source": [
    "gcv.fit(X_train, y_train)"
   ]
  },
  {
   "cell_type": "code",
   "execution_count": 162,
   "metadata": {},
   "outputs": [
    {
     "data": {
      "text/html": [
       "<div>\n",
       "<style scoped>\n",
       "    .dataframe tbody tr th:only-of-type {\n",
       "        vertical-align: middle;\n",
       "    }\n",
       "\n",
       "    .dataframe tbody tr th {\n",
       "        vertical-align: top;\n",
       "    }\n",
       "\n",
       "    .dataframe thead th {\n",
       "        text-align: right;\n",
       "    }\n",
       "</style>\n",
       "<table border=\"1\" class=\"dataframe\">\n",
       "  <thead>\n",
       "    <tr style=\"text-align: right;\">\n",
       "      <th></th>\n",
       "      <th>randomforestclassifier__n_estimators</th>\n",
       "      <th>truncatedsvd__n_components</th>\n",
       "      <th>mean_score</th>\n",
       "      <th>std_score</th>\n",
       "      <th>fit_time</th>\n",
       "    </tr>\n",
       "  </thead>\n",
       "  <tbody>\n",
       "    <tr>\n",
       "      <th>0</th>\n",
       "      <td>200</td>\n",
       "      <td>100</td>\n",
       "      <td>0.663683</td>\n",
       "      <td>0.002248</td>\n",
       "      <td>23.624900</td>\n",
       "    </tr>\n",
       "    <tr>\n",
       "      <th>1</th>\n",
       "      <td>200</td>\n",
       "      <td>200</td>\n",
       "      <td>0.666905</td>\n",
       "      <td>0.005276</td>\n",
       "      <td>33.864728</td>\n",
       "    </tr>\n",
       "    <tr>\n",
       "      <th>2</th>\n",
       "      <td>200</td>\n",
       "      <td>300</td>\n",
       "      <td>0.665730</td>\n",
       "      <td>0.005002</td>\n",
       "      <td>42.583262</td>\n",
       "    </tr>\n",
       "    <tr>\n",
       "      <th>3</th>\n",
       "      <td>400</td>\n",
       "      <td>100</td>\n",
       "      <td>0.666778</td>\n",
       "      <td>0.005173</td>\n",
       "      <td>44.216153</td>\n",
       "    </tr>\n",
       "    <tr>\n",
       "      <th>4</th>\n",
       "      <td>400</td>\n",
       "      <td>200</td>\n",
       "      <td>0.670079</td>\n",
       "      <td>0.004522</td>\n",
       "      <td>65.848716</td>\n",
       "    </tr>\n",
       "    <tr>\n",
       "      <th>5</th>\n",
       "      <td>400</td>\n",
       "      <td>300</td>\n",
       "      <td>0.670683</td>\n",
       "      <td>0.004728</td>\n",
       "      <td>87.445178</td>\n",
       "    </tr>\n",
       "    <tr>\n",
       "      <th>6</th>\n",
       "      <td>600</td>\n",
       "      <td>100</td>\n",
       "      <td>0.667190</td>\n",
       "      <td>0.003155</td>\n",
       "      <td>76.166902</td>\n",
       "    </tr>\n",
       "    <tr>\n",
       "      <th>7</th>\n",
       "      <td>600</td>\n",
       "      <td>200</td>\n",
       "      <td>0.670365</td>\n",
       "      <td>0.003747</td>\n",
       "      <td>105.267241</td>\n",
       "    </tr>\n",
       "    <tr>\n",
       "      <th>8</th>\n",
       "      <td>600</td>\n",
       "      <td>300</td>\n",
       "      <td>0.670762</td>\n",
       "      <td>0.005010</td>\n",
       "      <td>129.137028</td>\n",
       "    </tr>\n",
       "  </tbody>\n",
       "</table>\n",
       "</div>"
      ],
      "text/plain": [
       "   randomforestclassifier__n_estimators  truncatedsvd__n_components  \\\n",
       "0                                   200                         100   \n",
       "1                                   200                         200   \n",
       "2                                   200                         300   \n",
       "3                                   400                         100   \n",
       "4                                   400                         200   \n",
       "5                                   400                         300   \n",
       "6                                   600                         100   \n",
       "7                                   600                         200   \n",
       "8                                   600                         300   \n",
       "\n",
       "   mean_score  std_score    fit_time  \n",
       "0    0.663683   0.002248   23.624900  \n",
       "1    0.666905   0.005276   33.864728  \n",
       "2    0.665730   0.005002   42.583262  \n",
       "3    0.666778   0.005173   44.216153  \n",
       "4    0.670079   0.004522   65.848716  \n",
       "5    0.670683   0.004728   87.445178  \n",
       "6    0.667190   0.003155   76.166902  \n",
       "7    0.670365   0.003747  105.267241  \n",
       "8    0.670762   0.005010  129.137028  "
      ]
     },
     "execution_count": 162,
     "metadata": {},
     "output_type": "execute_result"
    }
   ],
   "source": [
    "get_cv_results(gcv)"
   ]
  },
  {
   "cell_type": "code",
   "execution_count": 167,
   "metadata": {},
   "outputs": [
    {
     "data": {
      "text/html": [
       "<style>#sk-container-id-20 {color: black;background-color: white;}#sk-container-id-20 pre{padding: 0;}#sk-container-id-20 div.sk-toggleable {background-color: white;}#sk-container-id-20 label.sk-toggleable__label {cursor: pointer;display: block;width: 100%;margin-bottom: 0;padding: 0.3em;box-sizing: border-box;text-align: center;}#sk-container-id-20 label.sk-toggleable__label-arrow:before {content: \"▸\";float: left;margin-right: 0.25em;color: #696969;}#sk-container-id-20 label.sk-toggleable__label-arrow:hover:before {color: black;}#sk-container-id-20 div.sk-estimator:hover label.sk-toggleable__label-arrow:before {color: black;}#sk-container-id-20 div.sk-toggleable__content {max-height: 0;max-width: 0;overflow: hidden;text-align: left;background-color: #f0f8ff;}#sk-container-id-20 div.sk-toggleable__content pre {margin: 0.2em;color: black;border-radius: 0.25em;background-color: #f0f8ff;}#sk-container-id-20 input.sk-toggleable__control:checked~div.sk-toggleable__content {max-height: 200px;max-width: 100%;overflow: auto;}#sk-container-id-20 input.sk-toggleable__control:checked~label.sk-toggleable__label-arrow:before {content: \"▾\";}#sk-container-id-20 div.sk-estimator input.sk-toggleable__control:checked~label.sk-toggleable__label {background-color: #d4ebff;}#sk-container-id-20 div.sk-label input.sk-toggleable__control:checked~label.sk-toggleable__label {background-color: #d4ebff;}#sk-container-id-20 input.sk-hidden--visually {border: 0;clip: rect(1px 1px 1px 1px);clip: rect(1px, 1px, 1px, 1px);height: 1px;margin: -1px;overflow: hidden;padding: 0;position: absolute;width: 1px;}#sk-container-id-20 div.sk-estimator {font-family: monospace;background-color: #f0f8ff;border: 1px dotted black;border-radius: 0.25em;box-sizing: border-box;margin-bottom: 0.5em;}#sk-container-id-20 div.sk-estimator:hover {background-color: #d4ebff;}#sk-container-id-20 div.sk-parallel-item::after {content: \"\";width: 100%;border-bottom: 1px solid gray;flex-grow: 1;}#sk-container-id-20 div.sk-label:hover label.sk-toggleable__label {background-color: #d4ebff;}#sk-container-id-20 div.sk-serial::before {content: \"\";position: absolute;border-left: 1px solid gray;box-sizing: border-box;top: 0;bottom: 0;left: 50%;z-index: 0;}#sk-container-id-20 div.sk-serial {display: flex;flex-direction: column;align-items: center;background-color: white;padding-right: 0.2em;padding-left: 0.2em;position: relative;}#sk-container-id-20 div.sk-item {position: relative;z-index: 1;}#sk-container-id-20 div.sk-parallel {display: flex;align-items: stretch;justify-content: center;background-color: white;position: relative;}#sk-container-id-20 div.sk-item::before, #sk-container-id-20 div.sk-parallel-item::before {content: \"\";position: absolute;border-left: 1px solid gray;box-sizing: border-box;top: 0;bottom: 0;left: 50%;z-index: -1;}#sk-container-id-20 div.sk-parallel-item {display: flex;flex-direction: column;z-index: 1;position: relative;background-color: white;}#sk-container-id-20 div.sk-parallel-item:first-child::after {align-self: flex-end;width: 50%;}#sk-container-id-20 div.sk-parallel-item:last-child::after {align-self: flex-start;width: 50%;}#sk-container-id-20 div.sk-parallel-item:only-child::after {width: 0;}#sk-container-id-20 div.sk-dashed-wrapped {border: 1px dashed gray;margin: 0 0.4em 0.5em 0.4em;box-sizing: border-box;padding-bottom: 0.4em;background-color: white;}#sk-container-id-20 div.sk-label label {font-family: monospace;font-weight: bold;display: inline-block;line-height: 1.2em;}#sk-container-id-20 div.sk-label-container {text-align: center;}#sk-container-id-20 div.sk-container {/* jupyter's `normalize.less` sets `[hidden] { display: none; }` but bootstrap.min.css set `[hidden] { display: none !important; }` so we also need the `!important` here to be able to override the default hidden behavior on the sphinx rendered scikit-learn.org. See: https://github.com/scikit-learn/scikit-learn/issues/21755 */display: inline-block !important;position: relative;}#sk-container-id-20 div.sk-text-repr-fallback {display: none;}</style><div id=\"sk-container-id-20\" class=\"sk-top-container\"><div class=\"sk-text-repr-fallback\"><pre>Pipeline(steps=[(&#x27;tfidfvectorizer&#x27;, TfidfVectorizer(max_df=0.3, min_df=5)),\n",
       "                (&#x27;truncatedsvd&#x27;, TruncatedSVD(n_components=200)),\n",
       "                (&#x27;randomforestclassifier&#x27;,\n",
       "                 RandomForestClassifier(n_estimators=400, n_jobs=-1,\n",
       "                                        random_state=17))])</pre><b>In a Jupyter environment, please rerun this cell to show the HTML representation or trust the notebook. <br />On GitHub, the HTML representation is unable to render, please try loading this page with nbviewer.org.</b></div><div class=\"sk-container\" hidden><div class=\"sk-item sk-dashed-wrapped\"><div class=\"sk-label-container\"><div class=\"sk-label sk-toggleable\"><input class=\"sk-toggleable__control sk-hidden--visually\" id=\"sk-estimator-id-83\" type=\"checkbox\" ><label for=\"sk-estimator-id-83\" class=\"sk-toggleable__label sk-toggleable__label-arrow\">Pipeline</label><div class=\"sk-toggleable__content\"><pre>Pipeline(steps=[(&#x27;tfidfvectorizer&#x27;, TfidfVectorizer(max_df=0.3, min_df=5)),\n",
       "                (&#x27;truncatedsvd&#x27;, TruncatedSVD(n_components=200)),\n",
       "                (&#x27;randomforestclassifier&#x27;,\n",
       "                 RandomForestClassifier(n_estimators=400, n_jobs=-1,\n",
       "                                        random_state=17))])</pre></div></div></div><div class=\"sk-serial\"><div class=\"sk-item\"><div class=\"sk-estimator sk-toggleable\"><input class=\"sk-toggleable__control sk-hidden--visually\" id=\"sk-estimator-id-84\" type=\"checkbox\" ><label for=\"sk-estimator-id-84\" class=\"sk-toggleable__label sk-toggleable__label-arrow\">TfidfVectorizer</label><div class=\"sk-toggleable__content\"><pre>TfidfVectorizer(max_df=0.3, min_df=5)</pre></div></div></div><div class=\"sk-item\"><div class=\"sk-estimator sk-toggleable\"><input class=\"sk-toggleable__control sk-hidden--visually\" id=\"sk-estimator-id-85\" type=\"checkbox\" ><label for=\"sk-estimator-id-85\" class=\"sk-toggleable__label sk-toggleable__label-arrow\">TruncatedSVD</label><div class=\"sk-toggleable__content\"><pre>TruncatedSVD(n_components=200)</pre></div></div></div><div class=\"sk-item\"><div class=\"sk-estimator sk-toggleable\"><input class=\"sk-toggleable__control sk-hidden--visually\" id=\"sk-estimator-id-86\" type=\"checkbox\" ><label for=\"sk-estimator-id-86\" class=\"sk-toggleable__label sk-toggleable__label-arrow\">RandomForestClassifier</label><div class=\"sk-toggleable__content\"><pre>RandomForestClassifier(n_estimators=400, n_jobs=-1, random_state=17)</pre></div></div></div></div></div></div></div>"
      ],
      "text/plain": [
       "Pipeline(steps=[('tfidfvectorizer', TfidfVectorizer(max_df=0.3, min_df=5)),\n",
       "                ('truncatedsvd', TruncatedSVD(n_components=200)),\n",
       "                ('randomforestclassifier',\n",
       "                 RandomForestClassifier(n_estimators=400, n_jobs=-1,\n",
       "                                        random_state=17))])"
      ]
     },
     "execution_count": 167,
     "metadata": {},
     "output_type": "execute_result"
    }
   ],
   "source": [
    "model_rf = make_pipeline(\n",
    "    TfidfVectorizer(max_df=.3, min_df=5),\n",
    "    TruncatedSVD(n_components=200),\n",
    "    RandomForestClassifier(random_state=17, n_estimators=400, n_jobs=-1)\n",
    ")\n",
    "\n",
    "model_rf.fit(X_train, y_train)"
   ]
  },
  {
   "cell_type": "code",
   "execution_count": 168,
   "metadata": {},
   "outputs": [],
   "source": [
    "predictions_dict = {\n",
    "    \"catboost\": model_cb.predict(X_test).flatten(),\n",
    "    \"logreg\": model_lr.predict(X_test).flatten(),\n",
    "    \"rf\": model_rf.predict(X_test).flatten(),\n",
    "}"
   ]
  },
  {
   "cell_type": "code",
   "execution_count": 169,
   "metadata": {},
   "outputs": [],
   "source": [
    "from sklearn.metrics import accuracy_score, f1_score, classification_report"
   ]
  },
  {
   "cell_type": "code",
   "execution_count": 170,
   "metadata": {},
   "outputs": [],
   "source": [
    "accuracies = {\n",
    "    key: accuracy_score(y_test, value) \n",
    "    for key, value in predictions_dict.items()\n",
    "}"
   ]
  },
  {
   "cell_type": "code",
   "execution_count": 171,
   "metadata": {},
   "outputs": [
    {
     "data": {
      "text/plain": [
       "{'catboost': 0.6819259259259259,\n",
       " 'logreg': 0.7010740740740741,\n",
       " 'rf': 0.6738148148148149}"
      ]
     },
     "execution_count": 171,
     "metadata": {},
     "output_type": "execute_result"
    }
   ],
   "source": [
    "accuracies"
   ]
  },
  {
   "cell_type": "code",
   "execution_count": 173,
   "metadata": {},
   "outputs": [
    {
     "name": "stdout",
     "output_type": "stream",
     "text": [
      "              precision    recall  f1-score   support\n",
      "\n",
      "          -1       0.69      0.67      0.68      9049\n",
      "           0       0.57      0.60      0.59      8990\n",
      "           1       0.79      0.78      0.79      8961\n",
      "\n",
      "    accuracy                           0.68     27000\n",
      "   macro avg       0.68      0.68      0.68     27000\n",
      "weighted avg       0.68      0.68      0.68     27000\n",
      "\n"
     ]
    }
   ],
   "source": [
    "print(classification_report(y_test, predictions_dict['catboost']))"
   ]
  },
  {
   "cell_type": "code",
   "execution_count": 175,
   "metadata": {},
   "outputs": [
    {
     "name": "stdout",
     "output_type": "stream",
     "text": [
      "              precision    recall  f1-score   support\n",
      "\n",
      "          -1       0.70      0.67      0.69      9049\n",
      "           0       0.59      0.63      0.61      8990\n",
      "           1       0.83      0.80      0.81      8961\n",
      "\n",
      "    accuracy                           0.70     27000\n",
      "   macro avg       0.71      0.70      0.70     27000\n",
      "weighted avg       0.71      0.70      0.70     27000\n",
      "\n"
     ]
    }
   ],
   "source": [
    "print(classification_report(y_test, predictions_dict['logreg']))"
   ]
  },
  {
   "cell_type": "code",
   "execution_count": 176,
   "metadata": {},
   "outputs": [
    {
     "name": "stdout",
     "output_type": "stream",
     "text": [
      "              precision    recall  f1-score   support\n",
      "\n",
      "          -1       0.70      0.63      0.66      9049\n",
      "           0       0.56      0.62      0.59      8990\n",
      "           1       0.77      0.77      0.77      8961\n",
      "\n",
      "    accuracy                           0.67     27000\n",
      "   macro avg       0.68      0.67      0.68     27000\n",
      "weighted avg       0.68      0.67      0.68     27000\n",
      "\n"
     ]
    }
   ],
   "source": [
    "print(classification_report(y_test, predictions_dict['rf']))"
   ]
  },
  {
   "cell_type": "code",
   "execution_count": 222,
   "metadata": {},
   "outputs": [],
   "source": [
    "# Final \n",
    "\n",
    "model = model_lr.fit(X, y)"
   ]
  },
  {
   "cell_type": "code",
   "execution_count": 223,
   "metadata": {},
   "outputs": [],
   "source": [
    "reviews = pd.read_csv(\"../data/stg/reviews/moscow_restoraunts.csv\")"
   ]
  },
  {
   "cell_type": "code",
   "execution_count": 224,
   "metadata": {},
   "outputs": [],
   "source": [
    "from src_rest.transformers.utils import clear_texts"
   ]
  },
  {
   "cell_type": "code",
   "execution_count": 225,
   "metadata": {},
   "outputs": [],
   "source": [
    "reviews_sentence = (\n",
    "    reviews.assign(review=lambda x: x.review.str.split('.'))\n",
    "    .explode(\"review\"))"
   ]
  },
  {
   "cell_type": "code",
   "execution_count": 226,
   "metadata": {},
   "outputs": [
    {
     "name": "stderr",
     "output_type": "stream",
     "text": [
      "/Users/17518516/Documents/projects/restorauntcheck/src/src_rest/transformers/utils.py:114: FutureWarning: The default value of regex will change from True to False in a future version.\n",
      "  return texts.str.lower().str.replace(PATTERN, \"\")\n"
     ]
    }
   ],
   "source": [
    "reviews_sentence[\"review_norm\"] = clear_texts(reviews_sentence.review)"
   ]
  },
  {
   "cell_type": "code",
   "execution_count": 227,
   "metadata": {},
   "outputs": [],
   "source": [
    "reviews_sentence[['negative', 'neutral', 'positive']] = (\n",
    "    model.predict_proba(reviews_sentence.review_norm)\n",
    ")\n",
    "\n",
    "reviews_sentence[\"sentiment\"] = (\n",
    "    model.predict(reviews_sentence.review_norm)\n",
    ")"
   ]
  },
  {
   "cell_type": "code",
   "execution_count": 228,
   "metadata": {},
   "outputs": [
    {
     "data": {
      "text/plain": [
       " 0    24992\n",
       "-1     4451\n",
       " 1     3056\n",
       "Name: sentiment, dtype: int64"
      ]
     },
     "execution_count": 228,
     "metadata": {},
     "output_type": "execute_result"
    }
   ],
   "source": [
    "reviews_sentence.sentiment.value_counts()"
   ]
  },
  {
   "cell_type": "code",
   "execution_count": 238,
   "metadata": {},
   "outputs": [
    {
     "data": {
      "text/plain": [
       "' Он остался почти тем же'"
      ]
     },
     "execution_count": 238,
     "metadata": {},
     "output_type": "execute_result"
    }
   ],
   "source": [
    "reviews_sentence.loc[\n",
    "    reviews_sentence.sentiment == -1, \"review\"\n",
    "].iloc[78]"
   ]
  },
  {
   "cell_type": "code",
   "execution_count": 244,
   "metadata": {},
   "outputs": [],
   "source": [
    "reviews_sentence['sentiment_prob'] = (\n",
    "    reviews_sentence[['negative', 'neutral', 'positive']] * np.array([-1, 0, 1])).sum(axis=1)"
   ]
  },
  {
   "cell_type": "code",
   "execution_count": 287,
   "metadata": {},
   "outputs": [],
   "source": [
    "reviews_sentence['sentiment_hc'] = 0\n",
    "reviews_sentence['sentiment_hc'] = reviews_sentence['sentiment_hc'].where(\n",
    "    reviews_sentence['sentiment'] == 0, reviews_sentence['positive'] - reviews_sentence['negative']\n",
    ")"
   ]
  },
  {
   "cell_type": "code",
   "execution_count": 246,
   "metadata": {},
   "outputs": [
    {
     "data": {
      "text/plain": [
       "<AxesSubplot:>"
      ]
     },
     "execution_count": 246,
     "metadata": {},
     "output_type": "execute_result"
    },
    {
     "data": {
      "image/png": "[encoded data removed]",
      "text/plain": [
       "<Figure size 640x480 with 1 Axes>"
      ]
     },
     "metadata": {},
     "output_type": "display_data"
    }
   ],
   "source": [
    "reviews_sentence.sentiment_prob.hist()"
   ]
  },
  {
   "cell_type": "code",
   "execution_count": 248,
   "metadata": {},
   "outputs": [
    {
     "data": {
      "text/plain": [
       "count    32499.000000\n",
       "mean        -0.080135\n",
       "std          0.240675\n",
       "min         -0.927806\n",
       "25%         -0.237219\n",
       "50%         -0.065660\n",
       "75%         -0.009533\n",
       "max          0.999862\n",
       "Name: sentiment_prob, dtype: float64"
      ]
     },
     "execution_count": 248,
     "metadata": {},
     "output_type": "execute_result"
    }
   ],
   "source": [
    "reviews_sentence.sentiment_prob.describe()"
   ]
  },
  {
   "cell_type": "code",
   "execution_count": 263,
   "metadata": {},
   "outputs": [
    {
     "data": {
      "text/plain": [
       "'Лече де Тигре, 490 ₽«Лече де Тигре» (490 руб'"
      ]
     },
     "execution_count": 263,
     "metadata": {},
     "output_type": "execute_result"
    }
   ],
   "source": [
    "reviews_sentence.loc[\n",
    "    reviews_sentence.sentiment_prob < -.25,\n",
    "    \"review\"\n",
    "].iloc[2988]"
   ]
  },
  {
   "cell_type": "code",
   "execution_count": 269,
   "metadata": {},
   "outputs": [
    {
     "data": {
      "text/plain": [
       "negative    0.41490\n",
       "neutral     0.42321\n",
       "positive    0.16189\n",
       "Name: 55, dtype: float64"
      ]
     },
     "execution_count": 269,
     "metadata": {},
     "output_type": "execute_result"
    }
   ],
   "source": [
    "reviews_sentence.loc[\n",
    "    reviews_sentence.sentiment_prob < -.25,\n",
    "    ['negative', 'neutral', 'positive']\n",
    "].iloc[999]\n",
    "\n"
   ]
  },
  {
   "cell_type": "code",
   "execution_count": 288,
   "metadata": {},
   "outputs": [
    {
     "data": {
      "text/plain": [
       "count    32499.000000\n",
       "mean        -0.014488\n",
       "std          0.213584\n",
       "min         -0.927806\n",
       "25%          0.000000\n",
       "50%          0.000000\n",
       "75%          0.000000\n",
       "max          0.999862\n",
       "Name: sentiment_hc, dtype: float64"
      ]
     },
     "execution_count": 288,
     "metadata": {},
     "output_type": "execute_result"
    }
   ],
   "source": [
    "reviews_sentence['sentiment_hc'].describe()"
   ]
  },
  {
   "cell_type": "code",
   "execution_count": 289,
   "metadata": {},
   "outputs": [
    {
     "data": {
      "text/plain": [
       " 0    24992\n",
       "-1     4451\n",
       " 1     3056\n",
       "Name: sentiment, dtype: int64"
      ]
     },
     "execution_count": 289,
     "metadata": {},
     "output_type": "execute_result"
    }
   ],
   "source": [
    "reviews_sentence.sentiment.value_counts()"
   ]
  },
  {
   "cell_type": "code",
   "execution_count": 309,
   "metadata": {},
   "outputs": [
    {
     "data": {
      "text/plain": [
       "' Кальмары мягкие, аппетитные'"
      ]
     },
     "execution_count": 309,
     "metadata": {},
     "output_type": "execute_result"
    }
   ],
   "source": [
    "reviews_sentence.loc[\n",
    "    reviews_sentence.sentiment_hc > .25,\n",
    "    \"review\"\n",
    "].iloc[984]"
   ]
  },
  {
   "cell_type": "code",
   "execution_count": 285,
   "metadata": {},
   "outputs": [
    {
     "data": {
      "text/plain": [
       "negative    0.41490\n",
       "neutral     0.42321\n",
       "positive    0.16189\n",
       "Name: 140, dtype: float64"
      ]
     },
     "execution_count": 285,
     "metadata": {},
     "output_type": "execute_result"
    }
   ],
   "source": [
    "reviews_sentence.loc[\n",
    "    reviews_sentence.sentiment_hc < -.25,\n",
    "    ['negative', 'neutral', 'positive']\n",
    "].iloc[1399]"
   ]
  },
  {
   "cell_type": "code",
   "execution_count": 286,
   "metadata": {},
   "outputs": [
    {
     "data": {
      "text/plain": [
       " 0.000000    7507\n",
       "-0.016829    2711\n",
       "-0.253010    1586\n",
       "-0.022551     241\n",
       "-0.077840     171\n",
       "             ... \n",
       "-0.113129       1\n",
       "-0.133526       1\n",
       "-0.164728       1\n",
       "-0.219682       1\n",
       "-0.127649       1\n",
       "Name: sentiment_hc, Length: 15715, dtype: int64"
      ]
     },
     "execution_count": 286,
     "metadata": {},
     "output_type": "execute_result"
    }
   ],
   "source": [
    "reviews_sentence.sentiment_hc.value_counts()"
   ]
  },
  {
   "cell_type": "code",
   "execution_count": null,
   "metadata": {},
   "outputs": [],
   "source": []
  }
 ],
 "metadata": {
  "interpreter": {
   "hash": "f24a6e0d93fe0a55285c6b9d9948eb5f7b834c33dfd9558071a96849217f8064"
  },
  "kernelspec": {
   "display_name": "Python 3.8.5 ('src-rest-uVfVgev0-py3.8')",
   "language": "python",
   "name": "python3"
  },
  "language_info": {
   "codemirror_mode": {
    "name": "ipython",
    "version": 3
   },
   "file_extension": ".py",
   "mimetype": "text/x-python",
   "name": "python",
   "nbconvert_exporter": "python",
   "pygments_lexer": "ipython3",
   "version": "3.8.5"
  },
  "orig_nbformat": 4
 },
 "nbformat": 4,
 "nbformat_minor": 2
}
