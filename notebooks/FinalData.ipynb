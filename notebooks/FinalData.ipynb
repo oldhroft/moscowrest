{
 "cells": [
  {
   "cell_type": "code",
   "execution_count": 1,
   "metadata": {},
   "outputs": [],
   "source": [
    "import pandas as pd\n",
    "import numpy as np\n",
    "\n",
    "import matplotlib.pyplot as plt"
   ]
  },
  {
   "cell_type": "code",
   "execution_count": 6,
   "metadata": {},
   "outputs": [],
   "source": [
    "df_md = pd.read_csv(\"../data/pa/mosdata_dataset1903.csv\")\n",
    "df_mr = pd.read_csv(\"../data/pa/moscow_restoraunts.csv\")\n",
    "\n",
    "df_named_aspects = pd.read_csv(\"../data/pa/named_aspects.csv\")\n",
    "df_aspects = pd.read_csv(\"../data/stg/aspects/moscow_restoraunts.csv\")"
   ]
  },
  {
   "cell_type": "code",
   "execution_count": 7,
   "metadata": {},
   "outputs": [
    {
     "data": {
      "text/html": [
       "<div>\n",
       "<style scoped>\n",
       "    .dataframe tbody tr th:only-of-type {\n",
       "        vertical-align: middle;\n",
       "    }\n",
       "\n",
       "    .dataframe tbody tr th {\n",
       "        vertical-align: top;\n",
       "    }\n",
       "\n",
       "    .dataframe thead th {\n",
       "        text-align: right;\n",
       "    }\n",
       "</style>\n",
       "<table border=\"1\" class=\"dataframe\">\n",
       "  <thead>\n",
       "    <tr style=\"text-align: right;\">\n",
       "      <th></th>\n",
       "      <th>global_id</th>\n",
       "      <th>Number</th>\n",
       "      <th>Name</th>\n",
       "      <th>IsNetObject</th>\n",
       "      <th>OperatingCompany</th>\n",
       "      <th>TypeObject</th>\n",
       "      <th>AdmArea</th>\n",
       "      <th>District</th>\n",
       "      <th>Address</th>\n",
       "      <th>PublicPhone</th>\n",
       "      <th>...</th>\n",
       "      <th>y_coord</th>\n",
       "      <th>StreetType</th>\n",
       "      <th>StreetName</th>\n",
       "      <th>HouseType</th>\n",
       "      <th>HouseName</th>\n",
       "      <th>BuildingType</th>\n",
       "      <th>BuildingName</th>\n",
       "      <th>Name_norm</th>\n",
       "      <th>OperatingCompany_count</th>\n",
       "      <th>Name_norm_count</th>\n",
       "    </tr>\n",
       "  </thead>\n",
       "  <tbody>\n",
       "    <tr>\n",
       "      <th>0</th>\n",
       "      <td>2302690498</td>\n",
       "      <td>2</td>\n",
       "      <td>Кофе с собой Клуб выпускников МГУ</td>\n",
       "      <td>нет</td>\n",
       "      <td>NaN</td>\n",
       "      <td>кафе</td>\n",
       "      <td>Центральный административный округ</td>\n",
       "      <td>Басманный район</td>\n",
       "      <td>Российская Федерация, город Москва, внутригоро...</td>\n",
       "      <td>['(929) 567-89-91']</td>\n",
       "      <td>...</td>\n",
       "      <td>55.765170</td>\n",
       "      <td>улица</td>\n",
       "      <td>садовая-черногрязская</td>\n",
       "      <td>дом</td>\n",
       "      <td>16-18</td>\n",
       "      <td>строение</td>\n",
       "      <td>1</td>\n",
       "      <td>кофе с собой клуб выпускников мгу</td>\n",
       "      <td>NaN</td>\n",
       "      <td>1</td>\n",
       "    </tr>\n",
       "    <tr>\n",
       "      <th>1</th>\n",
       "      <td>2302691541</td>\n",
       "      <td>4</td>\n",
       "      <td>Узбекское кафе</td>\n",
       "      <td>нет</td>\n",
       "      <td>NaN</td>\n",
       "      <td>кафе</td>\n",
       "      <td>Северный административный округ</td>\n",
       "      <td>район Аэропорт</td>\n",
       "      <td>город Москва, Часовая улица, дом 16, строение 18</td>\n",
       "      <td>NaN</td>\n",
       "      <td>...</td>\n",
       "      <td>55.808552</td>\n",
       "      <td>улица</td>\n",
       "      <td>часовая</td>\n",
       "      <td>дом</td>\n",
       "      <td>16</td>\n",
       "      <td>строение</td>\n",
       "      <td>18</td>\n",
       "      <td>узбекское кафе</td>\n",
       "      <td>NaN</td>\n",
       "      <td>2</td>\n",
       "    </tr>\n",
       "    <tr>\n",
       "      <th>2</th>\n",
       "      <td>2302692852</td>\n",
       "      <td>5</td>\n",
       "      <td>Скрепка</td>\n",
       "      <td>нет</td>\n",
       "      <td>NaN</td>\n",
       "      <td>кафе</td>\n",
       "      <td>Центральный административный округ</td>\n",
       "      <td>Басманный район</td>\n",
       "      <td>Российская Федерация, город Москва, внутригоро...</td>\n",
       "      <td>NaN</td>\n",
       "      <td>...</td>\n",
       "      <td>55.758780</td>\n",
       "      <td>улица</td>\n",
       "      <td>покровка</td>\n",
       "      <td>дом</td>\n",
       "      <td>3/7</td>\n",
       "      <td>строение</td>\n",
       "      <td>1г</td>\n",
       "      <td>скрепка</td>\n",
       "      <td>NaN</td>\n",
       "      <td>1</td>\n",
       "    </tr>\n",
       "    <tr>\n",
       "      <th>3</th>\n",
       "      <td>2302693205</td>\n",
       "      <td>6</td>\n",
       "      <td>Плов</td>\n",
       "      <td>нет</td>\n",
       "      <td>NaN</td>\n",
       "      <td>кафе</td>\n",
       "      <td>Северо-Западный административный округ</td>\n",
       "      <td>район Митино</td>\n",
       "      <td>город Москва, Пятницкое шоссе, дом 18</td>\n",
       "      <td>['(495) 794-45-50']</td>\n",
       "      <td>...</td>\n",
       "      <td>55.844298</td>\n",
       "      <td>шоссе</td>\n",
       "      <td>пятницкое</td>\n",
       "      <td>дом</td>\n",
       "      <td>18</td>\n",
       "      <td>NaN</td>\n",
       "      <td>NaN</td>\n",
       "      <td>плов</td>\n",
       "      <td>NaN</td>\n",
       "      <td>4</td>\n",
       "    </tr>\n",
       "    <tr>\n",
       "      <th>4</th>\n",
       "      <td>2302693627</td>\n",
       "      <td>7</td>\n",
       "      <td>Кафе «LAZZAT»</td>\n",
       "      <td>нет</td>\n",
       "      <td>NaN</td>\n",
       "      <td>кафе</td>\n",
       "      <td>Южный административный округ</td>\n",
       "      <td>район Чертаново Южное</td>\n",
       "      <td>Российская Федерация, город Москва, внутригоро...</td>\n",
       "      <td>['(925) 146-82-29']</td>\n",
       "      <td>...</td>\n",
       "      <td>55.578664</td>\n",
       "      <td>шоссе</td>\n",
       "      <td>варшавское</td>\n",
       "      <td>дом</td>\n",
       "      <td>170г</td>\n",
       "      <td>строение</td>\n",
       "      <td>22</td>\n",
       "      <td>lazzat</td>\n",
       "      <td>NaN</td>\n",
       "      <td>1</td>\n",
       "    </tr>\n",
       "  </tbody>\n",
       "</table>\n",
       "<p>5 rows × 23 columns</p>\n",
       "</div>"
      ],
      "text/plain": [
       "    global_id  Number                               Name IsNetObject  \\\n",
       "0  2302690498       2  Кофе с собой Клуб выпускников МГУ         нет   \n",
       "1  2302691541       4                     Узбекское кафе         нет   \n",
       "2  2302692852       5                            Скрепка         нет   \n",
       "3  2302693205       6                               Плов         нет   \n",
       "4  2302693627       7                      Кафе «LAZZAT»         нет   \n",
       "\n",
       "  OperatingCompany TypeObject                                 AdmArea  \\\n",
       "0              NaN       кафе      Центральный административный округ   \n",
       "1              NaN       кафе         Северный административный округ   \n",
       "2              NaN       кафе      Центральный административный округ   \n",
       "3              NaN       кафе  Северо-Западный административный округ   \n",
       "4              NaN       кафе            Южный административный округ   \n",
       "\n",
       "                District                                            Address  \\\n",
       "0        Басманный район  Российская Федерация, город Москва, внутригоро...   \n",
       "1         район Аэропорт   город Москва, Часовая улица, дом 16, строение 18   \n",
       "2        Басманный район  Российская Федерация, город Москва, внутригоро...   \n",
       "3           район Митино              город Москва, Пятницкое шоссе, дом 18   \n",
       "4  район Чертаново Южное  Российская Федерация, город Москва, внутригоро...   \n",
       "\n",
       "           PublicPhone  ...    y_coord StreetType             StreetName  \\\n",
       "0  ['(929) 567-89-91']  ...  55.765170      улица  садовая-черногрязская   \n",
       "1                  NaN  ...  55.808552      улица                часовая   \n",
       "2                  NaN  ...  55.758780      улица               покровка   \n",
       "3  ['(495) 794-45-50']  ...  55.844298      шоссе              пятницкое   \n",
       "4  ['(925) 146-82-29']  ...  55.578664      шоссе             варшавское   \n",
       "\n",
       "   HouseType HouseName BuildingType BuildingName  \\\n",
       "0        дом     16-18     строение            1   \n",
       "1        дом        16     строение           18   \n",
       "2        дом       3/7     строение           1г   \n",
       "3        дом        18          NaN          NaN   \n",
       "4        дом      170г     строение           22   \n",
       "\n",
       "                           Name_norm OperatingCompany_count Name_norm_count  \n",
       "0  кофе с собой клуб выпускников мгу                    NaN               1  \n",
       "1                     узбекское кафе                    NaN               2  \n",
       "2                            скрепка                    NaN               1  \n",
       "3                               плов                    NaN               4  \n",
       "4                             lazzat                    NaN               1  \n",
       "\n",
       "[5 rows x 23 columns]"
      ]
     },
     "execution_count": 7,
     "metadata": {},
     "output_type": "execute_result"
    }
   ],
   "source": [
    "df_md.head()"
   ]
  },
  {
   "cell_type": "code",
   "execution_count": 8,
   "metadata": {},
   "outputs": [
    {
     "data": {
      "text/html": [
       "<div>\n",
       "<style scoped>\n",
       "    .dataframe tbody tr th:only-of-type {\n",
       "        vertical-align: middle;\n",
       "    }\n",
       "\n",
       "    .dataframe tbody tr th {\n",
       "        vertical-align: top;\n",
       "    }\n",
       "\n",
       "    .dataframe thead th {\n",
       "        text-align: right;\n",
       "    }\n",
       "</style>\n",
       "<table border=\"1\" class=\"dataframe\">\n",
       "  <thead>\n",
       "    <tr style=\"text-align: right;\">\n",
       "      <th></th>\n",
       "      <th>url</th>\n",
       "      <th>dttm</th>\n",
       "      <th>fname</th>\n",
       "      <th>title</th>\n",
       "      <th>rating</th>\n",
       "      <th>cuisine</th>\n",
       "      <th>phone</th>\n",
       "      <th>city</th>\n",
       "      <th>address</th>\n",
       "      <th>x_coord</th>\n",
       "      <th>y_coord</th>\n",
       "      <th>avg_check</th>\n",
       "      <th>opening_hours</th>\n",
       "      <th>street_address</th>\n",
       "      <th>street_locality</th>\n",
       "      <th>global_id</th>\n",
       "    </tr>\n",
       "  </thead>\n",
       "  <tbody>\n",
       "    <tr>\n",
       "      <th>0</th>\n",
       "      <td>https://www.moscow-restaurants.ru/restaurants/...</td>\n",
       "      <td>2022-09-16 13:46:00</td>\n",
       "      <td>chunk_60fea34fbfe231cf3e47ac5777f0ca213014f11c...</td>\n",
       "      <td>Бакинский бульвар на Чертановской</td>\n",
       "      <td>0</td>\n",
       "      <td>Азербайджанская кухня</td>\n",
       "      <td>(495) 940 93 98</td>\n",
       "      <td>Москва</td>\n",
       "      <td>Балаклавский просп., 11а</td>\n",
       "      <td>37.593686</td>\n",
       "      <td>55.641696</td>\n",
       "      <td>1500-2500 ₽</td>\n",
       "      <td>круглосуточно</td>\n",
       "      <td>Балаклавский просп., 11а</td>\n",
       "      <td>NaN</td>\n",
       "      <td>637547938</td>\n",
       "    </tr>\n",
       "    <tr>\n",
       "      <th>1</th>\n",
       "      <td>https://www.moscow-restaurants.ru/restaurants/...</td>\n",
       "      <td>2022-09-16 13:45:59</td>\n",
       "      <td>chunk_8dcb356425dcd7e9540536a27a259bde7325ef27...</td>\n",
       "      <td>Martinez Bar</td>\n",
       "      <td>0</td>\n",
       "      <td>Европейская кухня</td>\n",
       "      <td>(495) 760 81 92</td>\n",
       "      <td>Москва</td>\n",
       "      <td>Сретенка, 1</td>\n",
       "      <td>37.630544</td>\n",
       "      <td>55.766532</td>\n",
       "      <td>1500-2500 ₽</td>\n",
       "      <td>пн-чт</td>\n",
       "      <td>Сретенка, 1</td>\n",
       "      <td>NaN</td>\n",
       "      <td>637548684</td>\n",
       "    </tr>\n",
       "    <tr>\n",
       "      <th>2</th>\n",
       "      <td>https://www.moscow-restaurants.ru/restaurants/...</td>\n",
       "      <td>2022-09-16 13:45:57</td>\n",
       "      <td>chunk_298d227af3e2eb5e44b36343860bf70816bf0d66...</td>\n",
       "      <td>Марокко</td>\n",
       "      <td>0</td>\n",
       "      <td>Марокканская кухня</td>\n",
       "      <td>(495) 621 06 54</td>\n",
       "      <td>Москва</td>\n",
       "      <td>Петровка, 17, стр. 2</td>\n",
       "      <td>37.615416</td>\n",
       "      <td>55.764121</td>\n",
       "      <td>&lt;1500 ₽</td>\n",
       "      <td>пн-вс 10.00–23.00</td>\n",
       "      <td>Петровка, 17, стр. 2</td>\n",
       "      <td>NaN</td>\n",
       "      <td>637421319</td>\n",
       "    </tr>\n",
       "    <tr>\n",
       "      <th>3</th>\n",
       "      <td>https://www.moscow-restaurants.ru/restaurants/...</td>\n",
       "      <td>2022-09-16 13:45:58</td>\n",
       "      <td>chunk_baf69ba05539dbdefe78ad7365d5e4112f34bd70...</td>\n",
       "      <td>Подъезд</td>\n",
       "      <td>0</td>\n",
       "      <td>Итальянская кухня</td>\n",
       "      <td>(495) 318 68 18</td>\n",
       "      <td>Москва</td>\n",
       "      <td>Болотниковская, 21, стр. 2</td>\n",
       "      <td>37.597243</td>\n",
       "      <td>55.656737</td>\n",
       "      <td>&lt;1500 ₽</td>\n",
       "      <td>пн-чт</td>\n",
       "      <td>Болотниковская, 21, стр. 2</td>\n",
       "      <td>NaN</td>\n",
       "      <td>637498408</td>\n",
       "    </tr>\n",
       "    <tr>\n",
       "      <th>4</th>\n",
       "      <td>https://www.moscow-restaurants.ru/restaurants/...</td>\n",
       "      <td>2022-09-16 13:45:59</td>\n",
       "      <td>chunk_07cd7d34740e29c57386678b5eeadbb756a1c673...</td>\n",
       "      <td>Хаджурао</td>\n",
       "      <td>4</td>\n",
       "      <td>Индийская кухня</td>\n",
       "      <td>(499) 256-72-02</td>\n",
       "      <td>Москва</td>\n",
       "      <td>Шмитовский пр., 14</td>\n",
       "      <td>37.550962</td>\n",
       "      <td>55.758418</td>\n",
       "      <td>1500-2500 ₽</td>\n",
       "      <td>пн-вс 12.00–23.00</td>\n",
       "      <td>Шмитовский пр., 14</td>\n",
       "      <td>NaN</td>\n",
       "      <td>637464172</td>\n",
       "    </tr>\n",
       "  </tbody>\n",
       "</table>\n",
       "</div>"
      ],
      "text/plain": [
       "                                                 url                 dttm  \\\n",
       "0  https://www.moscow-restaurants.ru/restaurants/...  2022-09-16 13:46:00   \n",
       "1  https://www.moscow-restaurants.ru/restaurants/...  2022-09-16 13:45:59   \n",
       "2  https://www.moscow-restaurants.ru/restaurants/...  2022-09-16 13:45:57   \n",
       "3  https://www.moscow-restaurants.ru/restaurants/...  2022-09-16 13:45:58   \n",
       "4  https://www.moscow-restaurants.ru/restaurants/...  2022-09-16 13:45:59   \n",
       "\n",
       "                                               fname  \\\n",
       "0  chunk_60fea34fbfe231cf3e47ac5777f0ca213014f11c...   \n",
       "1  chunk_8dcb356425dcd7e9540536a27a259bde7325ef27...   \n",
       "2  chunk_298d227af3e2eb5e44b36343860bf70816bf0d66...   \n",
       "3  chunk_baf69ba05539dbdefe78ad7365d5e4112f34bd70...   \n",
       "4  chunk_07cd7d34740e29c57386678b5eeadbb756a1c673...   \n",
       "\n",
       "                               title  rating                cuisine  \\\n",
       "0  Бакинский бульвар на Чертановской       0  Азербайджанская кухня   \n",
       "1                       Martinez Bar       0      Европейская кухня   \n",
       "2                            Марокко       0     Марокканская кухня   \n",
       "3                            Подъезд       0      Итальянская кухня   \n",
       "4                           Хаджурао       4        Индийская кухня   \n",
       "\n",
       "             phone    city                     address    x_coord    y_coord  \\\n",
       "0  (495) 940 93 98  Москва    Балаклавский просп., 11а  37.593686  55.641696   \n",
       "1  (495) 760 81 92  Москва                 Сретенка, 1  37.630544  55.766532   \n",
       "2  (495) 621 06 54  Москва        Петровка, 17, стр. 2  37.615416  55.764121   \n",
       "3  (495) 318 68 18  Москва  Болотниковская, 21, стр. 2  37.597243  55.656737   \n",
       "4  (499) 256-72-02  Москва          Шмитовский пр., 14  37.550962  55.758418   \n",
       "\n",
       "     avg_check      opening_hours              street_address  \\\n",
       "0  1500-2500 ₽      круглосуточно    Балаклавский просп., 11а   \n",
       "1  1500-2500 ₽              пн-чт                 Сретенка, 1   \n",
       "2      <1500 ₽  пн-вс 10.00–23.00        Петровка, 17, стр. 2   \n",
       "3      <1500 ₽              пн-чт  Болотниковская, 21, стр. 2   \n",
       "4  1500-2500 ₽  пн-вс 12.00–23.00          Шмитовский пр., 14   \n",
       "\n",
       "   street_locality  global_id  \n",
       "0              NaN  637547938  \n",
       "1              NaN  637548684  \n",
       "2              NaN  637421319  \n",
       "3              NaN  637498408  \n",
       "4              NaN  637464172  "
      ]
     },
     "execution_count": 8,
     "metadata": {},
     "output_type": "execute_result"
    }
   ],
   "source": [
    "df_mr.head()"
   ]
  },
  {
   "cell_type": "code",
   "execution_count": 11,
   "metadata": {},
   "outputs": [
    {
     "data": {
      "text/plain": [
       "Index(['global_id', 'Number', 'Name', 'IsNetObject', 'OperatingCompany',\n",
       "       'TypeObject', 'AdmArea', 'District', 'Address', 'PublicPhone',\n",
       "       'SeatsCount', 'SocialPrivileges', 'x_coord', 'y_coord', 'StreetType',\n",
       "       'StreetName', 'HouseType', 'HouseName', 'BuildingType', 'BuildingName',\n",
       "       'Name_norm', 'OperatingCompany_count', 'Name_norm_count'],\n",
       "      dtype='object')"
      ]
     },
     "execution_count": 11,
     "metadata": {},
     "output_type": "execute_result"
    }
   ],
   "source": [
    "df_md.columns"
   ]
  },
  {
   "cell_type": "code",
   "execution_count": 12,
   "metadata": {},
   "outputs": [
    {
     "data": {
      "text/plain": [
       "Index(['url', 'dttm', 'fname', 'title', 'rating', 'cuisine', 'phone', 'city',\n",
       "       'address', 'x_coord', 'y_coord', 'avg_check', 'opening_hours',\n",
       "       'street_address', 'street_locality', 'global_id'],\n",
       "      dtype='object')"
      ]
     },
     "execution_count": 12,
     "metadata": {},
     "output_type": "execute_result"
    }
   ],
   "source": [
    "df_mr.columns"
   ]
  },
  {
   "cell_type": "code",
   "execution_count": 21,
   "metadata": {},
   "outputs": [],
   "source": [
    "mr_columns = [\n",
    "    \"url\", \"cuisine\", \"phone\", \"avg_check\", \"global_id\",\n",
    "    \"opening_hours\"\n",
    "]\n",
    "\n",
    "md_columns = [\n",
    "    \"global_id\", \"Name\", \"Address\", \"SeatsCount\",\n",
    "    \"SocialPrivileges\", \"x_coord\", \"y_coord\"\n",
    "]"
   ]
  },
  {
   "cell_type": "code",
   "execution_count": 49,
   "metadata": {},
   "outputs": [],
   "source": [
    "df = df_md[md_columns].merge(df_mr[mr_columns], how=\"inner\", on=\"global_id\")"
   ]
  },
  {
   "cell_type": "code",
   "execution_count": 50,
   "metadata": {},
   "outputs": [],
   "source": [
    "rating = df_aspects.groupby(\"global_id\", as_index=False).rating.mean()"
   ]
  },
  {
   "cell_type": "code",
   "execution_count": 51,
   "metadata": {},
   "outputs": [
    {
     "data": {
      "text/plain": [
       "<AxesSubplot:>"
      ]
     },
     "execution_count": 51,
     "metadata": {},
     "output_type": "execute_result"
    },
    {
     "data": {
      "image/png": "[encoded data removed]",
      "text/plain": [
       "<Figure size 640x480 with 1 Axes>"
      ]
     },
     "metadata": {},
     "output_type": "display_data"
    }
   ],
   "source": [
    "rating.rating.value_counts().sort_index().plot.bar()"
   ]
  },
  {
   "cell_type": "code",
   "execution_count": 52,
   "metadata": {},
   "outputs": [],
   "source": [
    "rating[\"rating_scale\"] = scale(rating.rating)"
   ]
  },
  {
   "cell_type": "code",
   "execution_count": 53,
   "metadata": {},
   "outputs": [],
   "source": [
    "from scipy.stats import boxcox"
   ]
  },
  {
   "cell_type": "code",
   "execution_count": 60,
   "metadata": {},
   "outputs": [
    {
     "name": "stdout",
     "output_type": "stream",
     "text": [
      "1.4178180371275673\n"
     ]
    }
   ],
   "source": [
    "rating[\"rating_boxcox\"], lmbda = boxcox(rating.rating)\n",
    "rating[\"rating_boxcox_scaled\"] = scale(rating.rating_boxcox)\n",
    "print(lmbda)"
   ]
  },
  {
   "cell_type": "code",
   "execution_count": 61,
   "metadata": {},
   "outputs": [
    {
     "data": {
      "text/plain": [
       "<AxesSubplot:>"
      ]
     },
     "execution_count": 61,
     "metadata": {},
     "output_type": "execute_result"
    },
    {
     "data": {
      "image/png": "[encoded data removed]",
      "text/plain": [
       "<Figure size 640x480 with 1 Axes>"
      ]
     },
     "metadata": {},
     "output_type": "display_data"
    }
   ],
   "source": [
    "rating.rating.hist()"
   ]
  },
  {
   "cell_type": "code",
   "execution_count": 62,
   "metadata": {},
   "outputs": [
    {
     "data": {
      "text/plain": [
       "<AxesSubplot:>"
      ]
     },
     "execution_count": 62,
     "metadata": {},
     "output_type": "execute_result"
    },
    {
     "data": {
      "image/png": "[encoded data removed]",
      "text/plain": [
       "<Figure size 640x480 with 1 Axes>"
      ]
     },
     "metadata": {},
     "output_type": "display_data"
    }
   ],
   "source": [
    "rating.rating_scale.hist()"
   ]
  },
  {
   "cell_type": "code",
   "execution_count": 63,
   "metadata": {},
   "outputs": [
    {
     "data": {
      "text/plain": [
       "<AxesSubplot:>"
      ]
     },
     "execution_count": 63,
     "metadata": {},
     "output_type": "execute_result"
    },
    {
     "data": {
      "image/png": "[encoded data removed]",
      "text/plain": [
       "<Figure size 640x480 with 1 Axes>"
      ]
     },
     "metadata": {},
     "output_type": "display_data"
    }
   ],
   "source": [
    "rating.rating_boxcox_scaled.hist()"
   ]
  },
  {
   "cell_type": "code",
   "execution_count": 64,
   "metadata": {},
   "outputs": [],
   "source": [
    "df = df.merge(rating[[\"global_id\", \"rating_boxcox_scaled\"]], how=\"left\", on=\"global_id\")"
   ]
  },
  {
   "cell_type": "code",
   "execution_count": 66,
   "metadata": {},
   "outputs": [
    {
     "data": {
      "text/plain": [
       "True     531\n",
       "False    446\n",
       "Name: rating_boxcox_scaled, dtype: int64"
      ]
     },
     "execution_count": 66,
     "metadata": {},
     "output_type": "execute_result"
    }
   ],
   "source": [
    "df.rating_boxcox_scaled.isna().value_counts(dropna=False)"
   ]
  },
  {
   "cell_type": "code",
   "execution_count": 68,
   "metadata": {},
   "outputs": [],
   "source": [
    "df.rating_boxcox_scaled = df.rating_boxcox_scaled.fillna(0)"
   ]
  },
  {
   "cell_type": "code",
   "execution_count": 69,
   "metadata": {},
   "outputs": [
    {
     "data": {
      "text/html": [
       "<div>\n",
       "<style scoped>\n",
       "    .dataframe tbody tr th:only-of-type {\n",
       "        vertical-align: middle;\n",
       "    }\n",
       "\n",
       "    .dataframe tbody tr th {\n",
       "        vertical-align: top;\n",
       "    }\n",
       "\n",
       "    .dataframe thead th {\n",
       "        text-align: right;\n",
       "    }\n",
       "</style>\n",
       "<table border=\"1\" class=\"dataframe\">\n",
       "  <thead>\n",
       "    <tr style=\"text-align: right;\">\n",
       "      <th></th>\n",
       "      <th>global_id</th>\n",
       "      <th>aspect</th>\n",
       "      <th>value</th>\n",
       "      <th>sentiment</th>\n",
       "      <th>count</th>\n",
       "    </tr>\n",
       "  </thead>\n",
       "  <tbody>\n",
       "    <tr>\n",
       "      <th>0</th>\n",
       "      <td>637378788</td>\n",
       "      <td>dish</td>\n",
       "      <td>бургер</td>\n",
       "      <td>0.014207</td>\n",
       "      <td>5</td>\n",
       "    </tr>\n",
       "    <tr>\n",
       "      <th>1</th>\n",
       "      <td>637378788</td>\n",
       "      <td>dish</td>\n",
       "      <td>котлета</td>\n",
       "      <td>0.028585</td>\n",
       "      <td>8</td>\n",
       "    </tr>\n",
       "    <tr>\n",
       "      <th>2</th>\n",
       "      <td>637378788</td>\n",
       "      <td>dish</td>\n",
       "      <td>креветка</td>\n",
       "      <td>0.005324</td>\n",
       "      <td>8</td>\n",
       "    </tr>\n",
       "    <tr>\n",
       "      <th>3</th>\n",
       "      <td>637378788</td>\n",
       "      <td>dish</td>\n",
       "      <td>пиво</td>\n",
       "      <td>0.020495</td>\n",
       "      <td>2</td>\n",
       "    </tr>\n",
       "    <tr>\n",
       "      <th>4</th>\n",
       "      <td>637378788</td>\n",
       "      <td>dish</td>\n",
       "      <td>рыба</td>\n",
       "      <td>0.004578</td>\n",
       "      <td>2</td>\n",
       "    </tr>\n",
       "    <tr>\n",
       "      <th>...</th>\n",
       "      <td>...</td>\n",
       "      <td>...</td>\n",
       "      <td>...</td>\n",
       "      <td>...</td>\n",
       "      <td>...</td>\n",
       "    </tr>\n",
       "    <tr>\n",
       "      <th>2417</th>\n",
       "      <td>2380098536</td>\n",
       "      <td>dish</td>\n",
       "      <td>суп</td>\n",
       "      <td>0.002619</td>\n",
       "      <td>8</td>\n",
       "    </tr>\n",
       "    <tr>\n",
       "      <th>2418</th>\n",
       "      <td>2381688980</td>\n",
       "      <td>dish</td>\n",
       "      <td>бургер</td>\n",
       "      <td>0.034733</td>\n",
       "      <td>6</td>\n",
       "    </tr>\n",
       "    <tr>\n",
       "      <th>2419</th>\n",
       "      <td>2381688980</td>\n",
       "      <td>dish</td>\n",
       "      <td>котлета</td>\n",
       "      <td>-0.033366</td>\n",
       "      <td>4</td>\n",
       "    </tr>\n",
       "    <tr>\n",
       "      <th>2420</th>\n",
       "      <td>2381688980</td>\n",
       "      <td>dish</td>\n",
       "      <td>стейк</td>\n",
       "      <td>0.003437</td>\n",
       "      <td>2</td>\n",
       "    </tr>\n",
       "    <tr>\n",
       "      <th>2421</th>\n",
       "      <td>2381688980</td>\n",
       "      <td>dish</td>\n",
       "      <td>суп</td>\n",
       "      <td>0.027122</td>\n",
       "      <td>8</td>\n",
       "    </tr>\n",
       "  </tbody>\n",
       "</table>\n",
       "<p>2422 rows × 5 columns</p>\n",
       "</div>"
      ],
      "text/plain": [
       "       global_id aspect     value  sentiment  count\n",
       "0      637378788   dish    бургер   0.014207      5\n",
       "1      637378788   dish   котлета   0.028585      8\n",
       "2      637378788   dish  креветка   0.005324      8\n",
       "3      637378788   dish      пиво   0.020495      2\n",
       "4      637378788   dish      рыба   0.004578      2\n",
       "...          ...    ...       ...        ...    ...\n",
       "2417  2380098536   dish       суп   0.002619      8\n",
       "2418  2381688980   dish    бургер   0.034733      6\n",
       "2419  2381688980   dish   котлета  -0.033366      4\n",
       "2420  2381688980   dish     стейк   0.003437      2\n",
       "2421  2381688980   dish       суп   0.027122      8\n",
       "\n",
       "[2422 rows x 5 columns]"
      ]
     },
     "execution_count": 69,
     "metadata": {},
     "output_type": "execute_result"
    }
   ],
   "source": [
    "df_named_aspects"
   ]
  },
  {
   "cell_type": "code",
   "execution_count": 73,
   "metadata": {},
   "outputs": [],
   "source": [
    "df_aspects = df_aspects.assign(fname=\"fname\")"
   ]
  },
  {
   "cell_type": "code",
   "execution_count": 74,
   "metadata": {},
   "outputs": [],
   "source": [
    "rating = df_aspects.groupby([\"global_id\", \"fname\"], as_index=False).rating.mean()"
   ]
  },
  {
   "cell_type": "code",
   "execution_count": 78,
   "metadata": {},
   "outputs": [],
   "source": [
    "from scipy.stats import boxcox\n",
    "from sklearn.preprocessing import scale\n",
    "\n",
    "from pandas import Series\n",
    "from numpy import ndarray\n",
    "from typing import Union\n",
    "\n",
    "def boxcox_normalize(\n",
    "    data: Union[Series, ndarray], add_one: bool = False\n",
    ") -> Union[Series, ndarray]:\n",
    "    if add_one:\n",
    "        bx, _ = boxcox(data + 1)\n",
    "    else:\n",
    "        bx, _ = boxcox(data)\n",
    "    bx_scaled = scale(bx)\n",
    "\n",
    "    if isinstance(data, Series):\n",
    "        return Series(bx_scaled, data.index, name=data.name)\n",
    "    else:\n",
    "        return bx_scaled"
   ]
  },
  {
   "cell_type": "code",
   "execution_count": 81,
   "metadata": {},
   "outputs": [],
   "source": [
    "rating[\"rating_boxcox_scaled\"] = rating.groupby([\"fname\"]).rating.apply(boxcox_normalize)"
   ]
  },
  {
   "cell_type": "code",
   "execution_count": 84,
   "metadata": {},
   "outputs": [
    {
     "data": {
      "text/plain": [
       "<AxesSubplot:>"
      ]
     },
     "execution_count": 84,
     "metadata": {},
     "output_type": "execute_result"
    },
    {
     "data": {
      "image/png": "[encoded data removed]",
      "text/plain": [
       "<Figure size 640x480 with 1 Axes>"
      ]
     },
     "metadata": {},
     "output_type": "display_data"
    }
   ],
   "source": [
    "rating[\"rating_boxcox_scaled\"].hist()"
   ]
  },
  {
   "cell_type": "code",
   "execution_count": 85,
   "metadata": {},
   "outputs": [],
   "source": [
    "rating_mean = rating.groupby(\"global_id\", as_index=False).rating.mean()"
   ]
  },
  {
   "cell_type": "code",
   "execution_count": 86,
   "metadata": {},
   "outputs": [
    {
     "data": {
      "text/html": [
       "<div>\n",
       "<style scoped>\n",
       "    .dataframe tbody tr th:only-of-type {\n",
       "        vertical-align: middle;\n",
       "    }\n",
       "\n",
       "    .dataframe tbody tr th {\n",
       "        vertical-align: top;\n",
       "    }\n",
       "\n",
       "    .dataframe thead th {\n",
       "        text-align: right;\n",
       "    }\n",
       "</style>\n",
       "<table border=\"1\" class=\"dataframe\">\n",
       "  <thead>\n",
       "    <tr style=\"text-align: right;\">\n",
       "      <th></th>\n",
       "      <th>global_id</th>\n",
       "      <th>rating</th>\n",
       "    </tr>\n",
       "  </thead>\n",
       "  <tbody>\n",
       "    <tr>\n",
       "      <th>0</th>\n",
       "      <td>637378788</td>\n",
       "      <td>2.750</td>\n",
       "    </tr>\n",
       "    <tr>\n",
       "      <th>1</th>\n",
       "      <td>637378925</td>\n",
       "      <td>2.500</td>\n",
       "    </tr>\n",
       "    <tr>\n",
       "      <th>2</th>\n",
       "      <td>637381780</td>\n",
       "      <td>3.875</td>\n",
       "    </tr>\n",
       "    <tr>\n",
       "      <th>3</th>\n",
       "      <td>637382252</td>\n",
       "      <td>4.000</td>\n",
       "    </tr>\n",
       "    <tr>\n",
       "      <th>4</th>\n",
       "      <td>637382410</td>\n",
       "      <td>4.500</td>\n",
       "    </tr>\n",
       "    <tr>\n",
       "      <th>...</th>\n",
       "      <td>...</td>\n",
       "      <td>...</td>\n",
       "    </tr>\n",
       "    <tr>\n",
       "      <th>425</th>\n",
       "      <td>2375784319</td>\n",
       "      <td>2.500</td>\n",
       "    </tr>\n",
       "    <tr>\n",
       "      <th>426</th>\n",
       "      <td>2375784324</td>\n",
       "      <td>4.500</td>\n",
       "    </tr>\n",
       "    <tr>\n",
       "      <th>427</th>\n",
       "      <td>2375784440</td>\n",
       "      <td>4.750</td>\n",
       "    </tr>\n",
       "    <tr>\n",
       "      <th>428</th>\n",
       "      <td>2380098536</td>\n",
       "      <td>1.250</td>\n",
       "    </tr>\n",
       "    <tr>\n",
       "      <th>429</th>\n",
       "      <td>2381688980</td>\n",
       "      <td>3.000</td>\n",
       "    </tr>\n",
       "  </tbody>\n",
       "</table>\n",
       "<p>430 rows × 2 columns</p>\n",
       "</div>"
      ],
      "text/plain": [
       "      global_id  rating\n",
       "0     637378788   2.750\n",
       "1     637378925   2.500\n",
       "2     637381780   3.875\n",
       "3     637382252   4.000\n",
       "4     637382410   4.500\n",
       "..          ...     ...\n",
       "425  2375784319   2.500\n",
       "426  2375784324   4.500\n",
       "427  2375784440   4.750\n",
       "428  2380098536   1.250\n",
       "429  2381688980   3.000\n",
       "\n",
       "[430 rows x 2 columns]"
      ]
     },
     "execution_count": 86,
     "metadata": {},
     "output_type": "execute_result"
    }
   ],
   "source": [
    "rating_mean"
   ]
  },
  {
   "cell_type": "code",
   "execution_count": null,
   "metadata": {},
   "outputs": [],
   "source": []
  }
 ],
 "metadata": {
  "interpreter": {
   "hash": "f24a6e0d93fe0a55285c6b9d9948eb5f7b834c33dfd9558071a96849217f8064"
  },
  "kernelspec": {
   "display_name": "Python 3.8.5 ('src-rest-uVfVgev0-py3.8')",
   "language": "python",
   "name": "python3"
  },
  "language_info": {
   "codemirror_mode": {
    "name": "ipython",
    "version": 3
   },
   "file_extension": ".py",
   "mimetype": "text/x-python",
   "name": "python",
   "nbconvert_exporter": "python",
   "pygments_lexer": "ipython3",
   "version": "3.8.5"
  },
  "orig_nbformat": 4
 },
 "nbformat": 4,
 "nbformat_minor": 2
}
